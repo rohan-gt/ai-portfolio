{
 "cells": [
  {
   "cell_type": "code",
   "execution_count": 1,
   "metadata": {
    "collapsed": true
   },
   "outputs": [],
   "source": [
    "from sympy import init_printing, symbols, Matrix\n",
    "from warnings import filterwarnings"
   ]
  },
  {
   "cell_type": "code",
   "execution_count": 2,
   "metadata": {
    "collapsed": true
   },
   "outputs": [],
   "source": [
    "init_printing(use_latex=\"mathjax\")\n",
    "filterwarnings(\"ignore\")"
   ]
  },
  {
   "cell_type": "code",
   "execution_count": 3,
   "metadata": {
    "collapsed": true
   },
   "outputs": [],
   "source": [
    "x, y = symbols(\"x y\")"
   ]
  },
  {
   "cell_type": "markdown",
   "metadata": {},
   "source": [
    "# Determinant formulas and cofactors\n",
    "# Tridiagonal matrices"
   ]
  },
  {
   "cell_type": "markdown",
   "metadata": {},
   "source": [
    "## Creating an equation for the determinant of a 2&#215;2 matrix"
   ]
  },
  {
   "cell_type": "markdown",
   "metadata": {},
   "source": [
    "* Using just the three main properties from the previous lecture and knowing that the determinant of a matrix with a column of zero's is zero we have the following\n",
    "$$ \\begin{vmatrix} a & b \\\\ c & d \\end{vmatrix}=\\begin{vmatrix} a & 0 \\\\ c & d \\end{vmatrix}+\\begin{vmatrix} 0 & b \\\\ c & d \\end{vmatrix}\\\\ =\\begin{vmatrix} a & 0 \\\\ c & 0 \\end{vmatrix}+\\begin{vmatrix} a & 0 \\\\ 0 & d \\end{vmatrix}+\\begin{vmatrix} 0 & b \\\\ c & 0 \\end{vmatrix}+\\begin{vmatrix} 0 & b \\\\ 0 & d \\end{vmatrix}\\\\ \\because \\quad \\begin{vmatrix} a & 0 \\\\ c & 0 \\end{vmatrix}=\\begin{vmatrix} 0 & b \\\\ 0 & d \\end{vmatrix}=0\\\\ \\begin{vmatrix} a & 0 \\\\ 0 & d \\end{vmatrix}+\\begin{vmatrix} 0 & b \\\\ c & 0 \\end{vmatrix}\\\\ =\\begin{vmatrix} a & 0 \\\\ 0 & d \\end{vmatrix}-\\begin{vmatrix} c & 0 \\\\ 0 & b \\end{vmatrix}\\\\ =ad-bc $$"
   ]
  },
  {
   "cell_type": "markdown",
   "metadata": {},
   "source": [
    "## Creating an equation for the determinant of a 3&#215;3 matrix"
   ]
  },
  {
   "cell_type": "markdown",
   "metadata": {},
   "source": [
    "* By the method above, this will create a lot of matrices\n",
    "* We need to figure out which ones remain, i.e. do not have columns of zeros\n",
    "* Note carefully that we just keep those with at least one element from each row and column\n",
    "$$ \\begin{vmatrix} { a }_{ 11 } & { a }_{ 12 } & { a }_{ 13 } \\\\ { a }_{ 21 } & { a }_{ 22 } & { a }_{ 23 } \\\\ { a }_{ 31 } & { a }_{ 32 } & { a }_{ 33 } \\end{vmatrix} \\\\ =\\begin{vmatrix} { a }_{ 11 } & 0 & 0 \\\\ 0 & { a }_{ 22 } & 0 \\\\ 0 & 0 & { a }_{ 33 } \\end{vmatrix}+\\begin{vmatrix} { a }_{ 11 } & 0 & 0 \\\\ 0 & 0 & { a }_{ 23 } \\\\ 0 & { a }_{ 32 } & 0 \\end{vmatrix}+\\begin{vmatrix} 0 & { a }_{ 12 } & 0 \\\\ { a }_{ 21 } & 0 & 0 \\\\ 0 & 0 & { a }_{ 33 } \\end{vmatrix}+\\begin{vmatrix} 0 & { a }_{ 12 } & 0 \\\\ 0 & 0 & { a }_{ 23 } \\\\ { a }_{ 31 } & 0 & 0 \\end{vmatrix}+\\begin{vmatrix} 0 & 0 & { a }_{ 13 } \\\\ { a }_{ 21 } & 0 & 0 \\\\ 0 & { a }_{ 32 } & 0 \\end{vmatrix}+\\begin{vmatrix} 0 & 0 & { a }_{ 13 } \\\\ 0 & { a }_{ 22 } & 0 \\\\ { a }_{ 31 } & 0 & 0 \\end{vmatrix}\\\\ ={ a }_{ 11 }{ a }_{ 22 }{ a }_{ 33 }-{ a }_{ 11 }{ a }_{ 23 }{ a }_{ 32 }-{ a }_{ 12 }{ a }_{ 21 }{ a }_{ 33 }+{ a }_{ 12 }{ a }_{ 23 }{ a }_{ 31 }+{ a }_{ 13 }{ a }_{ 21 }{ a }_{ 32 }-{ a }_{ 13 }{ a }_{ 22 }{ a }_{ 31 } $$"
   ]
  },
  {
   "cell_type": "markdown",
   "metadata": {},
   "source": [
    "## Creating an equation for the determinant of a *n* &#215; *n* matrix"
   ]
  },
  {
   "cell_type": "markdown",
   "metadata": {},
   "source": [
    "* We will have *n*! terms, half of which is positive and the other half negative\n",
    "* We have *n* because for the first row we have *n* positions to choose from, the for the second lot we have *n*-1 and so on\n",
    "$$ \\left| A \\right| =\\sum { \\pm { a }_{ 1\\alpha  }{ a }_{ 2\\beta  }{ a }_{ 3\\gamma  }...{ a }_{ n\\omega  } }  $$\n",
    "* This holds for permuations of the columns (each used only once)\n",
    "$$ \\left( \\alpha ,\\beta ,\\gamma ,\\delta ,\\dots ,\\omega  \\right) =\\left( 1,2,3,4,\\dots ,n \\right)  $$"
   ]
  },
  {
   "cell_type": "markdown",
   "metadata": {},
   "source": [
    "* Consider this example\n",
    "$$ \\begin{bmatrix} 0 & 0 & 1 & 1 \\\\ 0 & 1 & 1 & 0 \\\\ 1 & 1 & 0 & 0 \\\\ 1 & 0  & 0 & 1 \\end{bmatrix} $$"
   ]
  },
  {
   "cell_type": "markdown",
   "metadata": {},
   "source": [
    "* Successively choosing a single element from each column (using column numbers for the Greek symbols above), we get the following permutations (note their sign as we interchange the numbers to follow in order 1 2 3 4\n",
    "    * (4,3,2,1) = (1,2,3,4) Two *swaps*\n",
    "    * (3,2,1,4) = -(1,2,3,4) One *swap*\n",
    "    * That is it!\n",
    "    * So we have 1 - 1 = 0\n",
    "* Note that in this example of a 4&#215;4 matrix a lot of the permutations would have a zero in the, so we won't end up with 4! = 24 permutations"
   ]
  },
  {
   "cell_type": "code",
   "execution_count": 4,
   "metadata": {
    "collapsed": false
   },
   "outputs": [
    {
     "data": {
      "text/latex": [
       "$\\displaystyle \\left[\\begin{matrix}0 & 0 & 1 & 1\\\\0 & 1 & 1 & 0\\\\1 & 1 & 0 & 0\\\\1 & 0 & 0 & 1\\end{matrix}\\right]$"
      ],
      "text/plain": [
       "⎡0  0  1  1⎤\n",
       "⎢          ⎥\n",
       "⎢0  1  1  0⎥\n",
       "⎢          ⎥\n",
       "⎢1  1  0  0⎥\n",
       "⎢          ⎥\n",
       "⎣1  0  0  1⎦"
      ]
     },
     "execution_count": 4,
     "metadata": {},
     "output_type": "execute_result"
    }
   ],
   "source": [
    "A = Matrix([[0, 0, 1, 1], [0, 1, 1, 0], [1, 1, 0, 0], [1, 0, 0, 1]])\n",
    "A"
   ]
  },
  {
   "cell_type": "code",
   "execution_count": 5,
   "metadata": {
    "collapsed": false
   },
   "outputs": [
    {
     "data": {
      "text/latex": [
       "$\\displaystyle 0$"
      ],
      "text/plain": [
       "0"
      ]
     },
     "execution_count": 5,
     "metadata": {},
     "output_type": "execute_result"
    }
   ],
   "source": [
    "A.det()"
   ]
  },
  {
   "cell_type": "markdown",
   "metadata": {},
   "source": [
    "* We could have seen that this matrix is singular by noting that some combination of rows give identical rows and then by subtraction, a row of zero"
   ]
  },
  {
   "cell_type": "code",
   "execution_count": 6,
   "metadata": {
    "collapsed": false
   },
   "outputs": [
    {
     "data": {
      "text/latex": [
       "$\\displaystyle \\left( \\left[\\begin{matrix}1 & 0 & 0 & 1\\\\0 & 1 & 0 & -1\\\\0 & 0 & 1 & 1\\\\0 & 0 & 0 & 0\\end{matrix}\\right], \\  \\left( 0, \\  1, \\  2\\right)\\right)$"
      ],
      "text/plain": [
       "⎛⎡1  0  0  1 ⎤           ⎞\n",
       "⎜⎢           ⎥           ⎟\n",
       "⎜⎢0  1  0  -1⎥           ⎟\n",
       "⎜⎢           ⎥, (0, 1, 2)⎟\n",
       "⎜⎢0  0  1  1 ⎥           ⎟\n",
       "⎜⎢           ⎥           ⎟\n",
       "⎝⎣0  0  0  0 ⎦           ⎠"
      ]
     },
     "execution_count": 6,
     "metadata": {},
     "output_type": "execute_result"
    }
   ],
   "source": [
    "A.rref()"
   ]
  },
  {
   "cell_type": "markdown",
   "metadata": {},
   "source": [
    "## Cofactors of a 3&#215;3 matrix"
   ]
  },
  {
   "cell_type": "markdown",
   "metadata": {},
   "source": [
    "* Start with the equation above\n",
    "$$ { a }_{ 11 }{ a }_{ 22 }{ a }_{ 33 }-{ a }_{ 11 }{ a }_{ 23 }{ a }_{ 32 }-{ a }_{ 12 }{ a }_{ 21 }{ a }_{ 33 }+{ a }_{ 12 }{ a }_{ 23 }{ a }_{ 31 }+{ a }_{ 13 }{ a }_{ 21 }{ a }_{ 32 }-{ a }_{ 13 }{ a }_{ 22 }{ a }_{ 31 } \\\\ ={ a }_{ 11 }\\left( { a }_{ 22 }{ a }_{ 33 }-{ a }_{ 23 }{ a }_{ 32 } \\right) +{ a }_{ 12 }\\left( -{ a }_{ 21 }{ a }_{ 33 }+{ a }_{ 23 }{ a }_{ 31 } \\right) +{ a }_{ 13 }\\left( { a }_{ 21 }{ a }_{ 32 }-{ a }_{ 22 }{ a }_{ 31 } \\right)  $$\n",
    "* The cofactors are in parentheses and are the 2&#215;2 submatrix determinants\n",
    "* They signify the determinant of a smaller (*n*-1) matrix with some sign problems, i.e. some are positive the determinant and some are negative the determinant\n",
    "* We are especially interested here in row one, but any row (or even column) will do\n",
    "* So for any *a*<sub>ij</sub> the cofactor is the &#177; determinant of the *n*-1 matrix with its *i* row and *j* column erased\n",
    "* For the sign, if *i* + *j* is even, the sign is positive and if it is odd, then the sign is negative\n",
    "* So the cofactor of *a*<sub>ij</sub> = C<sub>ij</sub>"
   ]
  },
  {
   "cell_type": "markdown",
   "metadata": {},
   "source": [
    "* For rows we have\n",
    "$$ { \\left| A \\right|  }_{ i }=\\sum _{ k=1 }^{ n }{ { a }_{ ik }{ C }_{ ik } }  $$"
   ]
  },
  {
   "cell_type": "markdown",
   "metadata": {},
   "source": [
    "## Diagonal matrices"
   ]
  },
  {
   "cell_type": "markdown",
   "metadata": {},
   "source": [
    "* Calculate\n",
    "$$ \\left| { A }_{ 1 } \\right|  $$"
   ]
  },
  {
   "cell_type": "code",
   "execution_count": 7,
   "metadata": {
    "collapsed": false
   },
   "outputs": [
    {
     "data": {
      "text/latex": [
       "$\\displaystyle \\left[\\begin{matrix}1\\end{matrix}\\right]$"
      ],
      "text/plain": [
       "[1]"
      ]
     },
     "execution_count": 7,
     "metadata": {},
     "output_type": "execute_result"
    }
   ],
   "source": [
    "A = Matrix([1])\n",
    "A"
   ]
  },
  {
   "cell_type": "code",
   "execution_count": 8,
   "metadata": {
    "collapsed": false
   },
   "outputs": [
    {
     "data": {
      "text/latex": [
       "$\\displaystyle 1$"
      ],
      "text/plain": [
       "1"
      ]
     },
     "execution_count": 8,
     "metadata": {},
     "output_type": "execute_result"
    }
   ],
   "source": [
    "A.det()"
   ]
  },
  {
   "cell_type": "markdown",
   "metadata": {},
   "source": [
    "* Calculate\n",
    "$$ \\left| { A }_{ 2 } \\right|  $$"
   ]
  },
  {
   "cell_type": "code",
   "execution_count": 9,
   "metadata": {
    "collapsed": false
   },
   "outputs": [
    {
     "data": {
      "text/latex": [
       "$\\displaystyle \\left[\\begin{matrix}1 & 1\\\\1 & 1\\end{matrix}\\right]$"
      ],
      "text/plain": [
       "⎡1  1⎤\n",
       "⎢    ⎥\n",
       "⎣1  1⎦"
      ]
     },
     "execution_count": 9,
     "metadata": {},
     "output_type": "execute_result"
    }
   ],
   "source": [
    "A = Matrix([[1, 1], [1, 1]])\n",
    "A"
   ]
  },
  {
   "cell_type": "code",
   "execution_count": 10,
   "metadata": {
    "collapsed": false
   },
   "outputs": [
    {
     "data": {
      "text/latex": [
       "$\\displaystyle 0$"
      ],
      "text/plain": [
       "0"
      ]
     },
     "execution_count": 10,
     "metadata": {},
     "output_type": "execute_result"
    }
   ],
   "source": [
    "A.det()"
   ]
  },
  {
   "cell_type": "markdown",
   "metadata": {},
   "source": [
    "* Calculate\n",
    "$$ \\left| { A }_{ 3 } \\right|  $$"
   ]
  },
  {
   "cell_type": "code",
   "execution_count": 11,
   "metadata": {
    "collapsed": false
   },
   "outputs": [
    {
     "data": {
      "text/latex": [
       "$\\displaystyle \\left[\\begin{matrix}1 & 1 & 0\\\\1 & 1 & 1\\\\0 & 1 & 1\\end{matrix}\\right]$"
      ],
      "text/plain": [
       "⎡1  1  0⎤\n",
       "⎢       ⎥\n",
       "⎢1  1  1⎥\n",
       "⎢       ⎥\n",
       "⎣0  1  1⎦"
      ]
     },
     "execution_count": 11,
     "metadata": {},
     "output_type": "execute_result"
    }
   ],
   "source": [
    "A = Matrix([[1, 1, 0], [1, 1, 1], [0, 1, 1]])\n",
    "A"
   ]
  },
  {
   "cell_type": "markdown",
   "metadata": {},
   "source": [
    "* By the cofactor equation above\n",
    "$$ { \\left| A \\right|  }_{ i }=\\sum _{ k=1 }^{ n }{ { a }_{ ik }{ C }_{ ik } } \\\\ { \\left| A \\right|  }_{ 1 }={ a }_{ 11 }{ C }_{ 11 }+{ a }_{ 12 }{ C }_{ 12 }+{ a }_{ 13 }{ C }_{ 13 }\\\\ { C }_{ ij }\\rightarrow +;\\left( i+j \\right) \\in 2n\\\\ { C }_{ ij }\\rightarrow -;\\left( i+j \\right) \\in 2n+1\\\\ { \\left| A \\right|  }_{ 1 }=1\\left( 0 \\right) -1\\left( 1 \\right) +0\\left( 1 \\right) =-1 $$"
   ]
  },
  {
   "cell_type": "code",
   "execution_count": 12,
   "metadata": {
    "collapsed": false
   },
   "outputs": [
    {
     "data": {
      "text/latex": [
       "$\\displaystyle -1$"
      ],
      "text/plain": [
       "-1"
      ]
     },
     "execution_count": 12,
     "metadata": {},
     "output_type": "execute_result"
    }
   ],
   "source": [
    "A.det()"
   ]
  },
  {
   "cell_type": "markdown",
   "metadata": {},
   "source": [
    "* Calculate\n",
    "$$ \\left| { A }_{ 4 } \\right|  $$"
   ]
  },
  {
   "cell_type": "code",
   "execution_count": 13,
   "metadata": {
    "collapsed": false
   },
   "outputs": [
    {
     "data": {
      "text/latex": [
       "$\\displaystyle \\left[\\begin{matrix}1 & 1 & 0 & 0\\\\1 & 1 & 1 & 0\\\\0 & 1 & 1 & 1\\\\0 & 0 & 1 & 1\\end{matrix}\\right]$"
      ],
      "text/plain": [
       "⎡1  1  0  0⎤\n",
       "⎢          ⎥\n",
       "⎢1  1  1  0⎥\n",
       "⎢          ⎥\n",
       "⎢0  1  1  1⎥\n",
       "⎢          ⎥\n",
       "⎣0  0  1  1⎦"
      ]
     },
     "execution_count": 13,
     "metadata": {},
     "output_type": "execute_result"
    }
   ],
   "source": [
    "A = Matrix([[1, 1, 0, 0], [1, 1, 1, 0], [0, 1, 1, 1], [0, 0, 1, 1]])\n",
    "A"
   ]
  },
  {
   "cell_type": "code",
   "execution_count": 14,
   "metadata": {
    "collapsed": false
   },
   "outputs": [
    {
     "data": {
      "text/latex": [
       "$\\displaystyle -1$"
      ],
      "text/plain": [
       "-1"
      ]
     },
     "execution_count": 14,
     "metadata": {},
     "output_type": "execute_result"
    }
   ],
   "source": [
    "A.det()"
   ]
  },
  {
   "cell_type": "markdown",
   "metadata": {},
   "source": [
    "* Continuing on this path of tridiagonal matrices we have\n",
    "$$ \\left| { A }_{ n } \\right| =\\left| { A }_{ n-1 } \\right| -\\left| { A }_{ n-2 } \\right|  $$"
   ]
  },
  {
   "cell_type": "markdown",
   "metadata": {},
   "source": [
    "* We would thus have\n",
    "$$ \\left| { A }_{ 5 } \\right| =\\left| { A }_{ 4 } \\right| -\\left| { A }_{ 3 } \\right| \\\\ \\left| { A }_{ 5 } \\right| =-1-\\left( -1 \\right) =0 \\\\ \\left| { A }_{ 6 } \\right| =\\left| { A }_{ 5 } \\right| -\\left| { A }_{ 4 } \\right| \\\\ \\left| { A }_{ 6 } \\right| =0-\\left( -1 \\right) =1 $$\n",
    "* We note that A<sub>7</sub> starts the sequence all over again\n",
    "* Tridiagonal matrices have determinants of period 6"
   ]
  },
  {
   "cell_type": "markdown",
   "metadata": {},
   "source": [
    "## Example problems"
   ]
  },
  {
   "cell_type": "markdown",
   "metadata": {},
   "source": [
    "### Example problem 1"
   ]
  },
  {
   "cell_type": "markdown",
   "metadata": {},
   "source": [
    "* Calculate the determinant of the following matrix"
   ]
  },
  {
   "cell_type": "code",
   "execution_count": 15,
   "metadata": {
    "collapsed": false
   },
   "outputs": [
    {
     "data": {
      "text/latex": [
       "$\\displaystyle \\left[\\begin{matrix}x & y & 0 & 0 & 0\\\\0 & x & y & 0 & 0\\\\0 & 0 & x & y & 0\\\\0 & 0 & 0 & x & y\\\\y & 0 & 0 & 0 & x\\end{matrix}\\right]$"
      ],
      "text/plain": [
       "⎡x  y  0  0  0⎤\n",
       "⎢             ⎥\n",
       "⎢0  x  y  0  0⎥\n",
       "⎢             ⎥\n",
       "⎢0  0  x  y  0⎥\n",
       "⎢             ⎥\n",
       "⎢0  0  0  x  y⎥\n",
       "⎢             ⎥\n",
       "⎣y  0  0  0  x⎦"
      ]
     },
     "execution_count": 15,
     "metadata": {},
     "output_type": "execute_result"
    }
   ],
   "source": [
    "A = Matrix(\n",
    "    [\n",
    "        [\n",
    "            x,\n",
    "            y,\n",
    "            0,\n",
    "            0,\n",
    "            0,\n",
    "        ],\n",
    "        [0, x, y, 0, 0],\n",
    "        [0, 0, x, y, 0],\n",
    "        [0, 0, 0, x, y],\n",
    "        [y, 0, 0, 0, x],\n",
    "    ]\n",
    ")\n",
    "A"
   ]
  },
  {
   "cell_type": "code",
   "execution_count": 16,
   "metadata": {
    "collapsed": false
   },
   "outputs": [
    {
     "data": {
      "text/latex": [
       "$\\displaystyle x^{5} + y^{5}$"
      ],
      "text/plain": [
       " 5    5\n",
       "x  + y "
      ]
     },
     "execution_count": 16,
     "metadata": {},
     "output_type": "execute_result"
    }
   ],
   "source": [
    "A.det()"
   ]
  },
  {
   "cell_type": "markdown",
   "metadata": {},
   "source": [
    "#### Solution"
   ]
  },
  {
   "cell_type": "markdown",
   "metadata": {},
   "source": [
    "* Note how first selecting row 1's *x* and the *y* leaves triangular matrices in the remaining (*n*-1)&#215;(*n*-1) matrix\n",
    "* These form cofactors and their determinant are simply the product of the entries along the main diagonal\n",
    "* We simply have to remember the sign rule, which well be (-1)<sup>(5+1)</sup>\n",
    "$$ \\left| { A } \\right| =x\\left( { x }^{ 4 } \\right) +y\\left( { y }^{ 4 } \\right) ={ x }^{ 5 }+{ y }^{ 5 } $$"
   ]
  },
  {
   "cell_type": "markdown",
   "metadata": {},
   "source": [
    "### Example problem 2"
   ]
  },
  {
   "cell_type": "code",
   "execution_count": 17,
   "metadata": {
    "collapsed": false
   },
   "outputs": [
    {
     "data": {
      "text/latex": [
       "$\\displaystyle \\left[\\begin{matrix}x & y & y & y & y\\\\y & x & y & y & y\\\\y & y & x & y & y\\\\y & y & y & x & y\\\\y & y & y & y & x\\end{matrix}\\right]$"
      ],
      "text/plain": [
       "⎡x  y  y  y  y⎤\n",
       "⎢             ⎥\n",
       "⎢y  x  y  y  y⎥\n",
       "⎢             ⎥\n",
       "⎢y  y  x  y  y⎥\n",
       "⎢             ⎥\n",
       "⎢y  y  y  x  y⎥\n",
       "⎢             ⎥\n",
       "⎣y  y  y  y  x⎦"
      ]
     },
     "execution_count": 17,
     "metadata": {},
     "output_type": "execute_result"
    }
   ],
   "source": [
    "A = Matrix(\n",
    "    [\n",
    "        [x, y, y, y, y],\n",
    "        [y, x, y, y, y],\n",
    "        [y, y, x, y, y],\n",
    "        [y, y, y, x, y],\n",
    "        [y, y, y, y, x],\n",
    "    ]\n",
    ")\n",
    "A"
   ]
  },
  {
   "cell_type": "markdown",
   "metadata": {},
   "source": [
    "#### Solution"
   ]
  },
  {
   "cell_type": "code",
   "execution_count": 18,
   "metadata": {
    "collapsed": false
   },
   "outputs": [
    {
     "data": {
      "text/latex": [
       "$\\displaystyle x^{5} - 10 x^{3} y^{2} + 20 x^{2} y^{3} - 15 x y^{4} + 4 y^{5}$"
      ],
      "text/plain": [
       " 5       3  2       2  3         4      5\n",
       "x  - 10⋅x ⋅y  + 20⋅x ⋅y  - 15⋅x⋅y  + 4⋅y "
      ]
     },
     "execution_count": 18,
     "metadata": {},
     "output_type": "execute_result"
    }
   ],
   "source": [
    "A.det()"
   ]
  },
  {
   "cell_type": "code",
   "execution_count": 19,
   "metadata": {
    "collapsed": false
   },
   "outputs": [
    {
     "data": {
      "text/latex": [
       "$\\displaystyle \\left(x - y\\right)^{4} \\left(x + 4 y\\right)$"
      ],
      "text/plain": [
       "       4          \n",
       "(x - y) ⋅(x + 4⋅y)"
      ]
     },
     "execution_count": 19,
     "metadata": {},
     "output_type": "execute_result"
    }
   ],
   "source": [
    "(A.det()).factor()"
   ]
  },
  {
   "cell_type": "markdown",
   "metadata": {
    "collapsed": true
   },
   "source": [
    "* Note that we can introduce many zero entry by the elementary row operation of subtracting one row from another\n",
    "* Let's subtract row 4 from row 5\n",
    "$$ \\begin{bmatrix} x & y & y & y & y \\\\ y & x & y & y & y \\\\ y & y & x & y & y \\\\ y & y & y & x & y \\\\ 0 & 0 & 0 & y-x & x - y \\end{bmatrix} $$"
   ]
  },
  {
   "cell_type": "markdown",
   "metadata": {},
   "source": [
    "* Now subtract row 3 from 4\n",
    "$$ \\begin{bmatrix} x & y & y & y & y \\\\ y & x & y & y & y \\\\ y & y & x & y & y \\\\ 0 & 0 & y-x & x-y & 0 \\\\ 0 & 0 & 0 & y-x & x - y \\end{bmatrix} $$"
   ]
  },
  {
   "cell_type": "markdown",
   "metadata": {},
   "source": [
    "* Subtract 2 from 3\n",
    "$$ \\begin{bmatrix} x & y & y & y & y \\\\ y & x & y & y & y \\\\ 0 & y-x & x-y & 0 & 0 \\\\ 0 & 0 & y-x & x-y & 0 \\\\ 0 & 0 & 0 & y-x & x - y \\end{bmatrix} $$\n",
    "* ... and 1 from 2\n",
    "$$ \\begin{bmatrix} x & y & y & y & y \\\\ y-x & x-y & 0 & 0 & 0 \\\\ 0 & y-x & x-y & 0 & 0 \\\\ 0 & 0 & y-x & x-y & 0 \\\\ 0 & 0 & 0 & y-x & x - y \\end{bmatrix} $$"
   ]
  },
  {
   "cell_type": "markdown",
   "metadata": {
    "collapsed": true
   },
   "source": [
    "* Now consider some column operations, adding the 5th column to the fourth column and then 4<sup>th</sup> to 3<sup>rd</sup> etc...\n",
    "* This will introduce new non-zero entries, though\n",
    "* These can be changed back to a zero by adding the 5<sup>/th</sup> column and the 4<sup>th</sup> to the 3<sup>rd</sup>\n",
    "* Then columns 5, 4, 3 to 2, etc...\n",
    "$$ \\begin{bmatrix} x+4y & 4y & 3y & 2y & y \\\\ 0 & x-y & 0 & 0 & 0 \\\\ 0 & 0 & x-y & 0 & 0 \\\\ 0 & 0 &  & x-y & 0 \\\\ 0 & 0 & 0 & 0 & x - y \\end{bmatrix} $$"
   ]
  },
  {
   "cell_type": "markdown",
   "metadata": {},
   "source": [
    "* This is upper triangular and the determinant is the product of the entries on the main diagonal"
   ]
  },
  {
   "cell_type": "code",
   "execution_count": 20,
   "metadata": {
    "collapsed": false
   },
   "outputs": [
    {
     "data": {
      "text/latex": [
       "$\\displaystyle \\left(x - y\\right)^{4} \\left(x + 4 y\\right)$"
      ],
      "text/plain": [
       "       4          \n",
       "(x - y) ⋅(x + 4⋅y)"
      ]
     },
     "execution_count": 20,
     "metadata": {},
     "output_type": "execute_result"
    }
   ],
   "source": [
    "(x + 4 * y) * (x - y) ** 4"
   ]
  },
  {
   "cell_type": "code",
   "execution_count": 21,
   "metadata": {
    "collapsed": false
   },
   "outputs": [
    {
     "data": {
      "text/latex": [
       "$\\displaystyle x^{5} - 10 x^{3} y^{2} + 20 x^{2} y^{3} - 15 x y^{4} + 4 y^{5}$"
      ],
      "text/plain": [
       " 5       3  2       2  3         4      5\n",
       "x  - 10⋅x ⋅y  + 20⋅x ⋅y  - 15⋅x⋅y  + 4⋅y "
      ]
     },
     "execution_count": 21,
     "metadata": {},
     "output_type": "execute_result"
    }
   ],
   "source": [
    "((x + 4 * y) * (x - y) ** 4).expand()"
   ]
  },
  {
   "cell_type": "code",
   "execution_count": null,
   "metadata": {
    "collapsed": true
   },
   "outputs": [],
   "source": []
  }
 ],
 "metadata": {
  "kernelspec": {
   "display_name": "ai-portfolio",
   "language": "python",
   "name": "python3"
  },
  "language_info": {
   "codemirror_mode": {
    "name": "ipython",
    "version": 3
   },
   "file_extension": ".py",
   "mimetype": "text/x-python",
   "name": "python",
   "nbconvert_exporter": "python",
   "pygments_lexer": "ipython3",
   "version": "3.11.13"
  }
 },
 "nbformat": 4,
 "nbformat_minor": 0
}
