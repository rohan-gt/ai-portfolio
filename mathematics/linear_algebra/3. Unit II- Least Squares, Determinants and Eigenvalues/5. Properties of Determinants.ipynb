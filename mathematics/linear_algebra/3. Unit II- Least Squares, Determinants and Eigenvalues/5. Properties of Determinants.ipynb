{
 "cells": [
  {
   "cell_type": "code",
   "execution_count": 1,
   "metadata": {
    "collapsed": true
   },
   "outputs": [],
   "source": [
    "from sympy import init_printing, Matrix, symbols\n",
    "from IPython.display import HTML\n",
    "from warnings import filterwarnings"
   ]
  },
  {
   "cell_type": "code",
   "execution_count": 2,
   "metadata": {
    "collapsed": true
   },
   "outputs": [],
   "source": [
    "init_printing(use_latex=\"mathjax\")\n",
    "filterwarnings(\"ignore\")"
   ]
  },
  {
   "cell_type": "code",
   "execution_count": 3,
   "metadata": {
    "collapsed": true
   },
   "outputs": [],
   "source": [
    "a, b, c = symbols(\"a b c\")"
   ]
  },
  {
   "cell_type": "markdown",
   "metadata": {},
   "source": [
    "# Properties of the determinant"
   ]
  },
  {
   "cell_type": "markdown",
   "metadata": {},
   "source": [
    "## Notation"
   ]
  },
  {
   "cell_type": "markdown",
   "metadata": {},
   "source": [
    "* The determinant of a matrix A is written as det(A) or |A|"
   ]
  },
  {
   "cell_type": "markdown",
   "metadata": {},
   "source": [
    "## Main properties"
   ]
  },
  {
   "cell_type": "markdown",
   "metadata": {},
   "source": [
    "* There are three main properties (first three listed below) and seven that follow from them"
   ]
  },
  {
   "cell_type": "markdown",
   "metadata": {},
   "source": [
    "* det(I)=1\n",
    "* A row exchange changes the sign of the determinant\n",
    "    * We now know the determinant of every permutation matrix\n",
    "* Multiplying any row with a constant results in the determinant also being multiplied by that constant\n",
    "        * Only works when altering a single row (the determinant is a linear function of each row separately)\n",
    "        * An alternate way of seeing this is\n",
    "$$ \\begin{vmatrix} a+a' & b+b' \\\\ c & d \\end{vmatrix}=\\begin{vmatrix} a & b \\\\ c & d \\end{vmatrix}+\\begin{vmatrix} a' & b' \\\\ c & d \\end{vmatrix} $$\n",
    "* If two rows are equal then the determinant is zero\n",
    "    * This follows from property number two, where if we interchange rows the sign must change\n",
    "    * This only works for zero, since row exchange leaves the matrix unchanged, which now can't have a different determinant (opposite sign)\n",
    "* Subtracting a constant multiple of one row from another leaves the determinant unchanged\n",
    "    * This flows from property three above\n",
    "$$ \\begin{vmatrix} a & b \\\\ c-la & d-lb \\end{vmatrix}=\\begin{vmatrix} a & b \\\\ c & d \\end{vmatrix}+\\begin{vmatrix} a & b \\\\ -la & -lb \\end{vmatrix} $$\n",
    "    * From property four (determinant of matrix with two similar rows equal zero) we now have the following\n",
    "$$ =\\begin{vmatrix} a & b \\\\ c & d \\end{vmatrix}+\\left( -l \\right) \\begin{vmatrix} a & b \\\\ a & b \\end{vmatrix}\\\\ =\\begin{vmatrix} a & b \\\\ c & d \\end{vmatrix}+0\\\\ =\\begin{vmatrix} a & b \\\\ c & d \\end{vmatrix} $$\n",
    "* The determinant of a matrix with a complete row (or columns) of zero is zero\n",
    "    * This also follows from property three above, but multiplying a row by zero\n",
    "* The determinant of an upper triangular matrix is the product of the elements of the main diagonal (the pivots)\n",
    "    * Same goes for a diagonal matrix\n",
    "        * This helps us to develop the expression for the determinant of a 2&#215;2 matrix\n",
    "$$ \\begin{bmatrix} a & b \\\\ c & d \\end{bmatrix}\\\\ \\begin{bmatrix} \\frac { c }{ a } a & \\frac { c }{ a } b \\\\ c & d \\end{bmatrix}\\\\ \\begin{bmatrix} a & b \\\\ c-\\frac { c }{ a } a & d-\\frac { c }{ a } b \\end{bmatrix}\\\\ \\begin{bmatrix} a & b \\\\ 0 & d-\\frac { c }{ a } b \\end{bmatrix}\\\\ \\therefore \\quad \\begin{vmatrix} a & b \\\\ 0 & d-\\frac { c }{ a } b \\end{vmatrix}\\\\ =\\left( a \\right) \\left( d-\\frac { c }{ a } b \\right) \\\\ =ad-a\\frac { c }{ a } b\\\\ =ad-bc $$\n",
    "    * We can change an upper triangular matrix into a diagonal matrix by row operations (leaving the determinant unchanged by property five)\n",
    "    * Now we can use the first part of the third property and take out each pivot\n",
    "    * Eventually we are left with the identity matrix and the product of all the pivots\n",
    "    * For a zero on the main diagonal we can use the property of a row of zeros and know the determinant is zero\n",
    "* If the determinant is zero, the matrix is singular (only has the zero solution / not invertible)\n",
    "* The determinant of the product of matrices\n",
    "$$ \\left| AB \\right| =\\left| A \\right| \\left| B \\right| \\\\ \\left| { A }^{ -1 } \\right| =\\frac { 1 }{ \\left| A \\right|  } \\\\ \\left| { A }^{ 2 } \\right| =\\left| A \\right| \\left| A \\right| ={ \\left| A \\right|  }^{ 2 }\\\\ \\left| cA \\right| ={ c }^{ n }\\left| A \\right|  $$\n",
    "* For the determinant of a transpose of a matrix we have\n",
    "$$ \\left| { A }^{ T } \\right| =\\left| A \\right|  $$"
   ]
  },
  {
   "cell_type": "markdown",
   "metadata": {
    "collapsed": true
   },
   "source": [
    "## Example problems"
   ]
  },
  {
   "cell_type": "markdown",
   "metadata": {},
   "source": [
    "* Do the following by making use of the properties above"
   ]
  },
  {
   "cell_type": "markdown",
   "metadata": {},
   "source": [
    "### Example problem 1"
   ]
  },
  {
   "cell_type": "code",
   "execution_count": 4,
   "metadata": {
    "collapsed": false
   },
   "outputs": [
    {
     "data": {
      "text/latex": [
       "$\\displaystyle \\left[\\begin{matrix}101 & 201 & 301\\\\102 & 202 & 302\\\\103 & 203 & 303\\end{matrix}\\right]$"
      ],
      "text/plain": [
       "⎡101  201  301⎤\n",
       "⎢             ⎥\n",
       "⎢102  202  302⎥\n",
       "⎢             ⎥\n",
       "⎣103  203  303⎦"
      ]
     },
     "execution_count": 4,
     "metadata": {},
     "output_type": "execute_result"
    }
   ],
   "source": [
    "A = Matrix([[101, 201, 301], [102, 202, 302], [103, 203, 303]])\n",
    "A"
   ]
  },
  {
   "cell_type": "markdown",
   "metadata": {},
   "source": [
    "#### Solution"
   ]
  },
  {
   "cell_type": "markdown",
   "metadata": {},
   "source": [
    "* By constant multiple subtraction we get\n",
    "$$ \\begin{bmatrix} 101 & 201 & 301 \\\\ 1 & 1 & 1 \\\\ 1 & 1 & 1 \\end{bmatrix} $$\n",
    "* Two identical rows, thus the determinant is zero"
   ]
  },
  {
   "cell_type": "code",
   "execution_count": 5,
   "metadata": {
    "collapsed": false
   },
   "outputs": [
    {
     "data": {
      "text/latex": [
       "$\\displaystyle 0$"
      ],
      "text/plain": [
       "0"
      ]
     },
     "execution_count": 5,
     "metadata": {},
     "output_type": "execute_result"
    }
   ],
   "source": [
    "A.det()"
   ]
  },
  {
   "cell_type": "markdown",
   "metadata": {},
   "source": [
    "### Example problem 2"
   ]
  },
  {
   "cell_type": "code",
   "execution_count": 6,
   "metadata": {
    "collapsed": false
   },
   "outputs": [
    {
     "data": {
      "text/latex": [
       "$\\displaystyle \\left[\\begin{matrix}1 & a & a^{2}\\\\1 & b & b^{2}\\\\1 & c & c^{2}\\end{matrix}\\right]$"
      ],
      "text/plain": [
       "⎡       2⎤\n",
       "⎢1  a  a ⎥\n",
       "⎢        ⎥\n",
       "⎢       2⎥\n",
       "⎢1  b  b ⎥\n",
       "⎢        ⎥\n",
       "⎢       2⎥\n",
       "⎣1  c  c ⎦"
      ]
     },
     "execution_count": 6,
     "metadata": {},
     "output_type": "execute_result"
    }
   ],
   "source": [
    "A = Matrix([[1, a, a**2], [1, b, b**2], [1, c, c**2]])\n",
    "A"
   ]
  },
  {
   "cell_type": "markdown",
   "metadata": {},
   "source": [
    "#### Solution"
   ]
  },
  {
   "cell_type": "markdown",
   "metadata": {},
   "source": [
    "* Subtracting constant multiple of row 1 from rows 2 and three and expanding the elements\n",
    "$$ =\\begin{vmatrix} 1 & a & { a }^{ 2 } \\\\ 0 & b-a & { b }^{ 2 }-{ a }^{ 2 } \\\\ 0 & c-a & { c }^{ 2 }-{ a }^{ 2 } \\end{vmatrix}\\\\ =\\begin{vmatrix} 1 & a & { a }^{ 2 } \\\\ 0 & b-a & \\left( b-a \\right) \\left( b+a \\right)  \\\\ 0 & c-a & \\left( c-a \\right) \\left( c+a \\right)  \\end{vmatrix} $$\n",
    "* Using property three that states that the determinant is a linear property of each row\n",
    "$$ =\\left( b-a \\right) \\left( c-a \\right) =\\begin{vmatrix} 1 & a & { a }^{ 2 } \\\\ 0 & 1 & \\left( b+a \\right)  \\\\ 0 & 1 & \\left( c+a \\right)  \\end{vmatrix} $$\n",
    "* Another elimination on row three\n",
    "$$ \\left( b-a \\right) \\left( c-a \\right) =\\begin{vmatrix} 1 & a & { a }^{ 2 } \\\\ 0 & 1 & \\left( b+a \\right)  \\\\ 0 & 1 & \\left( c+a \\right)  \\end{vmatrix} $$\n",
    "* Now we have upper triangular form and the determinant is the product of the elements in the main diagonal and also multiplying the (*b*-*a*)(*c*-*a*)\n",
    "$$ =\\left( b-a \\right) \\left( c-a \\right) \\left( b-c \\right)  $$"
   ]
  },
  {
   "cell_type": "code",
   "execution_count": 7,
   "metadata": {
    "collapsed": false
   },
   "outputs": [
    {
     "data": {
      "text/latex": [
       "$\\displaystyle - \\left(a - b\\right) \\left(a - c\\right) \\left(b - c\\right)$"
      ],
      "text/plain": [
       "-(a - b)⋅(a - c)⋅(b - c)"
      ]
     },
     "execution_count": 7,
     "metadata": {},
     "output_type": "execute_result"
    }
   ],
   "source": [
    "(A.det()).factor()  # Calculating the determinant and factorizing the result"
   ]
  },
  {
   "cell_type": "markdown",
   "metadata": {},
   "source": [
    "* This is called a Vandermonde matrix\n",
    "* http://en.wikipedia.org/wiki/Vandermonde_matrix"
   ]
  },
  {
   "cell_type": "markdown",
   "metadata": {},
   "source": [
    "### Example problem 3"
   ]
  },
  {
   "cell_type": "code",
   "execution_count": 8,
   "metadata": {
    "collapsed": false
   },
   "outputs": [
    {
     "data": {
      "text/latex": [
       "$\\displaystyle \\left[\\begin{matrix}1 & -4 & 5\\\\2 & -8 & 10\\\\3 & -12 & 15\\end{matrix}\\right]$"
      ],
      "text/plain": [
       "⎡1  -4   5 ⎤\n",
       "⎢          ⎥\n",
       "⎢2  -8   10⎥\n",
       "⎢          ⎥\n",
       "⎣3  -12  15⎦"
      ]
     },
     "execution_count": 8,
     "metadata": {},
     "output_type": "execute_result"
    }
   ],
   "source": [
    "A = Matrix([1, 2, 3]) * Matrix([[1, -4, 5]])\n",
    "A"
   ]
  },
  {
   "cell_type": "markdown",
   "metadata": {},
   "source": [
    "#### Solution"
   ]
  },
  {
   "cell_type": "markdown",
   "metadata": {},
   "source": [
    "* The rows of the resultant 3&#215;3 matrix is linearly dependent, i.e. they are 1 times the row (1,-4,5), then twice this same row for row two and lastly three times the same row for row three\n",
    "* This means that the determinant will be zero"
   ]
  },
  {
   "cell_type": "code",
   "execution_count": 9,
   "metadata": {
    "collapsed": false
   },
   "outputs": [
    {
     "data": {
      "text/latex": [
       "$\\displaystyle 0$"
      ],
      "text/plain": [
       "0"
      ]
     },
     "execution_count": 9,
     "metadata": {},
     "output_type": "execute_result"
    }
   ],
   "source": [
    "A.det()"
   ]
  },
  {
   "cell_type": "markdown",
   "metadata": {},
   "source": [
    "### Example problem 4"
   ]
  },
  {
   "cell_type": "code",
   "execution_count": 10,
   "metadata": {
    "collapsed": false
   },
   "outputs": [
    {
     "data": {
      "text/latex": [
       "$\\displaystyle \\left[\\begin{matrix}0 & 1 & 3\\\\-1 & 0 & 4\\\\-3 & -4 & 0\\end{matrix}\\right]$"
      ],
      "text/plain": [
       "⎡0   1   3⎤\n",
       "⎢         ⎥\n",
       "⎢-1  0   4⎥\n",
       "⎢         ⎥\n",
       "⎣-3  -4  0⎦"
      ]
     },
     "execution_count": 10,
     "metadata": {},
     "output_type": "execute_result"
    }
   ],
   "source": [
    "A = Matrix([[0, 1, 3], [-1, 0, 4], [-3, -4, 0]])\n",
    "A"
   ]
  },
  {
   "cell_type": "markdown",
   "metadata": {},
   "source": [
    "#### Solution"
   ]
  },
  {
   "cell_type": "markdown",
   "metadata": {},
   "source": [
    "* Note how this matrix is *skew* symmetric\n",
    "* This means that A<sup>T</sup>=-A\n",
    "* With the matrices A<sup>T</sup> and -A being equal, their determinant are equal\n",
    "* Remember, though that the determinant of a matrix is the same as the determinant of the transpose of the matrix\n",
    "$$ \\left| A \\right| =\\left| { A }^{ T } \\right| =\\left| -A \\right| ={ \\left( -1 \\right)  }^{ 3 }\\left| A \\right| =-\\left| A \\right| \\\\ \\left| A \\right| =-\\left| A \\right| \\\\ \\therefore \\quad \\left| A \\right| =0 $$"
   ]
  },
  {
   "cell_type": "code",
   "execution_count": 11,
   "metadata": {
    "collapsed": false
   },
   "outputs": [
    {
     "data": {
      "text/latex": [
       "$\\displaystyle 0$"
      ],
      "text/plain": [
       "0"
      ]
     },
     "execution_count": 11,
     "metadata": {},
     "output_type": "execute_result"
    }
   ],
   "source": [
    "A.det()"
   ]
  },
  {
   "cell_type": "markdown",
   "metadata": {},
   "source": [
    "* Not all skew symmetric matrices have a zero determinant\n",
    "* It only works because *n* is odd for this size matrix being 3&#215;3 allowing for the negative"
   ]
  },
  {
   "cell_type": "code",
   "execution_count": null,
   "metadata": {
    "collapsed": true
   },
   "outputs": [],
   "source": []
  }
 ],
 "metadata": {
  "kernelspec": {
   "display_name": "ai-portfolio",
   "language": "python",
   "name": "python3"
  },
  "language_info": {
   "codemirror_mode": {
    "name": "ipython",
    "version": 3
   },
   "file_extension": ".py",
   "mimetype": "text/x-python",
   "name": "python",
   "nbconvert_exporter": "python",
   "pygments_lexer": "ipython3",
   "version": "3.11.13"
  }
 },
 "nbformat": 4,
 "nbformat_minor": 0
}
