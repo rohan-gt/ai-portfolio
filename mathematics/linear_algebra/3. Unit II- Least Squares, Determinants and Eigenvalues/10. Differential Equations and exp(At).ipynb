{
 "cells": [
  {
   "cell_type": "code",
   "execution_count": 1,
   "metadata": {
    "collapsed": true
   },
   "outputs": [],
   "source": [
    "from sympy import init_printing, Matrix, symbols, exp\n",
    "from warnings import filterwarnings"
   ]
  },
  {
   "cell_type": "code",
   "execution_count": 2,
   "metadata": {
    "collapsed": true
   },
   "outputs": [],
   "source": [
    "init_printing(use_latex=\"mathjax\")\n",
    "filterwarnings(\"ignore\")"
   ]
  },
  {
   "cell_type": "code",
   "execution_count": 3,
   "metadata": {
    "collapsed": true
   },
   "outputs": [],
   "source": [
    "u, u1, u2, t, a, b, c = symbols(\"u u1 u2 t a b c\")"
   ]
  },
  {
   "cell_type": "markdown",
   "metadata": {},
   "source": [
    "# Differential equations\n",
    "# Exponential  e<sup>At</sup> of a matrix"
   ]
  },
  {
   "cell_type": "markdown",
   "metadata": {},
   "source": [
    "## Differential equations (ordinary only)"
   ]
  },
  {
   "cell_type": "markdown",
   "metadata": {},
   "source": [
    "* A differential equation moves on from the previous lecture's difference equation which had finite steps to continuously changing systems (here in the time parameter *t*)\n",
    "* A differential equation included a function and its derivative(s)\n",
    "* It has and order based on the highest derivative that appears\n",
    "* Here we are only concerned with differential equation with constant coefficients\n",
    "* The simplest differential equation is the following\n",
    "$$ \\frac{dy}{dt}={a}{y}\\left(t\\right) $$\n",
    "* It is simply solved in the following manner (which gives us some insight into the general solution for these equations)\n",
    "$$ \\frac { dy }{ dt } =ay\\\\ \\frac { 1 }{ y } dy=adt\\\\ \\int { \\frac { 1 }{ y }  } dy=a\\int {  } dt\\\\ \\ln { \\left| y \\right|  } =a\\left( t+{ c }_{ 1 } \\right) \\\\ { e }^{ \\ln { \\left| y \\right|  }  }={ e }^{ at+a{ c }_{ 1 } }\\\\ y={ e }^{ at }{ e }^{ a{ c }_{ 1 } }\\\\ y=c{ e }^{ at } $$\n",
    "* We can solve for the constant(s) if we have values for the initial condition (usually *t*=0) for *y*(t) and all its derivatives (called *initial value problems*)\n",
    "* We can write a system of differential equations in matrix form\n",
    "$$ { y }_{ 1 }^{ ' }=3{ y }_{ 1 }\\\\ { y }_{ 2 }^{ ' }=-2{ y }_{ 2 }\\\\ { y }_{ 3 }^{ ' }=6{ y }_{ 3 }\\\\ \\therefore \\quad \\begin{bmatrix} { y }_{ 1 }^{ ' } \\\\ { y }_{ 2 }^{ ' } \\\\ { y }_{ 3 }^{ ' } \\end{bmatrix}=\\begin{bmatrix} 3 & 0 & 0 \\\\ 0 & -2 & 0 \\\\ 0 & 0 & 6 \\end{bmatrix}\\begin{bmatrix} { y }_{ 1 } \\\\ { y }_{ 2 } \\\\ { y }_{ 3 } \\end{bmatrix} $$"
   ]
  },
  {
   "cell_type": "markdown",
   "metadata": {},
   "source": [
    "* Rewriting the above, we consider the following differential equations in this lecture\n",
    "$$ \\frac { d\\mathbf { u }  }{ dt } =A\\mathbf { u }  $$"
   ]
  },
  {
   "cell_type": "markdown",
   "metadata": {},
   "source": [
    "* So suppose we have these two differential equations\n",
    "$$ \\frac{{d}\\mathbf{u}_{1}}{{d}{t}} = -\\mathbf{u}_{1}+2\\mathbf{u}_{2} \\\\ \\frac{{d}\\mathbf{u}_{2}}{{d}{t}} = \\mathbf{u}_{1}-2\\mathbf{u}_{2} $$\n",
    "* The intial consitions are given by the following\n",
    "$$ \\mathbf{u}\\left({0}\\right)=\\begin{bmatrix}1\\\\0\\end{bmatrix} $$"
   ]
  },
  {
   "cell_type": "markdown",
   "metadata": {},
   "source": [
    "* We can write it as A**u**"
   ]
  },
  {
   "cell_type": "code",
   "execution_count": 4,
   "metadata": {
    "collapsed": false
   },
   "outputs": [
    {
     "data": {
      "text/latex": [
       "$\\displaystyle \\left[\\begin{matrix}-1 & 2\\\\1 & -2\\end{matrix}\\right]$"
      ],
      "text/plain": [
       "⎡-1  2 ⎤\n",
       "⎢      ⎥\n",
       "⎣1   -2⎦"
      ]
     },
     "execution_count": 4,
     "metadata": {},
     "output_type": "execute_result"
    }
   ],
   "source": [
    "A = Matrix([[-1, 2], [1, -2]])\n",
    "A"
   ]
  },
  {
   "cell_type": "code",
   "execution_count": 5,
   "metadata": {
    "collapsed": false
   },
   "outputs": [
    {
     "data": {
      "text/latex": [
       "$\\displaystyle \\left[\\begin{matrix}u_{1}\\\\u_{2}\\end{matrix}\\right]$"
      ],
      "text/plain": [
       "⎡u₁⎤\n",
       "⎢  ⎥\n",
       "⎣u₂⎦"
      ]
     },
     "execution_count": 5,
     "metadata": {},
     "output_type": "execute_result"
    }
   ],
   "source": [
    "u_vect = Matrix([u1, u2])  # u is now a sympy mathematical symbol\n",
    "# Have to use another variable name, i.e. u_vect\n",
    "u_vect"
   ]
  },
  {
   "cell_type": "markdown",
   "metadata": {},
   "source": [
    "* Multiplying this A**u** brings you back to the two linear equations"
   ]
  },
  {
   "cell_type": "code",
   "execution_count": 6,
   "metadata": {
    "collapsed": false
   },
   "outputs": [
    {
     "data": {
      "text/latex": [
       "$\\displaystyle \\left[\\begin{matrix}- u_{1} + 2 u_{2}\\\\u_{1} - 2 u_{2}\\end{matrix}\\right]$"
      ],
      "text/plain": [
       "⎡-u₁ + 2⋅u₂⎤\n",
       "⎢          ⎥\n",
       "⎣u₁ - 2⋅u₂ ⎦"
      ]
     },
     "execution_count": 6,
     "metadata": {},
     "output_type": "execute_result"
    }
   ],
   "source": [
    "A * u_vect"
   ]
  },
  {
   "cell_type": "code",
   "execution_count": 7,
   "metadata": {
    "collapsed": false
   },
   "outputs": [
    {
     "data": {
      "text/latex": [
       "$\\displaystyle \\left\\{ -3 : 1, \\  0 : 1\\right\\}$"
      ],
      "text/plain": [
       "{-3: 1, 0: 1}"
      ]
     },
     "execution_count": 7,
     "metadata": {},
     "output_type": "execute_result"
    }
   ],
   "source": [
    "A.eigenvals()"
   ]
  },
  {
   "cell_type": "code",
   "execution_count": 8,
   "metadata": {
    "collapsed": false
   },
   "outputs": [
    {
     "data": {
      "text/latex": [
       "$\\displaystyle \\left[ \\left( -3, \\  1, \\  \\left[ \\left[\\begin{matrix}-1\\\\1\\end{matrix}\\right]\\right]\\right), \\  \\left( 0, \\  1, \\  \\left[ \\left[\\begin{matrix}2\\\\1\\end{matrix}\\right]\\right]\\right)\\right]$"
      ],
      "text/plain": [
       "⎡⎛       ⎡⎡-1⎤⎤⎞  ⎛      ⎡⎡2⎤⎤⎞⎤\n",
       "⎢⎜-3, 1, ⎢⎢  ⎥⎥⎟, ⎜0, 1, ⎢⎢ ⎥⎥⎟⎥\n",
       "⎣⎝       ⎣⎣1 ⎦⎦⎠  ⎝      ⎣⎣1⎦⎦⎠⎦"
      ]
     },
     "execution_count": 8,
     "metadata": {},
     "output_type": "execute_result"
    }
   ],
   "source": [
    "A.eigenvects()  # The results give the two eigenvectors in the following format\n",
    "# (eigenvalue, no of eigenvectors, eigenvector)"
   ]
  },
  {
   "cell_type": "code",
   "execution_count": 9,
   "metadata": {
    "collapsed": false
   },
   "outputs": [
    {
     "data": {
      "text/latex": [
       "$\\displaystyle \\left( \\left[\\begin{matrix}-1 & 2\\\\1 & 1\\end{matrix}\\right], \\  \\left[\\begin{matrix}-3 & 0\\\\0 & 0\\end{matrix}\\right]\\right)$"
      ],
      "text/plain": [
       "⎛⎡-1  2⎤  ⎡-3  0⎤⎞\n",
       "⎜⎢     ⎥, ⎢     ⎥⎟\n",
       "⎝⎣1   1⎦  ⎣0   0⎦⎠"
      ]
     },
     "execution_count": 9,
     "metadata": {},
     "output_type": "execute_result"
    }
   ],
   "source": [
    "S, D = (\n",
    "    A.diagonalize()\n",
    ")  # For interest sake we get the matrix of eigenvectors and the diagonal matrix\n",
    "S, D"
   ]
  },
  {
   "cell_type": "markdown",
   "metadata": {},
   "source": [
    "* To complete the solution now, we note that there are two eigenvalues, which will give us the following\n",
    "    * Two constants\n",
    "    * Two exponent to the power eigenvalue times *t*\n",
    "    * Two eigenvectors\n",
    "* It is written like this, with **x**<sub>i</sub> denoting an eigenvector\n",
    "$$ \\mathbf { u } \\left( t \\right) ={ c }_{ 1 }{ e }^{ { \\lambda  }_{ 1 }t }{ \\mathbf { x }  }_{ 1 }+{ c }_{ 2 }{ e }^{ { \\lambda  }_{ 2 }t }{ \\mathbf { x }  }_{ 2 } $$\n",
    "* This makes our solution as follows\n",
    "$$ \\mathbf { u } \\left( t \\right) ={ c }_{ 1 }{ e }^{ -3t }\\begin{bmatrix} -1 \\\\ 1 \\end{bmatrix}+{ c }_{ 2 }{ e }^{ \\left( 0 \\right) t }\\begin{bmatrix} 2 \\\\ 1 \\end{bmatrix}\\\\ \\mathbf { u } \\left( t \\right) ={ c }_{ 1 }{ e }^{ -3t }\\begin{bmatrix} -1 \\\\ 1 \\end{bmatrix}+{ c }_{ 2 }\\begin{bmatrix} 2 \\\\ 1 \\end{bmatrix} $$\n",
    "* There is clearly a constant term and a term that approaches zero at *t* approaches infinity"
   ]
  },
  {
   "cell_type": "markdown",
   "metadata": {},
   "source": [
    "* Writing this as two separate equations we have the following\n",
    "$$ { u }_{ 1 }\\left( t \\right) =-{ c }_{ 1 }{ e }^{ -3t }+2{ c }_{ 2 }\\\\ { u }_{ 2 }\\left( t \\right) ={ c }_{ 1 }{ e }^{ -3t }+{ c }_{ 2 }  $$"
   ]
  },
  {
   "cell_type": "markdown",
   "metadata": {},
   "source": [
    "* Using the initial conditions we can solve for *c*<sub>i</sub>\n",
    "$$ { u }_{ 1 }\\left( 0 \\right) =-{ c }_{ 1 }{ e }^{ -3\\left( 0 \\right)  }+2{ c }_{ 2 }=1\\\\ { u }_{ 2 }\\left( 0 \\right) ={ c }_{ 1 }{ e }^{ -3\\left( 0 \\right)  }+{ c }_{ 2 }=0\\\\ -{ c }_{ 1 }+2{ c }_{ 2 }=1\\\\ { c }_{ 1 }+{ c }_{ 2 }=0 $$"
   ]
  },
  {
   "cell_type": "markdown",
   "metadata": {},
   "source": [
    "* Let's use an augmented matrix and Gauss-Jordan elimination to solve for the two constants (or at least the python™ equivalent)"
   ]
  },
  {
   "cell_type": "code",
   "execution_count": 10,
   "metadata": {
    "collapsed": false
   },
   "outputs": [
    {
     "data": {
      "text/latex": [
       "$\\displaystyle \\left( \\left[\\begin{matrix}1 & 0 & - \\frac{1}{3}\\\\0 & 1 & \\frac{1}{3}\\end{matrix}\\right], \\  \\left( 0, \\  1\\right)\\right)$"
      ],
      "text/plain": [
       "⎛⎡1  0  -1/3⎤        ⎞\n",
       "⎜⎢          ⎥, (0, 1)⎟\n",
       "⎝⎣0  1  1/3 ⎦        ⎠"
      ]
     },
     "execution_count": 10,
     "metadata": {},
     "output_type": "execute_result"
    }
   ],
   "source": [
    "C = Matrix([[-1, 2, 1], [1, 1, 0]])\n",
    "C.rref()"
   ]
  },
  {
   "cell_type": "markdown",
   "metadata": {},
   "source": [
    "* Which gives us the final solution\n",
    "$$  { u }_{ 1 }\\left( t \\right) =\\frac { 1 }{ 3 } { e }^{ -3t }+\\frac { 2 }{ 3 } \\\\ { u }_{ 2 }\\left( t \\right) =\\frac { -1 }{ 3 } { e }^{ -3t }+\\frac { 1 }{ 3 }   $$"
   ]
  },
  {
   "cell_type": "markdown",
   "metadata": {},
   "source": [
    "* Just to remind ourselves about the previous lecture where we had difference equations and had something like the following\n",
    "$$ \\mathbf{u}={c}_{1}{\\lambda}_{1}^{k}{\\mathbf{x}}_{1}+{c}_{2}{\\lambda}_{2}^{k}{\\mathbf{x}}_{2} $$\n",
    "* Which is for finite steps, i.e. stepping by one\n",
    "$$ \\mathbf{u}_{k+1}={A}\\mathbf{u}_{k} $$"
   ]
  },
  {
   "cell_type": "markdown",
   "metadata": {},
   "source": [
    "## What can the eigenvalues tell us about these equations as *t* approaches &#8734;"
   ]
  },
  {
   "cell_type": "markdown",
   "metadata": {},
   "source": [
    "* If both eigenvalues (real parts) are negative, the equation **t**(t) approaches **0** (called *stability*)\n",
    "* If one eigenvalue (real part) is zero and the others (real parts) are less than one, the equations reach is specific value (called a *steady state*)\n",
    "* If any eigenvalue (real parts) is larger than zero, the equations approach &#177;&#8734;"
   ]
  },
  {
   "cell_type": "markdown",
   "metadata": {},
   "source": [
    "## What can the matrix A<sub>2&#215;2</sub> tell us about the eigenvalues (and then what happens when *t* approaches &#8734;)"
   ]
  },
  {
   "cell_type": "markdown",
   "metadata": {},
   "source": [
    "* The trace is equal to the sum of the eigenvalues\n",
    "* The determinant is the product of the eigenvalues"
   ]
  },
  {
   "cell_type": "markdown",
   "metadata": {},
   "source": [
    "* If the trace is negative **and** the determinant positive, we will have stability"
   ]
  },
  {
   "cell_type": "markdown",
   "metadata": {},
   "source": [
    "## Using diagonalization"
   ]
  },
  {
   "cell_type": "markdown",
   "metadata": {},
   "source": [
    "* Consider the following derivation\n",
    "$$ \\frac { d\\mathbf { u }  }{ dt } =A\\mathbf { u } \\\\ \\because \\quad A\\mathbf { u } =S\\mathbf { v } \\\\ S\\frac { d\\mathbf { v }  }{ dt } =S\\mathbf { v } \\\\ \\frac { d\\mathbf { v }  }{ dt } =S\\mathbf { v } { S }^{ -1 }=\\Lambda \\mathbf { v }  $$"
   ]
  },
  {
   "cell_type": "markdown",
   "metadata": {},
   "source": [
    "* From this we have the following\n",
    "$$ \\mathbf { v } \\left( t \\right) ={ e }^{ \\Lambda t }\\mathbf { v } \\left( 0 \\right) \\\\ \\mathbf { u } \\left( t \\right) =S{ e }^{ \\Lambda t }{ S }^{ -1 }\\mathbf { u } \\left( 0 \\right) \\\\ {e}^{At}={S}{e}^{\\Lambda{t}}{S}^{-1} $$"
   ]
  },
  {
   "cell_type": "markdown",
   "metadata": {},
   "source": [
    "## Matrix exponential *e*<sup>At</sup>"
   ]
  },
  {
   "cell_type": "markdown",
   "metadata": {},
   "source": [
    "* How do we calculate a matrix as a power? \n",
    "* Consider Taylor series expansion\n",
    "$$ {e}^{At}={I}+{At} + \\frac{{\\left(At\\right)}^{2}}{2!}+\\frac{{\\left(At\\right)}^{3}}{3!}+\\dots+\\frac{{\\left(At\\right)}^{n}}{n!} $$\n",
    "* This comes from the following\n",
    "$$ { e }^{ x }=\\sum _{ n=0 }^{ \\infty  }{ \\frac { { x }^{ n } }{ n! }  }  $$\n",
    "* As the denominator increases the *n*<sup>th</sup> term approaches 0\n",
    "* Remember also this (geometric) series (just for fun)\n",
    "$$ \\frac { 1 }{ 1-x } =\\sum _{ 0 }^{ \\infty  }{ { x }^{ n } } \\\\ { \\left( I-At \\right)  }^{ -1 }=I+At+{ \\left( At \\right)  }^{ 2 }+\\dots { \\left( At \\right)  }^{ n } $$\n",
    "* This will blow up unless then eigenvalues of A are less than 1"
   ]
  },
  {
   "cell_type": "markdown",
   "metadata": {},
   "source": [
    "* Now, let calculate *e*<sup>At</sup>, remembering the following\n",
    "$$ {A}^{k}={S}{\\Lambda}^{k}{S}^{-1} $$\n",
    "$$ { e }^{ At }=\\sum _{ n=0 }^{ \\infty  }{ \\frac { \\left( S{ \\Lambda  }^{ n }{ S }^{ -1 } \\right) ^{ n }{ t }^{ n } }{ n! }  }  $$"
   ]
  },
  {
   "cell_type": "markdown",
   "metadata": {},
   "source": [
    "* We thus have the following\n",
    "$$ {e}^{At}={S}{e}^{\\Lambda{t}}{S}^{-1} $$\n",
    "* This is with the assumption that A can be diagonalized (otherwise we will have to use the infinite series (above)\n",
    "$$ {e}^{At}={I}+{At} + \\frac{{\\left(At\\right)}^{2}}{2!}+\\frac{{\\left(At\\right)}^{3}}{3!}+\\dots+\\frac{{\\left(At\\right)}^{n}}{n!} $$"
   ]
  },
  {
   "cell_type": "markdown",
   "metadata": {},
   "source": [
    "* Remember that &#923; is a diagonal matrix and therefor we would have the following\n",
    "$$ { e }^{ \\Lambda t }=\\begin{bmatrix} { e }^{ { \\lambda  }_{ 1 }t } & 0 & 0 & 0 \\\\ 0 & { e }^{ { \\lambda  }_{ 2 }t } & 0 & 0 \\\\ \\vdots  & \\vdots  & \\dots  & \\vdots  \\\\ 0 & 0 & 0 & { e }^{ { \\lambda  }_{ n }t } \\end{bmatrix} $$"
   ]
  },
  {
   "cell_type": "markdown",
   "metadata": {},
   "source": [
    "* The S and S<sup>-1</sup> matrices are stable, it is therefor the &#923; matrix that provides an approach to zero as *t* approaches &#8734;\n",
    "* This is achieved by every &#955;<sub>i</sub> having a real part less than zero"
   ]
  },
  {
   "cell_type": "markdown",
   "metadata": {},
   "source": [
    "* The powers of A go to zero if the absolute value of the real part of all the &#955;<sub>i</sub>-values is less than 1"
   ]
  },
  {
   "cell_type": "markdown",
   "metadata": {},
   "source": [
    "+ Let's consider this example"
   ]
  },
  {
   "cell_type": "markdown",
   "metadata": {},
   "source": [
    "$$ \\mathbf { y } ''+b\\mathbf { y } '+{k}\\mathbf{y}=\\mathbf { 0 }  $$"
   ]
  },
  {
   "cell_type": "markdown",
   "metadata": {},
   "source": [
    "* We have to create a system of two first-order equations\n",
    "$$ \\mathbf{u}=\\begin{bmatrix} y' \\\\ y \\end{bmatrix} \\\\ \\mathbf{u}'=\\begin{bmatrix}{y}''\\\\{y}'\\end{bmatrix}=\\begin{bmatrix} -{b} & -{k} \\\\ 1 & 0 \\end{bmatrix}\\begin{bmatrix} {y}' \\\\ {y} \\end{bmatrix}$$"
   ]
  },
  {
   "cell_type": "markdown",
   "metadata": {
    "collapsed": true
   },
   "source": [
    "## Example problems"
   ]
  },
  {
   "cell_type": "markdown",
   "metadata": {},
   "source": [
    "### Example problem 1"
   ]
  },
  {
   "cell_type": "markdown",
   "metadata": {},
   "source": [
    "* Find the general solutions, the matrix A, and the first column of *e*<sup>At</sup> of the following third-order, ordinary, homogeneous differential equation with constant coefficients\n",
    "$$ \\frac { { d }^{ 3 }y }{ d{ t }^{ 3 } } +2\\frac { { d }^{ 2 }y }{ d{ t }^{ 2 } } -\\frac { dy }{ dt } -2y=0 $$"
   ]
  },
  {
   "cell_type": "markdown",
   "metadata": {},
   "source": [
    "#### Solution"
   ]
  },
  {
   "cell_type": "markdown",
   "metadata": {},
   "source": [
    "* Since the differential equation is third order, we need to create three first-order differential equations\n",
    "$$ \\frac { { d }^{ 3 }y }{ d{ t }^{ 3 } } +2\\frac { { d }^{ 2 }y }{ d{ t }^{ 2 } } -\\frac { dy }{ dt } -2y=0\\\\ \\therefore \\quad y'''=-2y''+y'+2\\\\ \\mathbf { u } =\\begin{bmatrix} y'' \\\\ y' \\\\ y \\end{bmatrix}\\\\ \\mathbf { u } '=\\begin{bmatrix} y''' \\\\ y'' \\\\ y' \\end{bmatrix}\\\\ \\mathbf { u } '=A\\mathbf { u } =\\begin{bmatrix} -2 & 1 & 2 \\\\ 1 & 0 & 0 \\\\ 0 & 1 & 0 \\end{bmatrix}\\begin{bmatrix} y'' \\\\ y' \\\\ y \\end{bmatrix} $$"
   ]
  },
  {
   "cell_type": "markdown",
   "metadata": {},
   "source": [
    "* Notice that when we do the last matrix multiplication, we get exactly what we need\n",
    "$$  \\mathbf { u } '=\\begin{bmatrix} y''' \\\\ y'' \\\\ y' \\end{bmatrix}=\\begin{bmatrix} -2y''+y'+2y \\\\ y'' \\\\ y' \\end{bmatrix} $$"
   ]
  },
  {
   "cell_type": "markdown",
   "metadata": {},
   "source": [
    "* We now have the matrix A and we can calculate *e*<sup>At</sup> if A is diagonalizable"
   ]
  },
  {
   "cell_type": "code",
   "execution_count": 11,
   "metadata": {
    "collapsed": false
   },
   "outputs": [
    {
     "data": {
      "text/latex": [
       "$\\displaystyle \\left[\\begin{matrix}-2 & 1 & 2\\\\1 & 0 & 0\\\\0 & 1 & 0\\end{matrix}\\right]$"
      ],
      "text/plain": [
       "⎡-2  1  2⎤\n",
       "⎢        ⎥\n",
       "⎢1   0  0⎥\n",
       "⎢        ⎥\n",
       "⎣0   1  0⎦"
      ]
     },
     "execution_count": 11,
     "metadata": {},
     "output_type": "execute_result"
    }
   ],
   "source": [
    "A = Matrix([[-2, 1, 2], [1, 0, 0], [0, 1, 0]])\n",
    "A"
   ]
  },
  {
   "cell_type": "code",
   "execution_count": 12,
   "metadata": {
    "collapsed": false
   },
   "outputs": [
    {
     "data": {
      "text/latex": [
       "$\\displaystyle \\left( \\left[\\begin{matrix}4 & 1 & 1\\\\-2 & -1 & 1\\\\1 & 1 & 1\\end{matrix}\\right], \\  \\left[\\begin{matrix}-2 & 0 & 0\\\\0 & -1 & 0\\\\0 & 0 & 1\\end{matrix}\\right]\\right)$"
      ],
      "text/plain": [
       "⎛⎡4   1   1⎤  ⎡-2  0   0⎤⎞\n",
       "⎜⎢         ⎥  ⎢         ⎥⎟\n",
       "⎜⎢-2  -1  1⎥, ⎢0   -1  0⎥⎟\n",
       "⎜⎢         ⎥  ⎢         ⎥⎟\n",
       "⎝⎣1   1   1⎦  ⎣0   0   1⎦⎠"
      ]
     },
     "execution_count": 12,
     "metadata": {},
     "output_type": "execute_result"
    }
   ],
   "source": [
    "S, D = A.diagonalize()\n",
    "S, D"
   ]
  },
  {
   "cell_type": "markdown",
   "metadata": {},
   "source": [
    "* We can calculate *e*<sup>At</sup> from the following\n",
    "$$ {e}^{At}={S}{e}^{\\Lambda{t}}{S}^{-1} $$"
   ]
  },
  {
   "cell_type": "markdown",
   "metadata": {},
   "source": [
    "* Remember that &#923; is a diagonal matrix and therefor we would have the following\n",
    "$$ { e }^{ \\Lambda t }=\\begin{bmatrix} { e }^{ { \\lambda  }_{ 1 }t } & 0 & 0 & 0 \\\\ 0 & { e }^{ { \\lambda  }_{ 2 }t } & 0 & 0 \\\\ \\vdots  & \\vdots  & \\dots  & \\vdots  \\\\ 0 & 0 & 0 & { e }^{ { \\lambda  }_{ n }t } \\end{bmatrix} $$"
   ]
  },
  {
   "cell_type": "code",
   "execution_count": 13,
   "metadata": {
    "collapsed": false
   },
   "outputs": [
    {
     "data": {
      "text/latex": [
       "$\\displaystyle \\left\\{ -2 : 1, \\  -1 : 1, \\  1 : 1\\right\\}$"
      ],
      "text/plain": [
       "{-2: 1, -1: 1, 1: 1}"
      ]
     },
     "execution_count": 13,
     "metadata": {},
     "output_type": "execute_result"
    }
   ],
   "source": [
    "A.eigenvals()"
   ]
  },
  {
   "cell_type": "markdown",
   "metadata": {},
   "source": [
    "* This gives us the three eigenvalues from which we can create the diagonal matrix *e*<sup>&#923;t</sup>"
   ]
  },
  {
   "cell_type": "code",
   "execution_count": 14,
   "metadata": {
    "collapsed": false
   },
   "outputs": [
    {
     "data": {
      "text/latex": [
       "$\\displaystyle \\left[\\begin{matrix}e^{- 2 t} & 0 & 0\\\\0 & e^{- t} & 0\\\\0 & 0 & e^{t}\\end{matrix}\\right]$"
      ],
      "text/plain": [
       "⎡ -2⋅t         ⎤\n",
       "⎢ℯ       0   0 ⎥\n",
       "⎢              ⎥\n",
       "⎢        -t    ⎥\n",
       "⎢  0    ℯ    0 ⎥\n",
       "⎢              ⎥\n",
       "⎢             t⎥\n",
       "⎣  0     0   ℯ ⎦"
      ]
     },
     "execution_count": 14,
     "metadata": {},
     "output_type": "execute_result"
    }
   ],
   "source": [
    "e_Lamda_t = Matrix([[exp(-2 * t), 0, 0], [0, exp(-t), 0], [0, 0, exp(t)]])\n",
    "e_Lamda_t"
   ]
  },
  {
   "cell_type": "markdown",
   "metadata": {},
   "source": [
    "* We have to multiply the following three matrices (with which python is not comfortable, so I'll do it in two steps)"
   ]
  },
  {
   "cell_type": "code",
   "execution_count": 15,
   "metadata": {
    "collapsed": false
   },
   "outputs": [
    {
     "data": {
      "text/latex": [
       "$\\displaystyle \\left( \\left[\\begin{matrix}4 & 1 & 1\\\\-2 & -1 & 1\\\\1 & 1 & 1\\end{matrix}\\right], \\  \\left[\\begin{matrix}e^{- 2 t} & 0 & 0\\\\0 & e^{- t} & 0\\\\0 & 0 & e^{t}\\end{matrix}\\right], \\  \\left[\\begin{matrix}\\frac{1}{3} & 0 & - \\frac{1}{3}\\\\- \\frac{1}{2} & - \\frac{1}{2} & 1\\\\\\frac{1}{6} & \\frac{1}{2} & \\frac{1}{3}\\end{matrix}\\right]\\right)$"
      ],
      "text/plain": [
       "⎛             ⎡ -2⋅t         ⎤                    ⎞\n",
       "⎜             ⎢ℯ       0   0 ⎥                    ⎟\n",
       "⎜⎡4   1   1⎤  ⎢              ⎥  ⎡1/3    0    -1/3⎤⎟\n",
       "⎜⎢         ⎥  ⎢        -t    ⎥  ⎢                ⎥⎟\n",
       "⎜⎢-2  -1  1⎥, ⎢  0    ℯ    0 ⎥, ⎢-1/2  -1/2   1  ⎥⎟\n",
       "⎜⎢         ⎥  ⎢              ⎥  ⎢                ⎥⎟\n",
       "⎜⎣1   1   1⎦  ⎢             t⎥  ⎣1/6   1/2   1/3 ⎦⎟\n",
       "⎝             ⎣  0     0   ℯ ⎦                    ⎠"
      ]
     },
     "execution_count": 15,
     "metadata": {},
     "output_type": "execute_result"
    }
   ],
   "source": [
    "S, e_Lamda_t, S.inv()"
   ]
  },
  {
   "cell_type": "code",
   "execution_count": 16,
   "metadata": {
    "collapsed": false
   },
   "outputs": [
    {
     "data": {
      "text/latex": [
       "$\\displaystyle \\left[\\begin{matrix}4 e^{- 2 t} & e^{- t} & e^{t}\\\\- 2 e^{- 2 t} & - e^{- t} & e^{t}\\\\e^{- 2 t} & e^{- t} & e^{t}\\end{matrix}\\right]$"
      ],
      "text/plain": [
       "⎡   -2⋅t    -t    t⎤\n",
       "⎢4⋅ℯ       ℯ     ℯ ⎥\n",
       "⎢                  ⎥\n",
       "⎢    -2⋅t    -t   t⎥\n",
       "⎢-2⋅ℯ      -ℯ    ℯ ⎥\n",
       "⎢                  ⎥\n",
       "⎢  -2⋅t     -t    t⎥\n",
       "⎣ ℯ        ℯ     ℯ ⎦"
      ]
     },
     "execution_count": 16,
     "metadata": {},
     "output_type": "execute_result"
    }
   ],
   "source": [
    "first_part = S * e_Lamda_t\n",
    "first_part"
   ]
  },
  {
   "cell_type": "code",
   "execution_count": 17,
   "metadata": {
    "collapsed": false
   },
   "outputs": [
    {
     "data": {
      "text/latex": [
       "$\\displaystyle \\left[\\begin{matrix}\\frac{e^{t}}{6} - \\frac{e^{- t}}{2} + \\frac{4 e^{- 2 t}}{3} & \\frac{e^{t}}{2} - \\frac{e^{- t}}{2} & \\frac{e^{t}}{3} + e^{- t} - \\frac{4 e^{- 2 t}}{3}\\\\\\frac{e^{t}}{6} + \\frac{e^{- t}}{2} - \\frac{2 e^{- 2 t}}{3} & \\frac{e^{t}}{2} + \\frac{e^{- t}}{2} & \\frac{e^{t}}{3} - e^{- t} + \\frac{2 e^{- 2 t}}{3}\\\\\\frac{e^{t}}{6} - \\frac{e^{- t}}{2} + \\frac{e^{- 2 t}}{3} & \\frac{e^{t}}{2} - \\frac{e^{- t}}{2} & \\frac{e^{t}}{3} + e^{- t} - \\frac{e^{- 2 t}}{3}\\end{matrix}\\right]$"
      ],
      "text/plain": [
       "⎡ t    -t      -2⋅t   t    -t   t            -2⋅t⎤\n",
       "⎢ℯ    ℯ     4⋅ℯ      ℯ    ℯ    ℯ     -t   4⋅ℯ    ⎥\n",
       "⎢── - ─── + ───────  ── - ───  ── + ℯ   - ───────⎥\n",
       "⎢6     2       3     2     2   3             3   ⎥\n",
       "⎢                                                ⎥\n",
       "⎢ t    -t      -2⋅t   t    -t   t            -2⋅t⎥\n",
       "⎢ℯ    ℯ     2⋅ℯ      ℯ    ℯ    ℯ     -t   2⋅ℯ    ⎥\n",
       "⎢── + ─── - ───────  ── + ───  ── - ℯ   + ───────⎥\n",
       "⎢6     2       3     2     2   3             3   ⎥\n",
       "⎢                                                ⎥\n",
       "⎢  t    -t    -2⋅t    t    -t    t          -2⋅t ⎥\n",
       "⎢ ℯ    ℯ     ℯ       ℯ    ℯ     ℯ     -t   ℯ     ⎥\n",
       "⎢ ── - ─── + ─────   ── - ───   ── + ℯ   - ───── ⎥\n",
       "⎣ 6     2      3     2     2    3            3   ⎦"
      ]
     },
     "execution_count": 17,
     "metadata": {},
     "output_type": "execute_result"
    }
   ],
   "source": [
    "first_part * S.inv()"
   ]
  },
  {
   "cell_type": "markdown",
   "metadata": {},
   "source": [
    "* We still need to write our general solution\n",
    "$$ \\mathbf { u } \\left( t \\right) ={ c }_{ 1 }{ e }^{ { \\lambda  }_{ 1 }t }{ \\mathbf { x }  }_{ 1 }+{ c }_{ 2 }{ e }^{ { \\lambda  }_{ 2 }t }{ \\mathbf { x }  }_{ 2 }+{ c }_{ 3 }{ e }^{ { \\lambda  }_{ 3 }t }{ \\mathbf { x }  }_{ 3 } $$"
   ]
  },
  {
   "cell_type": "code",
   "execution_count": 18,
   "metadata": {
    "collapsed": false
   },
   "outputs": [
    {
     "data": {
      "text/latex": [
       "$\\displaystyle \\left[ \\left( -2, \\  1, \\  \\left[ \\left[\\begin{matrix}4\\\\-2\\\\1\\end{matrix}\\right]\\right]\\right), \\  \\left( -1, \\  1, \\  \\left[ \\left[\\begin{matrix}1\\\\-1\\\\1\\end{matrix}\\right]\\right]\\right), \\  \\left( 1, \\  1, \\  \\left[ \\left[\\begin{matrix}1\\\\1\\\\1\\end{matrix}\\right]\\right]\\right)\\right]$"
      ],
      "text/plain": [
       "⎡⎛       ⎡⎡4 ⎤⎤⎞  ⎛       ⎡⎡1 ⎤⎤⎞  ⎛      ⎡⎡1⎤⎤⎞⎤\n",
       "⎢⎜       ⎢⎢  ⎥⎥⎟  ⎜       ⎢⎢  ⎥⎥⎟  ⎜      ⎢⎢ ⎥⎥⎟⎥\n",
       "⎢⎜-2, 1, ⎢⎢-2⎥⎥⎟, ⎜-1, 1, ⎢⎢-1⎥⎥⎟, ⎜1, 1, ⎢⎢1⎥⎥⎟⎥\n",
       "⎢⎜       ⎢⎢  ⎥⎥⎟  ⎜       ⎢⎢  ⎥⎥⎟  ⎜      ⎢⎢ ⎥⎥⎟⎥\n",
       "⎣⎝       ⎣⎣1 ⎦⎦⎠  ⎝       ⎣⎣1 ⎦⎦⎠  ⎝      ⎣⎣1⎦⎦⎠⎦"
      ]
     },
     "execution_count": 18,
     "metadata": {},
     "output_type": "execute_result"
    }
   ],
   "source": [
    "A.eigenvects()"
   ]
  },
  {
   "cell_type": "markdown",
   "metadata": {},
   "source": [
    "* With these eigenvalues and eigenvectors we get\n",
    "$$ \\mathbf { u } \\left( t \\right) =\\begin{bmatrix} { y }'' \\\\ y' \\\\ y \\end{bmatrix}={ c }_{ 1 }{ e }^{ -2t }\\begin{bmatrix} 4 \\\\ -2 \\\\ 1 \\end{bmatrix}+{ c }_{ s }{ e }^{ -t }\\begin{bmatrix} 1 \\\\ -1 \\\\ 1 \\end{bmatrix}+{ c }_{ 3 }{ e }^{ t }\\begin{bmatrix} 1 \\\\ 1 \\\\ 1 \\end{bmatrix}\\\\ \\therefore \\quad y\\left( t \\right) ={ c }_{ 1 }{ e }^{ -2t }+{ c }_{ 2 }{ e }^{ -t }+{ c }_{ 3 }{ e }^{ t } $$"
   ]
  },
  {
   "cell_type": "markdown",
   "metadata": {},
   "source": [
    "### Example problem 2"
   ]
  },
  {
   "cell_type": "markdown",
   "metadata": {},
   "source": [
    "* Solve the following second-order ordinary differential equation\n",
    "$$ y''-y'-6y=0 $$"
   ]
  },
  {
   "cell_type": "markdown",
   "metadata": {},
   "source": [
    "#### Solution"
   ]
  },
  {
   "cell_type": "markdown",
   "metadata": {},
   "source": [
    "* We need to create two first-order equations \n",
    "$$ \\therefore \\quad y''=y'+6y\\\\ \\because \\quad \\mathbf { u } \\left( t \\right) =\\begin{bmatrix} y' \\\\ y \\end{bmatrix}\\\\ \\mathbf { u } '\\left( t \\right) =\\begin{bmatrix} y'' \\\\ y' \\end{bmatrix}\\\\ \\therefore \\quad \\mathbf { u } '\\left( t \\right) =\\begin{bmatrix} 1 & 6 \\\\ 1 & 0 \\end{bmatrix}\\mathbf { u } \\left( t \\right)  $$"
   ]
  },
  {
   "cell_type": "code",
   "execution_count": 19,
   "metadata": {
    "collapsed": false
   },
   "outputs": [
    {
     "data": {
      "text/latex": [
       "$\\displaystyle \\left[\\begin{matrix}1 & 6\\\\1 & 0\\end{matrix}\\right]$"
      ],
      "text/plain": [
       "⎡1  6⎤\n",
       "⎢    ⎥\n",
       "⎣1  0⎦"
      ]
     },
     "execution_count": 19,
     "metadata": {},
     "output_type": "execute_result"
    }
   ],
   "source": [
    "A = Matrix([[1, 6], [1, 0]])\n",
    "A"
   ]
  },
  {
   "cell_type": "code",
   "execution_count": 20,
   "metadata": {
    "collapsed": false
   },
   "outputs": [
    {
     "data": {
      "text/latex": [
       "$\\displaystyle \\left[ \\left( -2, \\  1, \\  \\left[ \\left[\\begin{matrix}-2\\\\1\\end{matrix}\\right]\\right]\\right), \\  \\left( 3, \\  1, \\  \\left[ \\left[\\begin{matrix}3\\\\1\\end{matrix}\\right]\\right]\\right)\\right]$"
      ],
      "text/plain": [
       "⎡⎛       ⎡⎡-2⎤⎤⎞  ⎛      ⎡⎡3⎤⎤⎞⎤\n",
       "⎢⎜-2, 1, ⎢⎢  ⎥⎥⎟, ⎜3, 1, ⎢⎢ ⎥⎥⎟⎥\n",
       "⎣⎝       ⎣⎣1 ⎦⎦⎠  ⎝      ⎣⎣1⎦⎦⎠⎦"
      ]
     },
     "execution_count": 20,
     "metadata": {},
     "output_type": "execute_result"
    }
   ],
   "source": [
    "A.eigenvects()"
   ]
  },
  {
   "cell_type": "markdown",
   "metadata": {},
   "source": [
    "* The solution is thus as follows\n",
    "$$ {y}\\left({t}\\right)={c}_{1}{e}^{-2t}+{c}_{2}{e}^{3t} $$"
   ]
  },
  {
   "cell_type": "code",
   "execution_count": null,
   "metadata": {
    "collapsed": true
   },
   "outputs": [],
   "source": []
  }
 ],
 "metadata": {
  "kernelspec": {
   "display_name": "ai-portfolio",
   "language": "python",
   "name": "python3"
  },
  "language_info": {
   "codemirror_mode": {
    "name": "ipython",
    "version": 3
   },
   "file_extension": ".py",
   "mimetype": "text/x-python",
   "name": "python",
   "nbconvert_exporter": "python",
   "pygments_lexer": "ipython3",
   "version": "3.11.13"
  }
 },
 "nbformat": 4,
 "nbformat_minor": 0
}
