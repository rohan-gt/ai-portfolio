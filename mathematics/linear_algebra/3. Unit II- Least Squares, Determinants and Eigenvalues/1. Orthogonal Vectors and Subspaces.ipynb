{
 "cells": [
  {
   "cell_type": "code",
   "execution_count": 1,
   "metadata": {
    "collapsed": false
   },
   "outputs": [],
   "source": [
    "from sympy import init_printing, symbols, Matrix\n",
    "from warnings import filterwarnings"
   ]
  },
  {
   "cell_type": "code",
   "execution_count": 2,
   "metadata": {
    "collapsed": false
   },
   "outputs": [],
   "source": [
    "init_printing(use_latex=\"mathjax\")\n",
    "filterwarnings(\"ignore\")"
   ]
  },
  {
   "cell_type": "markdown",
   "metadata": {},
   "source": [
    "## Orthogonal vectors"
   ]
  },
  {
   "cell_type": "markdown",
   "metadata": {},
   "source": [
    "* Two vectors are orthogonal if their dot product is zero\n",
    "* If they are written as column vectors **x** and **y**, their dot product is **x**<sup>T</sup>**y**\n",
    "    * For orthogonal (perpendicular) vectors **x**<sup>T</sup>**y** = 0\n",
    "* From the Pythagorean theorem they are orthogonal if\n",
    "$$ { \\left\\| \\overline { x }  \\right\\|  }^{ 2 }+{ \\left\\| \\overline { y }  \\right\\|  }^{ 2 }={ \\left\\| \\overline { x } +\\overline { y }  \\right\\|  }^{ 2 }\\\\ { \\left\\| \\overline { x }  \\right\\|  }=\\sqrt { { x }_{ 1 }^{ 2 }+{ x }_{ 2 }^{ 2 }+\\dots +{ x }_{ b }^{ 2 } }  $$"
   ]
  },
  {
   "cell_type": "markdown",
   "metadata": {},
   "source": [
    "* The length squared of a (column) vector **x** can be calculated by **x**<sup>T</sup>**x**\n",
    "* This achieves exactly the same as the sum of the squares of each element in the vector\n",
    "$$ { x }_{ 1 }^{ 2 }+{ x }_{ 2 }^{ 2 }+\\dots +{ x }_{ n }^{ 2 }$$"
   ]
  },
  {
   "cell_type": "markdown",
   "metadata": {},
   "source": [
    "* Following from the Pythagorean theorem we have\n",
    "$$ { \\left\\| \\overline { x }  \\right\\|  }^{ 2 }+{ \\left\\| \\overline { y }  \\right\\|  }^{ 2 }={ \\left\\| \\overline { x } +\\overline { y }  \\right\\|  }^{ 2 }\\\\ { \\mathbf { x }  }^{ T }\\mathbf { x } +{ \\mathbf { y }  }^{ T }\\mathbf { y } ={ \\left( \\mathbf { x } +\\mathbf { y }  \\right)  }^{ T }\\left( \\mathbf { x } +\\mathbf { y }  \\right) \\\\ { \\mathbf { x }  }^{ T }\\mathbf { x } +{ \\mathbf { y }  }^{ T }\\mathbf { y } ={ \\mathbf { x }  }^{ T }\\mathbf { x } +{ \\mathbf { x }  }^{ T }\\mathbf { y } +{ \\mathbf { y }  }^{ T }\\mathbf { x } +{ \\mathbf { y }  }^{ T }\\mathbf { y } \\\\ \\because \\quad { \\mathbf { x }  }^{ T }\\mathbf { y } ={ \\mathbf { y }  }^{ T }\\mathbf { x } \\\\ { \\mathbf { x }  }^{ T }\\mathbf { x } +{ \\mathbf { y }  }^{ T }\\mathbf { y } ={ \\mathbf { x }  }^{ T }\\mathbf { x } +2{ \\mathbf { x }  }^{ T }\\mathbf { y } +{ \\mathbf { y }  }^{ T }\\mathbf { y } \\\\ 2{ \\mathbf { x }  }^{ T }\\mathbf { y } =0\\\\ { \\mathbf { x }  }^{ T }\\mathbf { y } =0 $$\n",
    "* This states that the dot product of orthogonal vectors equal zero"
   ]
  },
  {
   "cell_type": "markdown",
   "metadata": {},
   "source": [
    "* The zero vector is orthogonal to all other similar dimensional vectors"
   ]
  },
  {
   "cell_type": "markdown",
   "metadata": {},
   "source": [
    "## Orthogonality of subspaces"
   ]
  },
  {
   "cell_type": "markdown",
   "metadata": {},
   "source": [
    "* Consider two subspaces *S* and *T*\n",
    "* To be orthogonal every vector in *S* must be orthogonal to any vector in *T*"
   ]
  },
  {
   "cell_type": "markdown",
   "metadata": {},
   "source": [
    "* Consider the *XY* and *YZ* planes in 3-space\n",
    "* They are not orthogonal, since many combinations of vectors (one in each plane) are not orthogonal\n",
    "* Vectors in the intersection, even though, one each from each plane can indeed be the same vector\n",
    "* We can say that any planes that intersect cannot be orthogonal to each other"
   ]
  },
  {
   "cell_type": "markdown",
   "metadata": {},
   "source": [
    "## Orthogonality of the rowspace and the nullspace"
   ]
  },
  {
   "cell_type": "markdown",
   "metadata": {},
   "source": [
    "* The nullspace contains vectors **x** such that A**x** = **0**\n",
    "* Now remembering that **x**<sup>T</sup>**y** = 0 for orthogonal column vectors and considering each row in A as a transposed column vector and **x** (indeed a column vector) and their product being zero meaning that they are orthogonal, we have:\n",
    "$$ \\begin{bmatrix} { { a }_{ 11 } } & { a }_{ 12 } & \\dots  & { a }_{ 1n } \\\\ { a }_{ 21 } & { a }_{ 22 } & \\dots  & { a }_{ 2n } \\\\ \\vdots  & \\vdots  & \\vdots  & \\vdots  \\\\ { a }_{ m1 } & { a }_{ m2 } & \\dots  & { a }_{ mn } \\end{bmatrix}\\begin{bmatrix} { x }_{ 1 } \\\\ { x }_{ 2 } \\\\ \\vdots  \\\\ { x }_{ n } \\end{bmatrix}=\\begin{bmatrix} 0 \\\\ 0 \\\\ \\vdots  \\\\ 0 \\end{bmatrix}\\\\ \\begin{bmatrix} { a }_{ 11 } & { a }_{ 12 } & \\dots  & { a }_{ 1n } \\end{bmatrix}\\begin{bmatrix} { x }_{ 1 } \\\\ { x }_{ 2 } \\\\ \\vdots  \\\\ { x }_{ n } \\end{bmatrix}=0\\\\ \\dots  $$"
   ]
  },
  {
   "cell_type": "markdown",
   "metadata": {},
   "source": [
    "* The rows (row vectors) in A are NOT the only vectors in the rowspace, since we also need to show that ALL linear combinations of them are also orthogonal to **x**\n",
    "* This is easy to see by the structure above"
   ]
  },
  {
   "cell_type": "markdown",
   "metadata": {},
   "source": [
    "## Orthogonality of the columnspace and the nullspace of A<sup>T</sup>"
   ]
  },
  {
   "cell_type": "markdown",
   "metadata": {},
   "source": [
    "* The proof is the same as above"
   ]
  },
  {
   "cell_type": "markdown",
   "metadata": {},
   "source": [
    "* The orthogonality of the rowspace and the nullspace is creating two orthogonal subspaces in &#8477;<sup>n</sup>\n",
    "* The orthogonality of the columnspace and the nullspace of A<sup>T</sup> is creating two orthogonal subspaces in &#8477;<sup>m</sup>"
   ]
  },
  {
   "cell_type": "markdown",
   "metadata": {},
   "source": [
    "* Note how the dimension add up to the degree of the space &#8477;\n",
    "    * The rowspace (a fundamental subspace in &#8477;<sup>n</sup>) is of dimension *r*\n",
    "    * The dimension of the nullspace (a fundamental subspace in &#8477;<sup>n</sup>) is of dimension *n* - *r*\n",
    "    * Addition of these dimensions gives us the dimension of the total space *n* as in &#8477;<sup>n</sup>\n",
    "    * AND\n",
    "    * The columnspace is of dimension *r* and the nullspace of A<sup>T</sup> is of dimension *m* - *r*, which adds to *m* as in &#8477;<sup>m</sup>"
   ]
  },
  {
   "cell_type": "markdown",
   "metadata": {},
   "source": [
    "* This means that two lines that may be orthogonal in &#8477;<sup>3</sup> cannot be two orthogonal subspaces of &#8477;<sup>3</sup> since the addition of the dimensions of these two subspaces (lines) is not 3 (as in &#8477;<sup>3</sup>)"
   ]
  },
  {
   "cell_type": "markdown",
   "metadata": {
    "collapsed": false
   },
   "source": [
    "* We call this complementarity, i.e. the nullspace and rowspace are orthogonal *complements* in &#8477;<sup>n</sup>"
   ]
  },
  {
   "cell_type": "markdown",
   "metadata": {},
   "source": [
    "## A<sup>T</sup>A"
   ]
  },
  {
   "cell_type": "markdown",
   "metadata": {},
   "source": [
    "* We know that\n",
    "    * The result is square\n",
    "    * The result is symmetric, i.e. (*n*&#215;*m*)(*m*&#215;*n*)=*n*&#215;*n*\n",
    "    * (A<sup>T</sup>A)<sup>T</sup> = A<sup>T</sup>A<sup>TT</sup> = A<sup>T</sup>A"
   ]
  },
  {
   "cell_type": "markdown",
   "metadata": {},
   "source": [
    "* When A**x** = **b** is not solvable we use A<sup>T</sup>A**x** = A<sup>T</sup>**b**\n",
    "* **x** in the first instance did not have a solution, but after multiplying both side with A<sup>T</sup>, we hope that the second **x** has an solution, now called\n",
    "$$ {A}^{T}{A}\\hat{x} = {A}^{T}{b} $$\n"
   ]
  },
  {
   "cell_type": "markdown",
   "metadata": {
    "collapsed": true
   },
   "source": [
    "* Consider the matrix below with *m* = 4 equation in *n* = 2 unknowns\n",
    "* The only **b** solutions must be linear combinations of the columnspace of A"
   ]
  },
  {
   "cell_type": "code",
   "execution_count": 3,
   "metadata": {
    "collapsed": false
   },
   "outputs": [
    {
     "data": {
      "text/latex": [
       "$\\displaystyle \\left[\\begin{matrix}1 & 1\\\\1 & 2\\\\1 & 5\\end{matrix}\\right]$"
      ],
      "text/plain": [
       "⎡1  1⎤\n",
       "⎢    ⎥\n",
       "⎢1  2⎥\n",
       "⎢    ⎥\n",
       "⎣1  5⎦"
      ]
     },
     "execution_count": 3,
     "metadata": {},
     "output_type": "execute_result"
    }
   ],
   "source": [
    "A = Matrix([[1, 1], [1, 2], [1, 5]])\n",
    "A"
   ]
  },
  {
   "cell_type": "markdown",
   "metadata": {
    "collapsed": false
   },
   "source": [
    "$$ {x}_{1} \\begin{bmatrix} 1 \\\\ 1 \\\\ 1 \\end{bmatrix} + {x}_{2} \\begin{bmatrix} 1 \\\\ 2 \\\\ 5 \\end{bmatrix} = \\begin{bmatrix} {b}_{1} \\\\ {b}_{2} \\\\ {b}_{3} \\end{bmatrix} $$"
   ]
  },
  {
   "cell_type": "code",
   "execution_count": 4,
   "metadata": {
    "collapsed": false
   },
   "outputs": [
    {
     "data": {
      "text/latex": [
       "$\\displaystyle \\left[\\begin{matrix}3 & 8\\\\8 & 30\\end{matrix}\\right]$"
      ],
      "text/plain": [
       "⎡3  8 ⎤\n",
       "⎢     ⎥\n",
       "⎣8  30⎦"
      ]
     },
     "execution_count": 4,
     "metadata": {},
     "output_type": "execute_result"
    }
   ],
   "source": [
    "A.transpose() * A"
   ]
  },
  {
   "cell_type": "markdown",
   "metadata": {},
   "source": [
    "## N(A<sup>T</sup>A) = N(A)"
   ]
  },
  {
   "cell_type": "markdown",
   "metadata": {},
   "source": [
    "* Note how the nullspace of A<sup>T</sup>A is equal to the nullspace of A"
   ]
  },
  {
   "cell_type": "code",
   "execution_count": 5,
   "metadata": {
    "collapsed": false
   },
   "outputs": [
    {
     "data": {
      "text/plain": [
       "True"
      ]
     },
     "execution_count": 5,
     "metadata": {},
     "output_type": "execute_result"
    }
   ],
   "source": [
    "(A.transpose() * A).nullspace() == A.nullspace()"
   ]
  },
  {
   "cell_type": "markdown",
   "metadata": {},
   "source": [
    "* The same goes for the rank"
   ]
  },
  {
   "cell_type": "code",
   "execution_count": 6,
   "metadata": {
    "collapsed": false
   },
   "outputs": [
    {
     "data": {
      "text/latex": [
       "$\\displaystyle \\left( \\left( \\left[\\begin{matrix}1 & 0\\\\0 & 1\\\\0 & 0\\end{matrix}\\right], \\  \\left( 0, \\  1\\right)\\right), \\  \\left( \\left[\\begin{matrix}1 & 0\\\\0 & 1\\end{matrix}\\right], \\  \\left( 0, \\  1\\right)\\right)\\right)$"
      ],
      "text/plain": [
       "⎛⎛⎡1  0⎤        ⎞                  ⎞\n",
       "⎜⎜⎢    ⎥        ⎟  ⎛⎡1  0⎤        ⎞⎟\n",
       "⎜⎜⎢0  1⎥, (0, 1)⎟, ⎜⎢    ⎥, (0, 1)⎟⎟\n",
       "⎜⎜⎢    ⎥        ⎟  ⎝⎣0  1⎦        ⎠⎟\n",
       "⎝⎝⎣0  0⎦        ⎠                  ⎠"
      ]
     },
     "execution_count": 6,
     "metadata": {},
     "output_type": "execute_result"
    }
   ],
   "source": [
    "A.rref(), (A.transpose() * A).rref()"
   ]
  },
  {
   "cell_type": "markdown",
   "metadata": {},
   "source": [
    "* A<sup>T</sup>A is not always invertible\n",
    "* In fact it is only invertible if the nullspace of A only contains the zero vector (has independent columns)"
   ]
  },
  {
   "cell_type": "code",
   "execution_count": null,
   "metadata": {
    "collapsed": true
   },
   "outputs": [],
   "source": []
  }
 ],
 "metadata": {
  "kernelspec": {
   "display_name": "ai-portfolio",
   "language": "python",
   "name": "python3"
  },
  "language_info": {
   "codemirror_mode": {
    "name": "ipython",
    "version": 3
   },
   "file_extension": ".py",
   "mimetype": "text/x-python",
   "name": "python",
   "nbconvert_exporter": "python",
   "pygments_lexer": "ipython3",
   "version": "3.11.13"
  }
 },
 "nbformat": 4,
 "nbformat_minor": 0
}
