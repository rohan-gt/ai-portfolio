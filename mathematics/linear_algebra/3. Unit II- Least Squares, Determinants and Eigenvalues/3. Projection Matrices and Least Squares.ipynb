{
 "cells": [
  {
   "cell_type": "code",
   "execution_count": 1,
   "metadata": {
    "collapsed": true
   },
   "outputs": [],
   "source": [
    "from sympy import init_printing, Matrix, symbols\n",
    "from IPython.display import Image\n",
    "from warnings import filterwarnings"
   ]
  },
  {
   "cell_type": "code",
   "execution_count": 2,
   "metadata": {
    "collapsed": true
   },
   "outputs": [],
   "source": [
    "init_printing(use_latex=\"mathjax\")\n",
    "filterwarnings(\"ignore\")"
   ]
  },
  {
   "cell_type": "markdown",
   "metadata": {
    "collapsed": true
   },
   "source": [
    "# Projection matrices and least squares"
   ]
  },
  {
   "cell_type": "markdown",
   "metadata": {},
   "source": [
    "## Least squares"
   ]
  },
  {
   "cell_type": "markdown",
   "metadata": {},
   "source": [
    "* Consider from the previous lecture the three data point in the plane\n",
    "$$ ({t}_{i},{y}_{i}) =(1,1), (2,2),(3,2) $$\n",
    "* From this we need to construct a straight line\n",
    "* This could be helpful say in, statistics (remember, though in statistics we might have to get rid of statistical outliers)\n",
    "* Nonetheless (view image above) we note that we have a straight line in slope-intercept form\n",
    "$$ {y}={C}+{Dt} $$\n",
    "* On the line at *t* values of 1, 2, and 3 we will have\n",
    "$$ {y}_{1}={C}+{D}=1 \\\\ {y}_{2}={C}+{2D}=2 \\\\ {y}_{3}={C}+{3D}=2 $$\n",
    "* The actual *y* values at these *t* values are 1, 2, and 2, though\n",
    "* We are thus including an error of\n",
    "$$ \\delta{y} \\\\ { \\left( { e }_{ 1 } \\right)  }^{ 2 }={ \\left[ \\left( C+D \\right) -1 \\right]  }^{ 2 }\\\\ { \\left( { e }_{ 2 } \\right)  }^{ 2 }={ \\left[ \\left( C+2D \\right) -2 \\right]  }^{ 2 }\\\\ { \\left( { e }_{ 3 } \\right)  }^{ 2 }={ \\left[ \\left( C+3D \\right) -2 \\right]  }^{ 2 } $$\n",
    "* Since some are positive and some are negative (actual values below or above the line), we simply determine the square (which will always be positive)\n",
    "* Adding the (three in our example here) squares we have the sum total of the error (which is actuall just the sqautre of the distance between the line and actual *y* values)\n",
    "* The line will be the best fit when this error sum is at a minimum (hence *least squares*)\n",
    "* We can do this with calculus or with linear algebra\n",
    "* For calculus we take the partial derivatives of both unknowns and set to zero\n",
    "* For linear algebra we project orthogonally onto the columnspace (hence minimizing the error)\n",
    "    * Note that the solution **b** does not exist in the columnspace (it is not a linear combination of the columns)"
   ]
  },
  {
   "cell_type": "markdown",
   "metadata": {},
   "source": [
    "### Calculus method"
   ]
  },
  {
   "cell_type": "markdown",
   "metadata": {},
   "source": [
    "* We'll create a function *f*(C,D) and successively take the partial derivatives of both variables and set it to zero\n",
    "* We fill then have two equation with two unknowns to solve (which is easy enough to do manually or by simple linear algebra and row reduction)"
   ]
  },
  {
   "cell_type": "code",
   "execution_count": 3,
   "metadata": {
    "collapsed": true
   },
   "outputs": [],
   "source": [
    "C, D = symbols(\"C D\")"
   ]
  },
  {
   "cell_type": "code",
   "execution_count": 4,
   "metadata": {},
   "outputs": [
    {
     "data": {
      "text/latex": [
       "$\\displaystyle \\left(C + D - 1\\right)^{2} + \\left(C + 2 D - 2\\right)^{2} + \\left(C + 3 D - 2\\right)^{2}$"
      ],
      "text/plain": [
       "           2                2                2\n",
       "(C + D - 1)  + (C + 2⋅D - 2)  + (C + 3⋅D - 2) "
      ]
     },
     "execution_count": 4,
     "metadata": {},
     "output_type": "execute_result"
    }
   ],
   "source": [
    "e1_squared = ((C + D) - 1) ** 2\n",
    "e2_squared = ((C + 2 * D) - 2) ** 2\n",
    "e3_squared = ((C + 3 * D) - 2) ** 2\n",
    "f = e1_squared + e2_squared + e3_squared\n",
    "f"
   ]
  },
  {
   "cell_type": "code",
   "execution_count": 5,
   "metadata": {},
   "outputs": [
    {
     "data": {
      "text/latex": [
       "$\\displaystyle 3 C^{2} + 12 C D - 10 C + 14 D^{2} - 22 D + 9$"
      ],
      "text/plain": [
       "   2                       2           \n",
       "3⋅C  + 12⋅C⋅D - 10⋅C + 14⋅D  - 22⋅D + 9"
      ]
     },
     "execution_count": 5,
     "metadata": {},
     "output_type": "execute_result"
    }
   ],
   "source": [
    "f.expand()  # Expanding the expression"
   ]
  },
  {
   "cell_type": "markdown",
   "metadata": {},
   "source": [
    "* Doing the partial derivatives will be\n",
    "$$ f\\left( C,D \\right) =3{ C }^{ 2 }+12CD-10C+14{ D }^{ 2 }-22D+9\\\\ \\frac { \\partial f }{ \\partial C } =6C+12D-10=0\\\\ \\frac { \\partial f }{ \\partial D } =12C+28D-22=0 $$"
   ]
  },
  {
   "cell_type": "code",
   "execution_count": 6,
   "metadata": {},
   "outputs": [
    {
     "data": {
      "text/latex": [
       "$\\displaystyle 6 C + 12 D - 10$"
      ],
      "text/plain": [
       "6⋅C + 12⋅D - 10"
      ]
     },
     "execution_count": 6,
     "metadata": {},
     "output_type": "execute_result"
    }
   ],
   "source": [
    "f.diff(C)  # Taking the partial derivative with respect to C"
   ]
  },
  {
   "cell_type": "code",
   "execution_count": 7,
   "metadata": {},
   "outputs": [
    {
     "data": {
      "text/latex": [
       "$\\displaystyle 12 C + 28 D - 22$"
      ],
      "text/plain": [
       "12⋅C + 28⋅D - 22"
      ]
     },
     "execution_count": 7,
     "metadata": {},
     "output_type": "execute_result"
    }
   ],
   "source": [
    "f.diff(D)  # Taking the partial derivative with respect to D"
   ]
  },
  {
   "cell_type": "markdown",
   "metadata": {},
   "source": [
    "* Setting both equal to zero (and creating a simple augmented matrix) we get\n",
    "$$ 6C+12D-10=0\\\\ 12C+28D-22=0\\\\ \\therefore \\quad 6C+12D=10\\\\ \\therefore \\quad 12C+28D=22 $$"
   ]
  },
  {
   "cell_type": "code",
   "execution_count": 8,
   "metadata": {},
   "outputs": [
    {
     "data": {
      "text/latex": [
       "$\\displaystyle \\left[\\begin{matrix}6 & 12 & 10\\\\12 & 28 & 22\\end{matrix}\\right]$"
      ],
      "text/plain": [
       "⎡6   12  10⎤\n",
       "⎢          ⎥\n",
       "⎣12  28  22⎦"
      ]
     },
     "execution_count": 8,
     "metadata": {},
     "output_type": "execute_result"
    }
   ],
   "source": [
    "A_augm = Matrix([[6, 12, 10], [12, 28, 22]])\n",
    "A_augm"
   ]
  },
  {
   "cell_type": "code",
   "execution_count": 9,
   "metadata": {},
   "outputs": [
    {
     "data": {
      "text/latex": [
       "$\\displaystyle \\left( \\left[\\begin{matrix}1 & 0 & \\frac{2}{3}\\\\0 & 1 & \\frac{1}{2}\\end{matrix}\\right], \\  \\left( 0, \\  1\\right)\\right)$"
      ],
      "text/plain": [
       "⎛⎡1  0  2/3⎤        ⎞\n",
       "⎜⎢         ⎥, (0, 1)⎟\n",
       "⎝⎣0  1  1/2⎦        ⎠"
      ]
     },
     "execution_count": 9,
     "metadata": {},
     "output_type": "execute_result"
    }
   ],
   "source": [
    "A_augm.rref()  # Doing a Gauss-Jordan elimination to reduced row echelon form"
   ]
  },
  {
   "cell_type": "markdown",
   "metadata": {},
   "source": [
    "* We now have a solution\n",
    "$$ {y}=\\frac{2}{3} + \\frac{1}{2}{t}$$"
   ]
  },
  {
   "cell_type": "markdown",
   "metadata": {},
   "source": [
    "### Linear algebra"
   ]
  },
  {
   "cell_type": "markdown",
   "metadata": {},
   "source": [
    "* We note that we can construct the following\n",
    "$$ {C}+{1D}={1} \\\\ {C}+{2D}={2} \\\\ {C}+{3D}={2} \\\\ {C}\\begin{bmatrix} 1 \\\\ 1\\\\ 1 \\end{bmatrix}+{D}\\begin{bmatrix} 1 \\\\ 2 \\\\ 3 \\end{bmatrix}=\\begin{bmatrix} 1 \\\\ 2 \\\\ 2 \\end{bmatrix} \\\\ A\\mathbf { x } =\\mathbf { b } \\\\ \\begin{bmatrix} 1 & 1 \\\\ 1 & 2 \\\\ 1 & 3 \\end{bmatrix}\\begin{bmatrix} C \\\\ D \\end{bmatrix}=\\begin{bmatrix} 1 \\\\ 2 \\\\ 2 \\end{bmatrix} $$\n",
    "* **b** is not in the columnspace of A and we have to do orthogonal projection\n",
    "$$ { A }^{ T }A\\hat { x } ={ A }^{ T }\\mathbf { b } \\\\ \\hat { x } ={ \\left( { A }^{ T }A \\right)  }^{ -1 }{ A }^{ T }\\mathbf { b }  $$"
   ]
  },
  {
   "cell_type": "code",
   "execution_count": 10,
   "metadata": {},
   "outputs": [
    {
     "data": {
      "text/latex": [
       "$\\displaystyle \\left( \\left[\\begin{matrix}1 & 1\\\\1 & 2\\\\1 & 3\\end{matrix}\\right], \\  \\left[\\begin{matrix}1\\\\2\\\\2\\end{matrix}\\right]\\right)$"
      ],
      "text/plain": [
       "⎛⎡1  1⎤  ⎡1⎤⎞\n",
       "⎜⎢    ⎥  ⎢ ⎥⎟\n",
       "⎜⎢1  2⎥, ⎢2⎥⎟\n",
       "⎜⎢    ⎥  ⎢ ⎥⎟\n",
       "⎝⎣1  3⎦  ⎣2⎦⎠"
      ]
     },
     "execution_count": 10,
     "metadata": {},
     "output_type": "execute_result"
    }
   ],
   "source": [
    "A = Matrix([[1, 1], [1, 2], [1, 3]])\n",
    "b = Matrix([1, 2, 2])\n",
    "A, b  # Showing the two matrices"
   ]
  },
  {
   "cell_type": "code",
   "execution_count": 11,
   "metadata": {},
   "outputs": [
    {
     "data": {
      "text/latex": [
       "$\\displaystyle \\left[\\begin{matrix}\\frac{2}{3}\\\\\\frac{1}{2}\\end{matrix}\\right]$"
      ],
      "text/plain": [
       "⎡2/3⎤\n",
       "⎢   ⎥\n",
       "⎣1/2⎦"
      ]
     },
     "execution_count": 11,
     "metadata": {},
     "output_type": "execute_result"
    }
   ],
   "source": [
    "x_hat = (A.transpose() * A).inv() * A.transpose() * b\n",
    "x_hat"
   ]
  },
  {
   "cell_type": "markdown",
   "metadata": {},
   "source": [
    "* Again, we get the same values for C and D"
   ]
  },
  {
   "cell_type": "markdown",
   "metadata": {},
   "source": [
    "* Remember the following\n",
    "$$ \\mathbf{b} = \\mathbf{p}+\\mathbf{e} $$\n",
    "* **p** and **e** are perpendicular\n",
    "* Indeed **p** is in the columnspace of A and **e** is perpendicular to the columspace (or any vector in the columnspace)"
   ]
  },
  {
   "cell_type": "markdown",
   "metadata": {
    "collapsed": true
   },
   "source": [
    "## Example problem"
   ]
  },
  {
   "cell_type": "markdown",
   "metadata": {},
   "source": [
    "### Example problem 1"
   ]
  },
  {
   "cell_type": "markdown",
   "metadata": {},
   "source": [
    "* Find the quadratic (second order polynomial) equation through the origin, with the following data points: (1,1), (2,5) and (-1,-2)"
   ]
  },
  {
   "cell_type": "markdown",
   "metadata": {},
   "source": [
    "#### Solution"
   ]
  },
  {
   "cell_type": "markdown",
   "metadata": {},
   "source": [
    "* Let's just think about a quadratic equation in *y* and *t*\n",
    "$$ {y}={c}_{1} +{C}{t}+{D}{t}^{2} $$\n",
    "* Through the origin (0,0) means *y* = 0 and *t* = 0, thus we have\n",
    "$$ {0}={c}_{1} +{C}{0}+{D}{0}^{2} \\\\ {c}_{1}=0 \\\\ {y}={C}{t}+{D}{t}^{2} $$"
   ]
  },
  {
   "cell_type": "markdown",
   "metadata": {},
   "source": [
    "* This gives us three equation for our three data points\n",
    "$$ C\\left( 1 \\right) +D{ \\left( 1 \\right)  }^{ 2 }=1\\\\ C\\left( 2 \\right) +D{ \\left( 2 \\right)  }^{ 2 }=5\\\\ C\\left( -1 \\right) +D{ \\left( -1 \\right)  }^{ 2 }=-2\\\\ C\\begin{bmatrix} 1 \\\\ 2 \\\\ -1 \\end{bmatrix}+D\\begin{bmatrix} 1 \\\\ 4 \\\\ 1 \\end{bmatrix}=\\begin{bmatrix} 1 \\\\ 5 \\\\ -2 \\end{bmatrix}\\\\ A=\\begin{bmatrix} 1 & 1 \\\\ 2 & 4 \\\\ -1 & 1 \\end{bmatrix}\\\\ \\mathbf { x } =\\begin{bmatrix} C \\\\ D \\end{bmatrix}\\\\ \\mathbf { b } =\\begin{bmatrix} 1 \\\\ 5 \\\\ -2 \\end{bmatrix} $$"
   ]
  },
  {
   "cell_type": "markdown",
   "metadata": {},
   "source": [
    "* Clearly **b** is not in the columnspace of A and we have to project orthogonally onto the columnspace using\n",
    "$$ \\hat { x } ={ \\left( { A }^{ T }A \\right)  }^{ -1 }{ A }^{ T }\\mathbf { b } $$"
   ]
  },
  {
   "cell_type": "code",
   "execution_count": 12,
   "metadata": {},
   "outputs": [
    {
     "data": {
      "text/latex": [
       "$\\displaystyle \\left[\\begin{matrix}\\frac{41}{22}\\\\\\frac{5}{22}\\end{matrix}\\right]$"
      ],
      "text/plain": [
       "⎡ 41 ⎤\n",
       "⎢ ── ⎥\n",
       "⎢ 22 ⎥\n",
       "⎢    ⎥\n",
       "⎣5/22⎦"
      ]
     },
     "execution_count": 12,
     "metadata": {},
     "output_type": "execute_result"
    }
   ],
   "source": [
    "A = Matrix([[1, 1], [2, 4], [-1, 1]])\n",
    "b = Matrix([1, 5, -2])\n",
    "x_hat = (A.transpose() * A).inv() * A.transpose() * b\n",
    "x_hat"
   ]
  },
  {
   "cell_type": "markdown",
   "metadata": {},
   "source": [
    "* Here's a simple plot of the equation"
   ]
  },
  {
   "cell_type": "code",
   "execution_count": 13,
   "metadata": {},
   "outputs": [],
   "source": [
    "import matplotlib.pyplot as plt  # The graph plotting module\n",
    "import numpy as np  # The numerical mathematics module\n",
    "\n",
    "%matplotlib inline"
   ]
  },
  {
   "cell_type": "code",
   "execution_count": 14,
   "metadata": {},
   "outputs": [
    {
     "data": {
      "image/png": "[encoded data removed]",
      "text/plain": [
       "<Figure size 800x600 with 1 Axes>"
      ]
     },
     "metadata": {},
     "output_type": "display_data"
    }
   ],
   "source": [
    "x = np.linspace(-2, 3, 100)  # Creating 100 x-values\n",
    "y = (41 / 22) * x + (5 / 22) * x**2  # From the equation above\n",
    "plt.figure(figsize=(8, 6))  # Creating a plot of the indicated size\n",
    "plt.plot(\n",
    "    x, y, \"b-\"\n",
    ")  # Plot the equation above , in essence 100 little plots using small segmnets of blue lines\n",
    "plt.plot(1, 1, \"ro\")  # Plot the point in a red dot\n",
    "plt.plot(2, 5, \"ro\")\n",
    "plt.plot(-1, -2, \"ro\")\n",
    "plt.plot(0, 0, \"gs\")  # Plot the origin as a green square\n",
    "plt.show();  # Create the plot"
   ]
  },
  {
   "cell_type": "code",
   "execution_count": null,
   "metadata": {
    "collapsed": true
   },
   "outputs": [],
   "source": []
  }
 ],
 "metadata": {
  "kernelspec": {
   "display_name": "ai-portfolio",
   "language": "python",
   "name": "python3"
  },
  "language_info": {
   "codemirror_mode": {
    "name": "ipython",
    "version": 3
   },
   "file_extension": ".py",
   "mimetype": "text/x-python",
   "name": "python",
   "nbconvert_exporter": "python",
   "pygments_lexer": "ipython3",
   "version": "3.11.13"
  }
 },
 "nbformat": 4,
 "nbformat_minor": 1
}
