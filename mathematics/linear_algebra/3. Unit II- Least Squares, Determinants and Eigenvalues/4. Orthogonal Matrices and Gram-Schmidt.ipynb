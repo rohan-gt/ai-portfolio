{
 "cells": [
  {
   "cell_type": "code",
   "execution_count": 63,
   "metadata": {
    "collapsed": true
   },
   "outputs": [],
   "source": [
    "from sympy import init_printing, symbols, Matrix, sin, cos, sqrt, Rational, GramSchmidt\n",
    "from warnings import filterwarnings"
   ]
  },
  {
   "cell_type": "code",
   "execution_count": 64,
   "metadata": {
    "collapsed": true
   },
   "outputs": [],
   "source": [
    "init_printing(use_latex=\"mathjax\")\n",
    "filterwarnings(\"ignore\")"
   ]
  },
  {
   "cell_type": "code",
   "execution_count": 65,
   "metadata": {
    "collapsed": true
   },
   "outputs": [],
   "source": [
    "theta = symbols(\"theta\")"
   ]
  },
  {
   "cell_type": "markdown",
   "metadata": {},
   "source": [
    "## Orthogonal basis"
   ]
  },
  {
   "cell_type": "markdown",
   "metadata": {},
   "source": [
    "* Here we mean vectors *q*<sub>1</sub>,*q*<sub>2</sub>,...,*q*<sub>n</sub>"
   ]
  },
  {
   "cell_type": "markdown",
   "metadata": {},
   "source": [
    "* We actually mean orthonormal vectors (for orthogonal or perpendicular and of unit length / normalized)\n",
    "* Vectors that are orthogonal have a dot product equal to zero\n",
    "    * If they are orthogonal\n",
    "$$ {q}_{i}^{T}{q}_{j}={0} $$\n",
    "    * If they are not\n",
    "$$ {q}_{i}^{T}{q}_{j}\\neq{0} $$"
   ]
  },
  {
   "cell_type": "markdown",
   "metadata": {},
   "source": [
    "## Orthogonal matrix"
   ]
  },
  {
   "cell_type": "markdown",
   "metadata": {},
   "source": [
    "* We can now put these (column) basis vectors into a matrix Q"
   ]
  },
  {
   "cell_type": "markdown",
   "metadata": {},
   "source": [
    "* This brings about\n",
    "$$ {Q}^{T}{Q}={I} $$"
   ]
  },
  {
   "cell_type": "markdown",
   "metadata": {},
   "source": [
    "* In the case of the matrix Q being square the word *orthogonal matrix* is used\n",
    "* When it is square we can calculate the inverse making\n",
    "$$ {Q}^{T}={Q}^{-1} $$"
   ]
  },
  {
   "cell_type": "markdown",
   "metadata": {
    "collapsed": true
   },
   "source": [
    "* Consider the following permutation matrix with orthonormal column vectors"
   ]
  },
  {
   "cell_type": "code",
   "execution_count": 66,
   "metadata": {
    "collapsed": false
   },
   "outputs": [
    {
     "data": {
      "text/latex": [
       "$\\displaystyle \\left( \\left[\\begin{matrix}0 & 0 & 1\\\\1 & 0 & 0\\\\0 & 1 & 0\\end{matrix}\\right], \\  \\left[\\begin{matrix}0 & 1 & 0\\\\0 & 0 & 1\\\\1 & 0 & 0\\end{matrix}\\right]\\right)$"
      ],
      "text/plain": [
       "⎛⎡0  0  1⎤  ⎡0  1  0⎤⎞\n",
       "⎜⎢       ⎥  ⎢       ⎥⎟\n",
       "⎜⎢1  0  0⎥, ⎢0  0  1⎥⎟\n",
       "⎜⎢       ⎥  ⎢       ⎥⎟\n",
       "⎝⎣0  1  0⎦  ⎣1  0  0⎦⎠"
      ]
     },
     "execution_count": 66,
     "metadata": {},
     "output_type": "execute_result"
    }
   ],
   "source": [
    "Q = Matrix([[0, 0, 1], [1, 0, 0], [0, 1, 0]])\n",
    "Q, Q.transpose()"
   ]
  },
  {
   "cell_type": "markdown",
   "metadata": {},
   "source": [
    "* In this example the transpose also contains orthonormal column vectors\n",
    "* Multiplication gives the identity matrix"
   ]
  },
  {
   "cell_type": "code",
   "execution_count": 67,
   "metadata": {
    "collapsed": false
   },
   "outputs": [
    {
     "data": {
      "text/latex": [
       "$\\displaystyle \\left[\\begin{matrix}1 & 0 & 0\\\\0 & 1 & 0\\\\0 & 0 & 1\\end{matrix}\\right]$"
      ],
      "text/plain": [
       "⎡1  0  0⎤\n",
       "⎢       ⎥\n",
       "⎢0  1  0⎥\n",
       "⎢       ⎥\n",
       "⎣0  0  1⎦"
      ]
     },
     "execution_count": 67,
     "metadata": {},
     "output_type": "execute_result"
    }
   ],
   "source": [
    "Q.transpose() * Q"
   ]
  },
  {
   "cell_type": "markdown",
   "metadata": {},
   "source": [
    "* Consider this example"
   ]
  },
  {
   "cell_type": "code",
   "execution_count": 68,
   "metadata": {
    "collapsed": false
   },
   "outputs": [
    {
     "data": {
      "text/latex": [
       "$\\displaystyle \\left( \\left[\\begin{matrix}\\cos{\\left(\\theta \\right)} & - \\sin{\\left(\\theta \\right)}\\\\\\sin{\\left(\\theta \\right)} & \\cos{\\left(\\theta \\right)}\\end{matrix}\\right], \\  \\left[\\begin{matrix}\\cos{\\left(\\theta \\right)} & \\sin{\\left(\\theta \\right)}\\\\- \\sin{\\left(\\theta \\right)} & \\cos{\\left(\\theta \\right)}\\end{matrix}\\right]\\right)$"
      ],
      "text/plain": [
       "⎛⎡cos(θ)  -sin(θ)⎤  ⎡cos(θ)   sin(θ)⎤⎞\n",
       "⎜⎢               ⎥, ⎢               ⎥⎟\n",
       "⎝⎣sin(θ)  cos(θ) ⎦  ⎣-sin(θ)  cos(θ)⎦⎠"
      ]
     },
     "execution_count": 68,
     "metadata": {},
     "output_type": "execute_result"
    }
   ],
   "source": [
    "Q = Matrix([[cos(theta), -sin(theta)], [sin(theta), cos(theta)]])\n",
    "Q, Q.transpose()"
   ]
  },
  {
   "cell_type": "markdown",
   "metadata": {},
   "source": [
    "* The two column vectors are orthogonal and the length of each column vector is 1\n",
    "* It is thus an orthogonal matrix"
   ]
  },
  {
   "cell_type": "code",
   "execution_count": 69,
   "metadata": {
    "collapsed": false
   },
   "outputs": [
    {
     "data": {
      "text/latex": [
       "$\\displaystyle \\left[\\begin{matrix}\\sin^{2}{\\left(\\theta \\right)} + \\cos^{2}{\\left(\\theta \\right)} & 0\\\\0 & \\sin^{2}{\\left(\\theta \\right)} + \\cos^{2}{\\left(\\theta \\right)}\\end{matrix}\\right]$"
      ],
      "text/plain": [
       "⎡   2         2                      ⎤\n",
       "⎢sin (θ) + cos (θ)          0        ⎥\n",
       "⎢                                    ⎥\n",
       "⎢                      2         2   ⎥\n",
       "⎣        0          sin (θ) + cos (θ)⎦"
      ]
     },
     "execution_count": 69,
     "metadata": {},
     "output_type": "execute_result"
    }
   ],
   "source": [
    "Q.transpose() * Q"
   ]
  },
  {
   "cell_type": "markdown",
   "metadata": {},
   "source": [
    "* The example below certainly has orthogonal column vectors, but they are not of unit length\n",
    "$$ {Q}=\\begin{bmatrix} 1 & 1 \\\\ 1 & {-1} \\end{bmatrix} $$"
   ]
  },
  {
   "cell_type": "markdown",
   "metadata": {
    "collapsed": true
   },
   "source": [
    "* Well, we can change them into unit vectors by dividing each component by the length of that vector\n",
    "$$ \\sqrt { { \\left( 1 \\right)  }^{ 2 }+{ \\left( 1 \\right)  }^{ 2 } } =\\sqrt { 2 } \\\\ \\sqrt { { \\left( 1 \\right)  }^{ 2 }+{ \\left( -1 \\right)  }^{ 2 } } =\\sqrt { 2 }  $$\n",
    "$$ Q=\\frac { 1 }{ \\sqrt { 2 }  } \\begin{bmatrix} 1 & 1 \\\\ 1 & -1 \\end{bmatrix} $$"
   ]
  },
  {
   "cell_type": "markdown",
   "metadata": {},
   "source": [
    "* As it stands Q<sup>T</sup>Q is not the identity matrix"
   ]
  },
  {
   "cell_type": "code",
   "execution_count": 70,
   "metadata": {
    "collapsed": false
   },
   "outputs": [
    {
     "data": {
      "text/latex": [
       "$\\displaystyle \\left[\\begin{matrix}2 & 0\\\\0 & 2\\end{matrix}\\right]$"
      ],
      "text/plain": [
       "⎡2  0⎤\n",
       "⎢    ⎥\n",
       "⎣0  2⎦"
      ]
     },
     "execution_count": 70,
     "metadata": {},
     "output_type": "execute_result"
    }
   ],
   "source": [
    "Q = Matrix([[1, 1], [1, -1]])\n",
    "Q.transpose() * Q"
   ]
  },
  {
   "cell_type": "markdown",
   "metadata": {},
   "source": [
    "* Turning it into an orthogonal matrix"
   ]
  },
  {
   "cell_type": "code",
   "execution_count": 71,
   "metadata": {
    "collapsed": false
   },
   "outputs": [
    {
     "data": {
      "text/latex": [
       "$\\displaystyle \\left[\\begin{matrix}\\frac{\\sqrt{2}}{2} & \\frac{\\sqrt{2}}{2}\\\\\\frac{\\sqrt{2}}{2} & - \\frac{\\sqrt{2}}{2}\\end{matrix}\\right]$"
      ],
      "text/plain": [
       "⎡√2   √2 ⎤\n",
       "⎢──   ── ⎥\n",
       "⎢2    2  ⎥\n",
       "⎢        ⎥\n",
       "⎢√2  -√2 ⎥\n",
       "⎢──  ────⎥\n",
       "⎣2    2  ⎦"
      ]
     },
     "execution_count": 71,
     "metadata": {},
     "output_type": "execute_result"
    }
   ],
   "source": [
    "Q = (1 / sqrt(2)) * Matrix([[1, 1], [1, -1]])\n",
    "Q"
   ]
  },
  {
   "cell_type": "code",
   "execution_count": 72,
   "metadata": {
    "collapsed": false
   },
   "outputs": [
    {
     "data": {
      "text/latex": [
       "$\\displaystyle \\left[\\begin{matrix}1 & 0\\\\0 & 1\\end{matrix}\\right]$"
      ],
      "text/plain": [
       "⎡1  0⎤\n",
       "⎢    ⎥\n",
       "⎣0  1⎦"
      ]
     },
     "execution_count": 72,
     "metadata": {},
     "output_type": "execute_result"
    }
   ],
   "source": [
    "Q.transpose() * Q"
   ]
  },
  {
   "cell_type": "markdown",
   "metadata": {},
   "source": [
    "* Consider this example with orthogonal (but not orthonormal) column vectors"
   ]
  },
  {
   "cell_type": "code",
   "execution_count": 73,
   "metadata": {
    "collapsed": false
   },
   "outputs": [
    {
     "data": {
      "text/latex": [
       "$\\displaystyle \\left[\\begin{matrix}1 & 1 & 1 & 1\\\\1 & -1 & 1 & -1\\\\1 & 1 & -1 & -1\\\\1 & -1 & -1 & 1\\end{matrix}\\right]$"
      ],
      "text/plain": [
       "⎡1  1   1   1 ⎤\n",
       "⎢             ⎥\n",
       "⎢1  -1  1   -1⎥\n",
       "⎢             ⎥\n",
       "⎢1  1   -1  -1⎥\n",
       "⎢             ⎥\n",
       "⎣1  -1  -1  1 ⎦"
      ]
     },
     "execution_count": 73,
     "metadata": {},
     "output_type": "execute_result"
    }
   ],
   "source": [
    "Q = Matrix([[1, 1, 1, 1], [1, -1, 1, -1], [1, 1, -1, -1], [1, -1, -1, 1]])\n",
    "Q"
   ]
  },
  {
   "cell_type": "markdown",
   "metadata": {},
   "source": [
    "* Again, as it stands Q<sup>T</sup>Q is not the identity matrix"
   ]
  },
  {
   "cell_type": "code",
   "execution_count": 74,
   "metadata": {
    "collapsed": false
   },
   "outputs": [
    {
     "data": {
      "text/latex": [
       "$\\displaystyle \\left[\\begin{matrix}4 & 0 & 0 & 0\\\\0 & 4 & 0 & 0\\\\0 & 0 & 4 & 0\\\\0 & 0 & 0 & 4\\end{matrix}\\right]$"
      ],
      "text/plain": [
       "⎡4  0  0  0⎤\n",
       "⎢          ⎥\n",
       "⎢0  4  0  0⎥\n",
       "⎢          ⎥\n",
       "⎢0  0  4  0⎥\n",
       "⎢          ⎥\n",
       "⎣0  0  0  4⎦"
      ]
     },
     "execution_count": 74,
     "metadata": {},
     "output_type": "execute_result"
    }
   ],
   "source": [
    "Q.transpose() * Q"
   ]
  },
  {
   "cell_type": "markdown",
   "metadata": {},
   "source": [
    "* But turning it into an orthogonal matrix works"
   ]
  },
  {
   "cell_type": "code",
   "execution_count": 75,
   "metadata": {
    "collapsed": false
   },
   "outputs": [
    {
     "data": {
      "text/latex": [
       "$\\displaystyle \\left[\\begin{matrix}\\frac{1}{2} & \\frac{1}{2} & \\frac{1}{2} & \\frac{1}{2}\\\\\\frac{1}{2} & - \\frac{1}{2} & \\frac{1}{2} & - \\frac{1}{2}\\\\\\frac{1}{2} & \\frac{1}{2} & - \\frac{1}{2} & - \\frac{1}{2}\\\\\\frac{1}{2} & - \\frac{1}{2} & - \\frac{1}{2} & \\frac{1}{2}\\end{matrix}\\right]$"
      ],
      "text/plain": [
       "⎡1/2  1/2   1/2   1/2 ⎤\n",
       "⎢                     ⎥\n",
       "⎢1/2  -1/2  1/2   -1/2⎥\n",
       "⎢                     ⎥\n",
       "⎢1/2  1/2   -1/2  -1/2⎥\n",
       "⎢                     ⎥\n",
       "⎣1/2  -1/2  -1/2  1/2 ⎦"
      ]
     },
     "execution_count": 75,
     "metadata": {},
     "output_type": "execute_result"
    }
   ],
   "source": [
    "Q = Rational(1, 2) * Matrix(\n",
    "    [[1, 1, 1, 1], [1, -1, 1, -1], [1, 1, -1, -1], [1, -1, -1, 1]]\n",
    ")\n",
    "# Rational() creates a mathematical fraction instead of a decimal\n",
    "Q"
   ]
  },
  {
   "cell_type": "code",
   "execution_count": 76,
   "metadata": {
    "collapsed": false
   },
   "outputs": [
    {
     "data": {
      "text/latex": [
       "$\\displaystyle \\left[\\begin{matrix}1 & 0 & 0 & 0\\\\0 & 1 & 0 & 0\\\\0 & 0 & 1 & 0\\\\0 & 0 & 0 & 1\\end{matrix}\\right]$"
      ],
      "text/plain": [
       "⎡1  0  0  0⎤\n",
       "⎢          ⎥\n",
       "⎢0  1  0  0⎥\n",
       "⎢          ⎥\n",
       "⎢0  0  1  0⎥\n",
       "⎢          ⎥\n",
       "⎣0  0  0  1⎦"
      ]
     },
     "execution_count": 76,
     "metadata": {},
     "output_type": "execute_result"
    }
   ],
   "source": [
    "Q.transpose() * Q"
   ]
  },
  {
   "cell_type": "markdown",
   "metadata": {},
   "source": [
    "* Consider this matrix Q with orthogonal column vectors, but that is not square"
   ]
  },
  {
   "cell_type": "code",
   "execution_count": 77,
   "metadata": {
    "collapsed": false
   },
   "outputs": [
    {
     "data": {
      "text/latex": [
       "$\\displaystyle \\left[\\begin{matrix}\\frac{1}{3} & - \\frac{2}{3}\\\\\\frac{2}{3} & - \\frac{1}{3}\\\\\\frac{2}{3} & \\frac{2}{3}\\end{matrix}\\right]$"
      ],
      "text/plain": [
       "⎡1/3  -2/3⎤\n",
       "⎢         ⎥\n",
       "⎢2/3  -1/3⎥\n",
       "⎢         ⎥\n",
       "⎣2/3  2/3 ⎦"
      ]
     },
     "execution_count": 77,
     "metadata": {},
     "output_type": "execute_result"
    }
   ],
   "source": [
    "Q = Rational(1, 3) * Matrix([[1, -2], [2, -1], [2, 2]])\n",
    "Q"
   ]
  },
  {
   "cell_type": "markdown",
   "metadata": {},
   "source": [
    "* We now have a matrix with two column vectors that are normalized and orthogonal to each other and they form a basis for a plane (subspace) in &#8477;<sup>3</sup>"
   ]
  },
  {
   "cell_type": "markdown",
   "metadata": {},
   "source": [
    "* There must be a third column matrix of unit length, orthogonal to the other two so we end up with an orthogonal matrix "
   ]
  },
  {
   "cell_type": "code",
   "execution_count": 78,
   "metadata": {
    "collapsed": false
   },
   "outputs": [
    {
     "data": {
      "text/latex": [
       "$\\displaystyle \\left[\\begin{matrix}\\frac{1}{3} & - \\frac{2}{3} & \\frac{2}{3}\\\\\\frac{2}{3} & - \\frac{1}{3} & - \\frac{2}{3}\\\\\\frac{2}{3} & \\frac{2}{3} & \\frac{1}{3}\\end{matrix}\\right]$"
      ],
      "text/plain": [
       "⎡1/3  -2/3  2/3 ⎤\n",
       "⎢               ⎥\n",
       "⎢2/3  -1/3  -2/3⎥\n",
       "⎢               ⎥\n",
       "⎣2/3  2/3   1/3 ⎦"
      ]
     },
     "execution_count": 78,
     "metadata": {},
     "output_type": "execute_result"
    }
   ],
   "source": [
    "Q = Rational(1, 3) * Matrix([[1, -2, 2], [2, -1, -2], [2, 2, 1]])\n",
    "Q"
   ]
  },
  {
   "cell_type": "code",
   "execution_count": 79,
   "metadata": {
    "collapsed": false
   },
   "outputs": [
    {
     "data": {
      "text/latex": [
       "$\\displaystyle \\left[\\begin{matrix}1 & 0 & 0\\\\0 & 1 & 0\\\\0 & 0 & 1\\end{matrix}\\right]$"
      ],
      "text/plain": [
       "⎡1  0  0⎤\n",
       "⎢       ⎥\n",
       "⎢0  1  0⎥\n",
       "⎢       ⎥\n",
       "⎣0  0  1⎦"
      ]
     },
     "execution_count": 79,
     "metadata": {},
     "output_type": "execute_result"
    }
   ],
   "source": [
    "Q.transpose() * Q"
   ]
  },
  {
   "cell_type": "markdown",
   "metadata": {},
   "source": [
    "* Let's make use of these matrices with orthonormal columns (which we will always denote with a letter Q) and project them onto their columnspace\n",
    "* What would the projection matrix be?\n",
    "$$ Q\\mathbf{x}={b} \\\\ {P}={Q}{\\left({Q}^{T}{Q}\\right)}^{-1}{Q}^{T} $$"
   ]
  },
  {
   "cell_type": "markdown",
   "metadata": {},
   "source": [
    "* Remember, though that for matrices with orthonormal column vectors we have Q<sup>T</sup>Q is the identity matrix and we have\n",
    "$$ {P}={Q}{Q}^{T} $$"
   ]
  },
  {
   "cell_type": "markdown",
   "metadata": {},
   "source": [
    "* If additionally, Q is square, then we have independent columns and the columnspace contain the whole space &#8477;<sup>n</sup> and the projection matrix is the identity matrix in *n*\n",
    "    * Remember Q<sup>T</sup> = Q<sup>-1</sup> in these cases making it easy to see that we get the identity matrix\n",
    "    * Remember also that the projection matrix is symmetric\n",
    "    * Lastly the projection matrix has the property of squaring it leaves us in the same spot, so here we will have (QQ<sup>T</sup>)<sup>2</sup>=QQ<sup>T</sup>"
   ]
  },
  {
   "cell_type": "markdown",
   "metadata": {},
   "source": [
    "* All of this has the final consequence that\n",
    "$$ {Q}^{T}Q\\hat{x}={Q}^{T}\\mathbf{b} \\\\ \\hat{x}={Q}^{T}\\mathbf{b} \\\\ \\hat{x}_{i}={q}_{i}^{T}{b} $$"
   ]
  },
  {
   "cell_type": "markdown",
   "metadata": {},
   "source": [
    "## Gram-Schmidt"
   ]
  },
  {
   "cell_type": "markdown",
   "metadata": {},
   "source": [
    "* All of the above makes things quite easy, so we should try and create orthogonal matrices"
   ]
  },
  {
   "cell_type": "markdown",
   "metadata": {},
   "source": [
    "* Good, let's start with two independent vectors **a** and **b** and try and create two orthogonal vectors **A** and **B** and then create two orthonormal vectors\n",
    "$$ { q }_{ 1 }=\\frac { A }{ \\left\\| A \\right\\|  } \\\\ { q }_{ 2 }=\\frac { B }{ \\left\\| B \\right\\|  }  $$"
   ]
  },
  {
   "cell_type": "markdown",
   "metadata": {},
   "source": [
    "* We can choose one of them as our initial vector, say **a** = **A**, so we have to get an orthogonal projection (to **a**) for **B**\n",
    "* This is what we previously called the error vector **e**\n",
    "$$ \\mathbf{e}=\\mathbf{b}-\\mathbf{p} $$\n",
    "* Remembering how to get **p** we have the following\n",
    "$$ B=\\mathbf { b } -\\frac { { A }^{ T }\\mathbf { b }  }{ { A }^{ T }A } A $$"
   ]
  },
  {
   "cell_type": "markdown",
   "metadata": {},
   "source": [
    "* Let's do an example"
   ]
  },
  {
   "cell_type": "code",
   "execution_count": 80,
   "metadata": {
    "collapsed": false
   },
   "outputs": [
    {
     "data": {
      "text/latex": [
       "$\\displaystyle \\left( \\left[\\begin{matrix}1\\\\1\\\\1\\end{matrix}\\right], \\  \\left[\\begin{matrix}1\\\\0\\\\2\\end{matrix}\\right]\\right)$"
      ],
      "text/plain": [
       "⎛⎡1⎤  ⎡1⎤⎞\n",
       "⎜⎢ ⎥  ⎢ ⎥⎟\n",
       "⎜⎢1⎥, ⎢0⎥⎟\n",
       "⎜⎢ ⎥  ⎢ ⎥⎟\n",
       "⎝⎣1⎦  ⎣2⎦⎠"
      ]
     },
     "execution_count": 80,
     "metadata": {},
     "output_type": "execute_result"
    }
   ],
   "source": [
    "a = Matrix([1, 1, 1])\n",
    "b = Matrix([1, 0, 2])\n",
    "a, b"
   ]
  },
  {
   "cell_type": "code",
   "execution_count": 81,
   "metadata": {
    "collapsed": false
   },
   "outputs": [
    {
     "data": {
      "text/latex": [
       "$\\displaystyle \\left[\\begin{matrix}1\\\\1\\\\1\\end{matrix}\\right]$"
      ],
      "text/plain": [
       "⎡1⎤\n",
       "⎢ ⎥\n",
       "⎢1⎥\n",
       "⎢ ⎥\n",
       "⎣1⎦"
      ]
     },
     "execution_count": 81,
     "metadata": {},
     "output_type": "execute_result"
    }
   ],
   "source": [
    "A = a\n",
    "A"
   ]
  },
  {
   "cell_type": "code",
   "execution_count": 82,
   "metadata": {
    "collapsed": false
   },
   "outputs": [
    {
     "data": {
      "text/latex": [
       "$\\displaystyle \\left[\\begin{matrix}3\\end{matrix}\\right]$"
      ],
      "text/plain": [
       "[3]"
      ]
     },
     "execution_count": 82,
     "metadata": {},
     "output_type": "execute_result"
    }
   ],
   "source": [
    "A.transpose() * b"
   ]
  },
  {
   "cell_type": "code",
   "execution_count": 83,
   "metadata": {
    "collapsed": false
   },
   "outputs": [
    {
     "data": {
      "text/latex": [
       "$\\displaystyle \\left[\\begin{matrix}3\\end{matrix}\\right]$"
      ],
      "text/plain": [
       "[3]"
      ]
     },
     "execution_count": 83,
     "metadata": {},
     "output_type": "execute_result"
    }
   ],
   "source": [
    "A.transpose() * A"
   ]
  },
  {
   "cell_type": "code",
   "execution_count": 84,
   "metadata": {
    "collapsed": false
   },
   "outputs": [
    {
     "data": {
      "text/latex": [
       "$\\displaystyle \\left[\\begin{matrix}0\\\\-1\\\\1\\end{matrix}\\right]$"
      ],
      "text/plain": [
       "⎡0 ⎤\n",
       "⎢  ⎥\n",
       "⎢-1⎥\n",
       "⎢  ⎥\n",
       "⎣1 ⎦"
      ]
     },
     "execution_count": 84,
     "metadata": {},
     "output_type": "execute_result"
    }
   ],
   "source": [
    "B = b - A\n",
    "B"
   ]
  },
  {
   "cell_type": "markdown",
   "metadata": {},
   "source": [
    "* Checking that they are perpendicular"
   ]
  },
  {
   "cell_type": "code",
   "execution_count": 85,
   "metadata": {
    "collapsed": false
   },
   "outputs": [
    {
     "data": {
      "text/latex": [
       "$\\displaystyle \\left[\\begin{matrix}0\\end{matrix}\\right]$"
      ],
      "text/plain": [
       "[0]"
      ]
     },
     "execution_count": 85,
     "metadata": {},
     "output_type": "execute_result"
    }
   ],
   "source": [
    "A.transpose() * B"
   ]
  },
  {
   "cell_type": "markdown",
   "metadata": {},
   "source": [
    "* Now we have to create Q by turning **A** and **B** into unit vectors and place them in the same matrix"
   ]
  },
  {
   "cell_type": "code",
   "execution_count": 86,
   "metadata": {
    "collapsed": false
   },
   "outputs": [
    {
     "data": {
      "text/latex": [
       "$\\displaystyle \\left[\\begin{matrix}\\frac{\\sqrt{3}}{3}\\\\\\frac{\\sqrt{3}}{3}\\\\\\frac{\\sqrt{3}}{3}\\end{matrix}\\right]$"
      ],
      "text/plain": [
       "⎡√3⎤\n",
       "⎢──⎥\n",
       "⎢3 ⎥\n",
       "⎢  ⎥\n",
       "⎢√3⎥\n",
       "⎢──⎥\n",
       "⎢3 ⎥\n",
       "⎢  ⎥\n",
       "⎢√3⎥\n",
       "⎢──⎥\n",
       "⎣3 ⎦"
      ]
     },
     "execution_count": 86,
     "metadata": {},
     "output_type": "execute_result"
    }
   ],
   "source": [
    "A.normalized()  # Easy way no normalize a matrix"
   ]
  },
  {
   "cell_type": "code",
   "execution_count": 87,
   "metadata": {
    "collapsed": false
   },
   "outputs": [
    {
     "data": {
      "text/latex": [
       "$\\displaystyle \\left[\\begin{matrix}0\\\\- \\frac{\\sqrt{2}}{2}\\\\\\frac{\\sqrt{2}}{2}\\end{matrix}\\right]$"
      ],
      "text/plain": [
       "⎡ 0  ⎤\n",
       "⎢    ⎥\n",
       "⎢-√2 ⎥\n",
       "⎢────⎥\n",
       "⎢ 2  ⎥\n",
       "⎢    ⎥\n",
       "⎢ √2 ⎥\n",
       "⎢ ── ⎥\n",
       "⎣ 2  ⎦"
      ]
     },
     "execution_count": 87,
     "metadata": {},
     "output_type": "execute_result"
    }
   ],
   "source": [
    "B.normalized()"
   ]
  },
  {
   "cell_type": "code",
   "execution_count": 88,
   "metadata": {
    "collapsed": false
   },
   "outputs": [
    {
     "data": {
      "text/latex": [
       "$\\displaystyle \\left[\\begin{matrix}\\frac{\\sqrt{3}}{3} & 0\\\\\\frac{\\sqrt{3}}{3} & - \\frac{\\sqrt{2}}{2}\\\\\\frac{\\sqrt{3}}{3} & \\frac{\\sqrt{2}}{2}\\end{matrix}\\right]$"
      ],
      "text/plain": [
       "⎡√3      ⎤\n",
       "⎢──   0  ⎥\n",
       "⎢3       ⎥\n",
       "⎢        ⎥\n",
       "⎢√3  -√2 ⎥\n",
       "⎢──  ────⎥\n",
       "⎢3    2  ⎥\n",
       "⎢        ⎥\n",
       "⎢√3   √2 ⎥\n",
       "⎢──   ── ⎥\n",
       "⎣3    2  ⎦"
      ]
     },
     "execution_count": 88,
     "metadata": {},
     "output_type": "execute_result"
    }
   ],
   "source": [
    "Q = Matrix([[sqrt(3) / 3, 0], [sqrt(3) / 3, -sqrt(2) / 2], [sqrt(3) / 3, sqrt(2) / 2]])\n",
    "Q"
   ]
  },
  {
   "cell_type": "markdown",
   "metadata": {},
   "source": [
    "* The columnspace of the original matrix (of two column vectors) and Q are the same"
   ]
  },
  {
   "cell_type": "markdown",
   "metadata": {},
   "source": [
    "* In python&#8482; we can use the following code"
   ]
  },
  {
   "cell_type": "code",
   "execution_count": 89,
   "metadata": {
    "collapsed": false
   },
   "outputs": [
    {
     "data": {
      "text/latex": [
       "$\\displaystyle \\left[ \\left[\\begin{matrix}1\\\\1\\\\1\\end{matrix}\\right], \\  \\left[\\begin{matrix}1\\\\0\\\\2\\end{matrix}\\right]\\right]$"
      ],
      "text/plain": [
       "⎡⎡1⎤  ⎡1⎤⎤\n",
       "⎢⎢ ⎥  ⎢ ⎥⎥\n",
       "⎢⎢1⎥, ⎢0⎥⎥\n",
       "⎢⎢ ⎥  ⎢ ⎥⎥\n",
       "⎣⎣1⎦  ⎣2⎦⎦"
      ]
     },
     "execution_count": 89,
     "metadata": {},
     "output_type": "execute_result"
    }
   ],
   "source": [
    "# The column matrices (independant orthogonal column vectors) are entered indivisually inside square bracket []\n",
    "A = [Matrix([1, 1, 1]), Matrix([1, 0, 2])]\n",
    "A"
   ]
  },
  {
   "cell_type": "code",
   "execution_count": 90,
   "metadata": {
    "collapsed": false
   },
   "outputs": [
    {
     "data": {
      "text/latex": [
       "$\\displaystyle \\left[ \\left[\\begin{matrix}\\frac{\\sqrt{3}}{3}\\\\\\frac{\\sqrt{3}}{3}\\\\\\frac{\\sqrt{3}}{3}\\end{matrix}\\right], \\  \\left[\\begin{matrix}0\\\\- \\frac{\\sqrt{2}}{2}\\\\\\frac{\\sqrt{2}}{2}\\end{matrix}\\right]\\right]$"
      ],
      "text/plain": [
       "⎡⎡√3⎤        ⎤\n",
       "⎢⎢──⎥  ⎡ 0  ⎤⎥\n",
       "⎢⎢3 ⎥  ⎢    ⎥⎥\n",
       "⎢⎢  ⎥  ⎢-√2 ⎥⎥\n",
       "⎢⎢√3⎥  ⎢────⎥⎥\n",
       "⎢⎢──⎥, ⎢ 2  ⎥⎥\n",
       "⎢⎢3 ⎥  ⎢    ⎥⎥\n",
       "⎢⎢  ⎥  ⎢ √2 ⎥⎥\n",
       "⎢⎢√3⎥  ⎢ ── ⎥⎥\n",
       "⎢⎢──⎥  ⎣ 2  ⎦⎥\n",
       "⎣⎣3 ⎦        ⎦"
      ]
     },
     "execution_count": 90,
     "metadata": {},
     "output_type": "execute_result"
    }
   ],
   "source": [
    "Q = GramSchmidt(A, True)  # The True argument normalizes the columns\n",
    "Q"
   ]
  },
  {
   "cell_type": "markdown",
   "metadata": {
    "collapsed": true
   },
   "source": [
    "## Example problems"
   ]
  },
  {
   "cell_type": "markdown",
   "metadata": {},
   "source": [
    "### Example problem 1"
   ]
  },
  {
   "cell_type": "markdown",
   "metadata": {},
   "source": [
    "* Create an orthogonal matrix from the following matrix\n",
    "$$ \\begin{bmatrix} 1 & 2 & 4 \\\\ 0 & 0 & 5 \\\\ 0 & 3 & 6 \\end{bmatrix} $$"
   ]
  },
  {
   "cell_type": "markdown",
   "metadata": {},
   "source": [
    "#### Solution"
   ]
  },
  {
   "cell_type": "code",
   "execution_count": 91,
   "metadata": {
    "collapsed": false
   },
   "outputs": [
    {
     "data": {
      "text/latex": [
       "$\\displaystyle \\left[ \\left[\\begin{matrix}1\\\\0\\\\0\\end{matrix}\\right], \\  \\left[\\begin{matrix}2\\\\0\\\\3\\end{matrix}\\right], \\  \\left[\\begin{matrix}4\\\\5\\\\6\\end{matrix}\\right]\\right]$"
      ],
      "text/plain": [
       "⎡⎡1⎤  ⎡2⎤  ⎡4⎤⎤\n",
       "⎢⎢ ⎥  ⎢ ⎥  ⎢ ⎥⎥\n",
       "⎢⎢0⎥, ⎢0⎥, ⎢5⎥⎥\n",
       "⎢⎢ ⎥  ⎢ ⎥  ⎢ ⎥⎥\n",
       "⎣⎣0⎦  ⎣3⎦  ⎣6⎦⎦"
      ]
     },
     "execution_count": 91,
     "metadata": {},
     "output_type": "execute_result"
    }
   ],
   "source": [
    "A = [Matrix([1, 0, 0]), Matrix([2, 0, 3]), Matrix([4, 5, 6])]\n",
    "A"
   ]
  },
  {
   "cell_type": "code",
   "execution_count": 92,
   "metadata": {
    "collapsed": false
   },
   "outputs": [
    {
     "data": {
      "text/latex": [
       "$\\displaystyle \\left[ \\left[\\begin{matrix}1\\\\0\\\\0\\end{matrix}\\right], \\  \\left[\\begin{matrix}0\\\\0\\\\1\\end{matrix}\\right], \\  \\left[\\begin{matrix}0\\\\1\\\\0\\end{matrix}\\right]\\right]$"
      ],
      "text/plain": [
       "⎡⎡1⎤  ⎡0⎤  ⎡0⎤⎤\n",
       "⎢⎢ ⎥  ⎢ ⎥  ⎢ ⎥⎥\n",
       "⎢⎢0⎥, ⎢0⎥, ⎢1⎥⎥\n",
       "⎢⎢ ⎥  ⎢ ⎥  ⎢ ⎥⎥\n",
       "⎣⎣0⎦  ⎣1⎦  ⎣0⎦⎦"
      ]
     },
     "execution_count": 92,
     "metadata": {},
     "output_type": "execute_result"
    }
   ],
   "source": [
    "Q = GramSchmidt(A, True)\n",
    "Q"
   ]
  },
  {
   "cell_type": "markdown",
   "metadata": {},
   "source": [
    "* We can also consider QR-factorization"
   ]
  },
  {
   "cell_type": "code",
   "execution_count": 93,
   "metadata": {
    "collapsed": true
   },
   "outputs": [
    {
     "ename": "ModuleNotFoundError",
     "evalue": "No module named 'sympy.mpmath'",
     "output_type": "error",
     "traceback": [
      "\u001b[31m---------------------------------------------------------------------------\u001b[39m",
      "\u001b[31mModuleNotFoundError\u001b[39m                       Traceback (most recent call last)",
      "\u001b[36mCell\u001b[39m\u001b[36m \u001b[39m\u001b[32mIn[93]\u001b[39m\u001b[32m, line 1\u001b[39m\n\u001b[32m----> \u001b[39m\u001b[32m1\u001b[39m \u001b[38;5;28;01mfrom\u001b[39;00m\u001b[38;5;250m \u001b[39m\u001b[34;01msympy\u001b[39;00m\u001b[34;01m.\u001b[39;00m\u001b[34;01mmpmath\u001b[39;00m\u001b[38;5;250m \u001b[39m\u001b[38;5;28;01mimport\u001b[39;00m matrix, qr\n",
      "\u001b[31mModuleNotFoundError\u001b[39m: No module named 'sympy.mpmath'"
     ]
    }
   ],
   "source": [
    "from sympy.mpmath import matrix, qr"
   ]
  },
  {
   "cell_type": "code",
   "execution_count": null,
   "metadata": {
    "collapsed": false
   },
   "outputs": [
    {
     "name": "stdout",
     "output_type": "stream",
     "text": [
      "[1.0  2.0  4.0]\n",
      "[0.0  0.0  5.0]\n",
      "[0.0  3.0  6.0]\n"
     ]
    }
   ],
   "source": [
    "A = matrix([[1, 2, 4], [0, 0, 5], [0, 3, 6]])\n",
    "print(A)"
   ]
  },
  {
   "cell_type": "code",
   "execution_count": null,
   "metadata": {
    "collapsed": false
   },
   "outputs": [],
   "source": [
    "Q, R = qr(A)"
   ]
  },
  {
   "cell_type": "code",
   "execution_count": null,
   "metadata": {
    "collapsed": false
   },
   "outputs": [
    {
     "name": "stdout",
     "output_type": "stream",
     "text": [
      "[1.0   0.0   0.0]\n",
      "[0.0   0.0  -1.0]\n",
      "[0.0  -1.0   0.0]\n"
     ]
    }
   ],
   "source": [
    "print(Q)"
   ]
  },
  {
   "cell_type": "code",
   "execution_count": null,
   "metadata": {
    "collapsed": false
   },
   "outputs": [
    {
     "name": "stdout",
     "output_type": "stream",
     "text": [
      "[1.0   2.0   4.0]\n",
      "[0.0  -3.0  -6.0]\n",
      "[0.0   0.0  -5.0]\n"
     ]
    }
   ],
   "source": [
    "print(R)"
   ]
  },
  {
   "cell_type": "code",
   "execution_count": null,
   "metadata": {
    "collapsed": true
   },
   "outputs": [],
   "source": []
  }
 ],
 "metadata": {
  "kernelspec": {
   "display_name": "ai-portfolio",
   "language": "python",
   "name": "python3"
  },
  "language_info": {
   "codemirror_mode": {
    "name": "ipython",
    "version": 3
   },
   "file_extension": ".py",
   "mimetype": "text/x-python",
   "name": "python",
   "nbconvert_exporter": "python",
   "pygments_lexer": "ipython3",
   "version": "3.11.13"
  }
 },
 "nbformat": 4,
 "nbformat_minor": 0
}
