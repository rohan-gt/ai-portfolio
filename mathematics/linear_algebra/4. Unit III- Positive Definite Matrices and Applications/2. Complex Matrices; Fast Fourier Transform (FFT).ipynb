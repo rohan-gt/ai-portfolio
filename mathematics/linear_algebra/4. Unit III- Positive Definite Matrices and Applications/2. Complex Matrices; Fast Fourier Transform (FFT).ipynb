{
 "cells": [
  {
   "cell_type": "code",
   "execution_count": 1,
   "metadata": {
    "collapsed": true
   },
   "outputs": [],
   "source": [
    "from sympy import init_printing, Matrix, symbols, I, sqrt, Rational\n",
    "from IPython.display import Image\n",
    "from warnings import filterwarnings"
   ]
  },
  {
   "cell_type": "code",
   "execution_count": 2,
   "metadata": {
    "collapsed": true
   },
   "outputs": [],
   "source": [
    "init_printing(use_latex=\"mathjax\")\n",
    "filterwarnings(\"ignore\")"
   ]
  },
  {
   "cell_type": "markdown",
   "metadata": {},
   "source": [
    "## Complex vectors"
   ]
  },
  {
   "cell_type": "markdown",
   "metadata": {},
   "source": [
    "* Consider the following vector with complex entries (from this point on I will not use the underscore to indicate a vector, so as not to create confusion with the bar, noting complex conjugate, instead, inferring from context)\n",
    "$$ {z} = \\begin{bmatrix} {z}_{1} \\\\ {z}_{2} \\\\ \\vdots \\\\ {z}_{n} \\end{bmatrix} $$"
   ]
  },
  {
   "cell_type": "markdown",
   "metadata": {},
   "source": [
    "* The length (actually length squared) of this vector is *no good*, since it should be positive\n",
    "$$ {z}^{T}{z} $$\n",
    "* Instead we consider the following\n",
    "$$ z\\bar { z } ={ \\left| { z } \\right|  }^{ 2 }\\\\ \\therefore \\quad \\bar { z } ^{ T }z\\\\ \\left[ { \\bar { z }  }_{ 1 },{ \\bar { z }  }_{ 2 },\\dots ,{ \\bar { z }  }_{ n } \\right] \\begin{bmatrix} { z }_{ 1 } \\\\ { z }_{ 2 } \\\\ \\vdots  \\\\ { z }_{ n } \\end{bmatrix} $$"
   ]
  },
  {
   "cell_type": "code",
   "execution_count": 3,
   "metadata": {
    "collapsed": false
   },
   "outputs": [
    {
     "data": {
      "text/latex": [
       "$\\displaystyle \\left[\\begin{matrix}1\\\\i\\end{matrix}\\right]$"
      ],
      "text/plain": [
       "⎡1⎤\n",
       "⎢ ⎥\n",
       "⎣ⅈ⎦"
      ]
     },
     "execution_count": 3,
     "metadata": {},
     "output_type": "execute_result"
    }
   ],
   "source": [
    "z = Matrix([1, I])  # I is the sympy symbol for the imaginary number i\n",
    "z"
   ]
  },
  {
   "cell_type": "markdown",
   "metadata": {},
   "source": [
    "* Let's calculate this manually"
   ]
  },
  {
   "cell_type": "code",
   "execution_count": 4,
   "metadata": {
    "collapsed": false
   },
   "outputs": [
    {
     "data": {
      "text/latex": [
       "$\\displaystyle \\sqrt{2}$"
      ],
      "text/plain": [
       "√2"
      ]
     },
     "execution_count": 4,
     "metadata": {},
     "output_type": "execute_result"
    }
   ],
   "source": [
    "z.norm()  # The length of a vector"
   ]
  },
  {
   "cell_type": "code",
   "execution_count": 5,
   "metadata": {
    "collapsed": false
   },
   "outputs": [
    {
     "data": {
      "text/latex": [
       "$\\displaystyle \\left[\\begin{matrix}1\\\\- i\\end{matrix}\\right]$"
      ],
      "text/plain": [
       "⎡1 ⎤\n",
       "⎢  ⎥\n",
       "⎣-ⅈ⎦"
      ]
     },
     "execution_count": 5,
     "metadata": {},
     "output_type": "execute_result"
    }
   ],
   "source": [
    "z_cc = Matrix([1, -I])\n",
    "z_cc"
   ]
  },
  {
   "cell_type": "code",
   "execution_count": 6,
   "metadata": {
    "collapsed": false
   },
   "outputs": [
    {
     "data": {
      "text/latex": [
       "$\\displaystyle \\left[\\begin{matrix}2\\end{matrix}\\right]^{\\frac{1}{2}}$"
      ],
      "text/plain": [
       "   1/2\n",
       "[2]   "
      ]
     },
     "execution_count": 6,
     "metadata": {},
     "output_type": "execute_result"
    }
   ],
   "source": [
    "sqrt(z_cc.transpose() * z)"
   ]
  },
  {
   "cell_type": "markdown",
   "metadata": {},
   "source": [
    "* Taking the transpose of the complex conjugate is called the Hermitian\n",
    "$$ {z}^{H}{z} $$"
   ]
  },
  {
   "cell_type": "markdown",
   "metadata": {},
   "source": [
    "* We can use the Hermitian for non-complex (or mixed complex) vectors **u** and **v** too\n",
    "$$ \\bar{y}^{T}{x} \\\\ {y}^{H}{x} $$"
   ]
  },
  {
   "cell_type": "code",
   "execution_count": 7,
   "metadata": {
    "collapsed": true
   },
   "outputs": [],
   "source": [
    "from sympy.physics.quantum.dagger import (\n",
    "    Dagger,\n",
    ")  # A fun way to quickly get the Hermitian"
   ]
  },
  {
   "cell_type": "code",
   "execution_count": 8,
   "metadata": {
    "collapsed": false
   },
   "outputs": [
    {
     "data": {
      "text/latex": [
       "$\\displaystyle \\left[\\begin{matrix}1 & - i\\end{matrix}\\right]$"
      ],
      "text/plain": [
       "[1  -ⅈ]"
      ]
     },
     "execution_count": 8,
     "metadata": {},
     "output_type": "execute_result"
    }
   ],
   "source": [
    "Dagger(z)"
   ]
  },
  {
   "cell_type": "code",
   "execution_count": 9,
   "metadata": {
    "collapsed": false
   },
   "outputs": [
    {
     "data": {
      "text/latex": [
       "$\\displaystyle \\left[\\begin{matrix}2\\end{matrix}\\right]^{\\frac{1}{2}}$"
      ],
      "text/plain": [
       "   1/2\n",
       "[2]   "
      ]
     },
     "execution_count": 9,
     "metadata": {},
     "output_type": "execute_result"
    }
   ],
   "source": [
    "sqrt(Dagger(z) * z)"
   ]
  },
  {
   "cell_type": "markdown",
   "metadata": {},
   "source": [
    "## Complex symmetric matrices"
   ]
  },
  {
   "cell_type": "markdown",
   "metadata": {},
   "source": [
    "### The transpose"
   ]
  },
  {
   "cell_type": "markdown",
   "metadata": {},
   "source": [
    "* If the symmetric matrix has complex entries then A<sup>T</sup>=A is *no good*"
   ]
  },
  {
   "cell_type": "code",
   "execution_count": 10,
   "metadata": {
    "collapsed": false
   },
   "outputs": [
    {
     "data": {
      "text/latex": [
       "$\\displaystyle \\left[\\begin{matrix}2 & 3 + i\\\\3 - i & 5\\end{matrix}\\right]$"
      ],
      "text/plain": [
       "⎡  2    3 + ⅈ⎤\n",
       "⎢            ⎥\n",
       "⎣3 - ⅈ    5  ⎦"
      ]
     },
     "execution_count": 10,
     "metadata": {},
     "output_type": "execute_result"
    }
   ],
   "source": [
    "A = Matrix([[2, 3 + I], [3 - I, 5]])\n",
    "A  # A Hermitian matrix"
   ]
  },
  {
   "cell_type": "code",
   "execution_count": 11,
   "metadata": {
    "collapsed": false
   },
   "outputs": [
    {
     "data": {
      "text/plain": [
       "False"
      ]
     },
     "execution_count": 11,
     "metadata": {},
     "output_type": "execute_result"
    }
   ],
   "source": [
    "A.transpose() == A"
   ]
  },
  {
   "cell_type": "code",
   "execution_count": 12,
   "metadata": {
    "collapsed": false
   },
   "outputs": [
    {
     "data": {
      "text/latex": [
       "$\\displaystyle \\left[\\begin{matrix}2 & 3 + i\\\\3 - i & 5\\end{matrix}\\right]$"
      ],
      "text/plain": [
       "⎡  2    3 + ⅈ⎤\n",
       "⎢            ⎥\n",
       "⎣3 - ⅈ    5  ⎦"
      ]
     },
     "execution_count": 12,
     "metadata": {},
     "output_type": "execute_result"
    }
   ],
   "source": [
    "Dagger(A)"
   ]
  },
  {
   "cell_type": "code",
   "execution_count": 13,
   "metadata": {
    "collapsed": false
   },
   "outputs": [
    {
     "data": {
      "text/plain": [
       "True"
      ]
     },
     "execution_count": 13,
     "metadata": {},
     "output_type": "execute_result"
    }
   ],
   "source": [
    "Dagger(A) == A"
   ]
  },
  {
   "cell_type": "markdown",
   "metadata": {},
   "source": [
    "* This will work for real-values symmetric matrices as well"
   ]
  },
  {
   "cell_type": "code",
   "execution_count": 14,
   "metadata": {
    "collapsed": false
   },
   "outputs": [
    {
     "data": {
      "text/latex": [
       "$\\displaystyle \\left[\\begin{matrix}3 & 4\\\\4 & 2\\end{matrix}\\right]$"
      ],
      "text/plain": [
       "⎡3  4⎤\n",
       "⎢    ⎥\n",
       "⎣4  2⎦"
      ]
     },
     "execution_count": 14,
     "metadata": {},
     "output_type": "execute_result"
    }
   ],
   "source": [
    "A = Matrix([[3, 4], [4, 2]])\n",
    "A"
   ]
  },
  {
   "cell_type": "code",
   "execution_count": 15,
   "metadata": {
    "collapsed": false
   },
   "outputs": [
    {
     "data": {
      "text/plain": [
       "True"
      ]
     },
     "execution_count": 15,
     "metadata": {},
     "output_type": "execute_result"
    }
   ],
   "source": [
    "A.transpose() == A"
   ]
  },
  {
   "cell_type": "code",
   "execution_count": 16,
   "metadata": {
    "collapsed": false
   },
   "outputs": [
    {
     "data": {
      "text/plain": [
       "True"
      ]
     },
     "execution_count": 16,
     "metadata": {},
     "output_type": "execute_result"
    }
   ],
   "source": [
    "Dagger(A) == A"
   ]
  },
  {
   "cell_type": "markdown",
   "metadata": {},
   "source": [
    "### The eigenvalues and eigenvectors"
   ]
  },
  {
   "cell_type": "markdown",
   "metadata": {},
   "source": [
    "* Back to the complex matrix A"
   ]
  },
  {
   "cell_type": "code",
   "execution_count": 17,
   "metadata": {
    "collapsed": false
   },
   "outputs": [
    {
     "data": {
      "text/latex": [
       "$\\displaystyle \\left[\\begin{matrix}2 & 3 + i\\\\3 - i & 5\\end{matrix}\\right]$"
      ],
      "text/plain": [
       "⎡  2    3 + ⅈ⎤\n",
       "⎢            ⎥\n",
       "⎣3 - ⅈ    5  ⎦"
      ]
     },
     "execution_count": 17,
     "metadata": {},
     "output_type": "execute_result"
    }
   ],
   "source": [
    "A = Matrix([[2, 3 + I], [3 - I, 5]])\n",
    "A"
   ]
  },
  {
   "cell_type": "code",
   "execution_count": 18,
   "metadata": {
    "collapsed": false
   },
   "outputs": [
    {
     "data": {
      "text/latex": [
       "$\\displaystyle \\left\\{ 0 : 1, \\  7 : 1\\right\\}$"
      ],
      "text/plain": [
       "{0: 1, 7: 1}"
      ]
     },
     "execution_count": 18,
     "metadata": {},
     "output_type": "execute_result"
    }
   ],
   "source": [
    "A.eigenvals()"
   ]
  },
  {
   "cell_type": "markdown",
   "metadata": {},
   "source": [
    "$$ A=\\begin{bmatrix} 2 & 3+i \\\\ 3-i & 5 \\end{bmatrix}\\\\ A-\\lambda I=\\mathbf { 0 } \\\\ \\left| \\begin{bmatrix} 2 & 3+i \\\\ 3-i & 5 \\end{bmatrix}-\\begin{bmatrix} \\lambda  & 0 \\\\ 0 & \\lambda  \\end{bmatrix} \\right| =0\\\\ \\begin{vmatrix} 2-\\lambda  & 3+i \\\\ 3-i & 5-\\lambda  \\end{vmatrix}=0\\\\ \\left( 2-\\lambda  \\right) \\left( 5-\\lambda  \\right) -\\left( 3+i \\right) \\left( 3-i \\right) =0\\\\ 10-7\\lambda +{ \\lambda  }^{ 2 }-\\left( 9+1 \\right) =0\\\\ { \\lambda  }^{ 2 }-7\\lambda =0\\\\ { \\lambda  }_{ 1 }=0\\\\ { \\lambda  }_{ 2 }=7 $$"
   ]
  },
  {
   "cell_type": "code",
   "execution_count": 19,
   "metadata": {
    "collapsed": false
   },
   "outputs": [
    {
     "data": {
      "text/latex": [
       "$\\displaystyle \\left[ \\left( 0, \\  1, \\  \\left[ \\left[\\begin{matrix}- \\frac{3}{2} - \\frac{i}{2}\\\\1\\end{matrix}\\right]\\right]\\right), \\  \\left( 7, \\  1, \\  \\left[ \\left[\\begin{matrix}\\frac{3}{5} + \\frac{i}{5}\\\\1\\end{matrix}\\right]\\right]\\right)\\right]$"
      ],
      "text/plain": [
       "⎡⎛      ⎡⎡  3   ⅈ⎤⎤⎞  ⎛      ⎡⎡3   ⅈ⎤⎤⎞⎤\n",
       "⎢⎜      ⎢⎢- ─ - ─⎥⎥⎟  ⎜      ⎢⎢─ + ─⎥⎥⎟⎥\n",
       "⎢⎜0, 1, ⎢⎢  2   2⎥⎥⎟, ⎜7, 1, ⎢⎢5   5⎥⎥⎟⎥\n",
       "⎢⎜      ⎢⎢       ⎥⎥⎟  ⎜      ⎢⎢     ⎥⎥⎟⎥\n",
       "⎣⎝      ⎣⎣   1   ⎦⎦⎠  ⎝      ⎣⎣  1  ⎦⎦⎠⎦"
      ]
     },
     "execution_count": 19,
     "metadata": {},
     "output_type": "execute_result"
    }
   ],
   "source": [
    "A.eigenvects()"
   ]
  },
  {
   "cell_type": "code",
   "execution_count": 20,
   "metadata": {
    "collapsed": true
   },
   "outputs": [],
   "source": [
    "S, D = A.diagonalize()"
   ]
  },
  {
   "cell_type": "code",
   "execution_count": 21,
   "metadata": {
    "collapsed": false
   },
   "outputs": [
    {
     "data": {
      "text/latex": [
       "$\\displaystyle \\left[\\begin{matrix}-3 - i & 3 + i\\\\2 & 5\\end{matrix}\\right]$"
      ],
      "text/plain": [
       "⎡-3 - ⅈ  3 + ⅈ⎤\n",
       "⎢             ⎥\n",
       "⎣  2       5  ⎦"
      ]
     },
     "execution_count": 21,
     "metadata": {},
     "output_type": "execute_result"
    }
   ],
   "source": [
    "S"
   ]
  },
  {
   "cell_type": "code",
   "execution_count": 22,
   "metadata": {
    "collapsed": false
   },
   "outputs": [
    {
     "data": {
      "text/latex": [
       "$\\displaystyle \\left[\\begin{matrix}0 & 0\\\\0 & 7\\end{matrix}\\right]$"
      ],
      "text/plain": [
       "⎡0  0⎤\n",
       "⎢    ⎥\n",
       "⎣0  7⎦"
      ]
     },
     "execution_count": 22,
     "metadata": {},
     "output_type": "execute_result"
    }
   ],
   "source": [
    "D"
   ]
  },
  {
   "cell_type": "markdown",
   "metadata": {},
   "source": [
    "* What about S now?\n",
    "* We have to use its transpose, but it is complex, so we have to take the Hermitian"
   ]
  },
  {
   "cell_type": "code",
   "execution_count": 23,
   "metadata": {
    "collapsed": false
   },
   "outputs": [
    {
     "data": {
      "text/latex": [
       "$\\displaystyle \\left[\\begin{matrix}-3 + i & 2\\\\3 - i & 5\\end{matrix}\\right]$"
      ],
      "text/plain": [
       "⎡-3 + ⅈ  2⎤\n",
       "⎢         ⎥\n",
       "⎣3 - ⅈ   5⎦"
      ]
     },
     "execution_count": 23,
     "metadata": {},
     "output_type": "execute_result"
    }
   ],
   "source": [
    "Dagger(S)"
   ]
  },
  {
   "cell_type": "code",
   "execution_count": 24,
   "metadata": {
    "collapsed": false
   },
   "outputs": [
    {
     "data": {
      "text/plain": [
       "False"
      ]
     },
     "execution_count": 24,
     "metadata": {},
     "output_type": "execute_result"
    }
   ],
   "source": [
    "S == Dagger(S)  # Don't get confused here, S is not symmetric"
   ]
  },
  {
   "cell_type": "markdown",
   "metadata": {},
   "source": [
    "* Remember that for a symmetric matrix the column vectors in S (usually called Q, the matrix of eigenvectors) are orthogonal, with Q<sup>T</sup>Q=I\n",
    "* With complex entries we have to consider the Hermitian here, not just the simple transpose\n",
    "* Here we call Q *unitary*"
   ]
  },
  {
   "cell_type": "markdown",
   "metadata": {},
   "source": [
    "## The fast Fourier transform"
   ]
  },
  {
   "cell_type": "markdown",
   "metadata": {},
   "source": [
    "* Look at this special matrix (where we start counting rows and columns at zero)"
   ]
  },
  {
   "cell_type": "markdown",
   "metadata": {},
   "source": [
    "$$ { F }_{ n }=\\begin{bmatrix} W^{ \\left( 0 \\right) \\left( 0 \\right)  } & { W }^{ \\left( 0 \\right) \\left( 1 \\right)  } & { W }^{ \\left( 0 \\right) \\left( 2 \\right)  } & \\dots  & { W }^{ \\left( 0 \\right) \\left( n-1 \\right)  } \\\\ W^{ \\left( 1 \\right) \\left( 0 \\right)  } & { W }^{ \\left( 1 \\right) \\left( 1 \\right)  } & { W }^{ \\left( 1 \\right) \\left( 2 \\right)  } & \\dots  & { W }^{ \\left( 1 \\right) \\left( n-1 \\right)  } \\\\ { W }^{ \\left( 2 \\right) \\left( 0 \\right)  } & { W }^{ \\left( 2 \\right) \\left( 1 \\right)  } & { W }^{ \\left( 2 \\right) \\left( 2 \\right)  } & \\dots  & { W }^{ \\left( 2 \\right) \\left( n-1 \\right)  } \\\\ \\vdots  & \\vdots  & \\vdots  & \\dots  & \\vdots  \\\\ { W }^{ \\left( n-1 \\right) \\left( 0 \\right)  } & { W }^{ \\left( n-1 \\right) \\left( 1 \\right)  } & { W }^{ \\left( n-1 \\right) \\left( 2 \\right)  } & \\dots  & { W }^{ \\left( n-1 \\right) \\left( n-1 \\right)  } \\end{bmatrix} \\\\ \\left({F}_{n}\\right)_{ij}={W}^{ij}; i,j=0,1,2,\\dots,n-1 $$"
   ]
  },
  {
   "cell_type": "markdown",
   "metadata": {},
   "source": [
    "* W is a special number whose *n*<sup>th</sup> power equals 1\n",
    "$$ {W}^{n}=1 \\\\ W={ e }^{ \\frac { i2\\pi  }{ n }  }=\\cos { \\frac { 2\\pi  }{ n } +i\\sin { \\frac { 2\\pi  }{ n }  }  }  $$\n",
    "* It is in the complex plane of course (as written in *sin* and *cos* above)"
   ]
  },
  {
   "cell_type": "markdown",
   "metadata": {},
   "source": [
    "* Remember than *n* here refers to the size the matrix\n",
    "* Here it also refers to the *n*<sup>th</sup> *n* roots (if that makes any sense, else look at the image below)"
   ]
  },
  {
   "cell_type": "code",
   "execution_count": 25,
   "metadata": {
    "collapsed": false
   },
   "outputs": [
    {
     "ename": "FileNotFoundError",
     "evalue": "[Errno 2] No such file or directory: 'W.png'",
     "output_type": "error",
     "traceback": [
      "\u001b[31m---------------------------------------------------------------------------\u001b[39m",
      "\u001b[31mFileNotFoundError\u001b[39m                         Traceback (most recent call last)",
      "\u001b[36mCell\u001b[39m\u001b[36m \u001b[39m\u001b[32mIn[25]\u001b[39m\u001b[32m, line 1\u001b[39m\n\u001b[32m----> \u001b[39m\u001b[32m1\u001b[39m \u001b[43mImage\u001b[49m\u001b[43m(\u001b[49m\u001b[43mfilename\u001b[49m\u001b[43m=\u001b[49m\u001b[33;43m\"\u001b[39;49m\u001b[33;43mW.png\u001b[39;49m\u001b[33;43m\"\u001b[39;49m\u001b[43m)\u001b[49m\n",
      "\u001b[36mFile \u001b[39m\u001b[32m/mnt/data/projects/python/ai-portfolio/.venv/lib/python3.11/site-packages/IPython/core/display.py:1025\u001b[39m, in \u001b[36mImage.__init__\u001b[39m\u001b[34m(self, data, url, filename, format, embed, width, height, retina, unconfined, metadata, alt)\u001b[39m\n\u001b[32m   1023\u001b[39m \u001b[38;5;28mself\u001b[39m.unconfined = unconfined\n\u001b[32m   1024\u001b[39m \u001b[38;5;28mself\u001b[39m.alt = alt\n\u001b[32m-> \u001b[39m\u001b[32m1025\u001b[39m \u001b[38;5;28;43msuper\u001b[39;49m\u001b[43m(\u001b[49m\u001b[43mImage\u001b[49m\u001b[43m,\u001b[49m\u001b[43m \u001b[49m\u001b[38;5;28;43mself\u001b[39;49m\u001b[43m)\u001b[49m\u001b[43m.\u001b[49m\u001b[34;43m__init__\u001b[39;49m\u001b[43m(\u001b[49m\u001b[43mdata\u001b[49m\u001b[43m=\u001b[49m\u001b[43mdata\u001b[49m\u001b[43m,\u001b[49m\u001b[43m \u001b[49m\u001b[43murl\u001b[49m\u001b[43m=\u001b[49m\u001b[43murl\u001b[49m\u001b[43m,\u001b[49m\u001b[43m \u001b[49m\u001b[43mfilename\u001b[49m\u001b[43m=\u001b[49m\u001b[43mfilename\u001b[49m\u001b[43m,\u001b[49m\n\u001b[32m   1026\u001b[39m \u001b[43m        \u001b[49m\u001b[43mmetadata\u001b[49m\u001b[43m=\u001b[49m\u001b[43mmetadata\u001b[49m\u001b[43m)\u001b[49m\n\u001b[32m   1028\u001b[39m \u001b[38;5;28;01mif\u001b[39;00m \u001b[38;5;28mself\u001b[39m.width \u001b[38;5;129;01mis\u001b[39;00m \u001b[38;5;28;01mNone\u001b[39;00m \u001b[38;5;129;01mand\u001b[39;00m \u001b[38;5;28mself\u001b[39m.metadata.get(\u001b[33m'\u001b[39m\u001b[33mwidth\u001b[39m\u001b[33m'\u001b[39m, {}):\n\u001b[32m   1029\u001b[39m     \u001b[38;5;28mself\u001b[39m.width = metadata[\u001b[33m'\u001b[39m\u001b[33mwidth\u001b[39m\u001b[33m'\u001b[39m]\n",
      "\u001b[36mFile \u001b[39m\u001b[32m/mnt/data/projects/python/ai-portfolio/.venv/lib/python3.11/site-packages/IPython/core/display.py:343\u001b[39m, in \u001b[36mDisplayObject.__init__\u001b[39m\u001b[34m(self, data, url, filename, metadata)\u001b[39m\n\u001b[32m    340\u001b[39m \u001b[38;5;28;01melif\u001b[39;00m \u001b[38;5;28mself\u001b[39m.metadata \u001b[38;5;129;01mis\u001b[39;00m \u001b[38;5;28;01mNone\u001b[39;00m:\n\u001b[32m    341\u001b[39m     \u001b[38;5;28mself\u001b[39m.metadata = {}\n\u001b[32m--> \u001b[39m\u001b[32m343\u001b[39m \u001b[38;5;28;43mself\u001b[39;49m\u001b[43m.\u001b[49m\u001b[43mreload\u001b[49m\u001b[43m(\u001b[49m\u001b[43m)\u001b[49m\n\u001b[32m    344\u001b[39m \u001b[38;5;28mself\u001b[39m._check_data()\n",
      "\u001b[36mFile \u001b[39m\u001b[32m/mnt/data/projects/python/ai-portfolio/.venv/lib/python3.11/site-packages/IPython/core/display.py:1060\u001b[39m, in \u001b[36mImage.reload\u001b[39m\u001b[34m(self)\u001b[39m\n\u001b[32m   1058\u001b[39m \u001b[38;5;250m\u001b[39m\u001b[33;03m\"\"\"Reload the raw data from file or URL.\"\"\"\u001b[39;00m\n\u001b[32m   1059\u001b[39m \u001b[38;5;28;01mif\u001b[39;00m \u001b[38;5;28mself\u001b[39m.embed:\n\u001b[32m-> \u001b[39m\u001b[32m1060\u001b[39m     \u001b[38;5;28;43msuper\u001b[39;49m\u001b[43m(\u001b[49m\u001b[43mImage\u001b[49m\u001b[43m,\u001b[49m\u001b[38;5;28;43mself\u001b[39;49m\u001b[43m)\u001b[49m\u001b[43m.\u001b[49m\u001b[43mreload\u001b[49m\u001b[43m(\u001b[49m\u001b[43m)\u001b[49m\n\u001b[32m   1061\u001b[39m     \u001b[38;5;28;01mif\u001b[39;00m \u001b[38;5;28mself\u001b[39m.retina:\n\u001b[32m   1062\u001b[39m         \u001b[38;5;28mself\u001b[39m._retina_shape()\n",
      "\u001b[36mFile \u001b[39m\u001b[32m/mnt/data/projects/python/ai-portfolio/.venv/lib/python3.11/site-packages/IPython/core/display.py:369\u001b[39m, in \u001b[36mDisplayObject.reload\u001b[39m\u001b[34m(self)\u001b[39m\n\u001b[32m    367\u001b[39m \u001b[38;5;28;01mif\u001b[39;00m \u001b[38;5;28mself\u001b[39m.filename \u001b[38;5;129;01mis\u001b[39;00m \u001b[38;5;129;01mnot\u001b[39;00m \u001b[38;5;28;01mNone\u001b[39;00m:\n\u001b[32m    368\u001b[39m     encoding = \u001b[38;5;28;01mNone\u001b[39;00m \u001b[38;5;28;01mif\u001b[39;00m \u001b[33m\"\u001b[39m\u001b[33mb\u001b[39m\u001b[33m\"\u001b[39m \u001b[38;5;129;01min\u001b[39;00m \u001b[38;5;28mself\u001b[39m._read_flags \u001b[38;5;28;01melse\u001b[39;00m \u001b[33m\"\u001b[39m\u001b[33mutf-8\u001b[39m\u001b[33m\"\u001b[39m\n\u001b[32m--> \u001b[39m\u001b[32m369\u001b[39m     \u001b[38;5;28;01mwith\u001b[39;00m \u001b[38;5;28;43mopen\u001b[39;49m\u001b[43m(\u001b[49m\u001b[38;5;28;43mself\u001b[39;49m\u001b[43m.\u001b[49m\u001b[43mfilename\u001b[49m\u001b[43m,\u001b[49m\u001b[43m \u001b[49m\u001b[38;5;28;43mself\u001b[39;49m\u001b[43m.\u001b[49m\u001b[43m_read_flags\u001b[49m\u001b[43m,\u001b[49m\u001b[43m \u001b[49m\u001b[43mencoding\u001b[49m\u001b[43m=\u001b[49m\u001b[43mencoding\u001b[49m\u001b[43m)\u001b[49m \u001b[38;5;28;01mas\u001b[39;00m f:\n\u001b[32m    370\u001b[39m         \u001b[38;5;28mself\u001b[39m.data = f.read()\n\u001b[32m    371\u001b[39m \u001b[38;5;28;01melif\u001b[39;00m \u001b[38;5;28mself\u001b[39m.url \u001b[38;5;129;01mis\u001b[39;00m \u001b[38;5;129;01mnot\u001b[39;00m \u001b[38;5;28;01mNone\u001b[39;00m:\n\u001b[32m    372\u001b[39m     \u001b[38;5;66;03m# Deferred import\u001b[39;00m\n",
      "\u001b[31mFileNotFoundError\u001b[39m: [Errno 2] No such file or directory: 'W.png'"
     ]
    }
   ],
   "source": [
    "Image(filename=\"W.png\")"
   ]
  },
  {
   "cell_type": "markdown",
   "metadata": {},
   "source": [
    "* So for *n*=4 we will have the following\n",
    "$$ { F }_{ 4 }=\\begin{bmatrix} 1 & 1 & 1 & 1 \\\\ 1 & \\left( { e }^{ \\frac { 2\\pi i }{ 4 }  } \\right) ^{ 1 } & { \\left( { e }^{ \\frac { 2\\pi i }{ 4 }  } \\right) ^{ 2 } } & { \\left( { e }^{ \\frac { 2\\pi i }{ 4 }  } \\right) ^{ 3 } } \\\\ 1 & \\left( { e }^{ \\frac { 2\\pi i }{ 4 }  } \\right) ^{ 2 } & { \\left( { e }^{ \\frac { 2\\pi i }{ 4 }  } \\right) ^{ 4 } } & { \\left( { e }^{ \\frac { 2\\pi i }{ 4 }  } \\right) ^{ 6 } } \\\\ 1 & \\left( { e }^{ \\frac { 2\\pi i }{ 4 }  } \\right) ^{ 3 } & { \\left( { e }^{ \\frac { 2\\pi i }{ 4 }  } \\right) ^{ 6 } } & { \\left( { e }^{ \\frac { 2\\pi i }{ 4 }  } \\right) ^{ 9 } } \\end{bmatrix} $$"
   ]
  },
  {
   "cell_type": "markdown",
   "metadata": {},
   "source": [
    "* We note that a quarter of the way around is *i*\n",
    "$$ {e}^{\\frac{2\\pi{i}}{4}}={i} $$\n",
    "* We thus have the following\n",
    "$$ { F }_{ 4 }=\\begin{bmatrix} 1 & 1 & 1 & 1 \\\\ 1 & i & { i }^{ 2 } & { i }^{ 3 } \\\\ 1 & { i }^{ 2 } & { i }^{ 4 } & { i }^{ 6 } \\\\ 1 & { i }^{ 3 } & { i }^{ 6 } & { i }^{ 9 } \\end{bmatrix}\\\\ { F }_{ 4 }=\\begin{bmatrix} 1 & 1 & 1 & 1 \\\\ 1 & i & -1 & -i \\\\ 1 & -1 & 1 & -1 \\\\ 1 & -i & -1 & i \\end{bmatrix} $$"
   ]
  },
  {
   "cell_type": "markdown",
   "metadata": {},
   "source": [
    "* Note how the columns are orthogonal"
   ]
  },
  {
   "cell_type": "code",
   "execution_count": null,
   "metadata": {
    "collapsed": false
   },
   "outputs": [
    {
     "data": {
      "text/latex": [
       "$$\\left[\\begin{matrix}1 & 1 & 1 & 1\\\\1 & i & -1 & - i\\\\1 & -1 & 1 & -1\\\\1 & - i & -1 & i\\end{matrix}\\right]$$"
      ],
      "text/plain": [
       "⎡1  1   1   1 ⎤\n",
       "⎢             ⎥\n",
       "⎢1  ⅈ   -1  -ⅈ⎥\n",
       "⎢             ⎥\n",
       "⎢1  -1  1   -1⎥\n",
       "⎢             ⎥\n",
       "⎣1  -ⅈ  -1  ⅈ ⎦"
      ]
     },
     "execution_count": 27,
     "metadata": {},
     "output_type": "execute_result"
    }
   ],
   "source": [
    "F = Matrix([[1, 1, 1, 1], [1, I, -1, -I], [1, -1, 1, -1], [1, -I, -1, I]])\n",
    "F"
   ]
  },
  {
   "cell_type": "code",
   "execution_count": null,
   "metadata": {
    "collapsed": false
   },
   "outputs": [
    {
     "data": {
      "text/latex": [
       "$$\\left[\\begin{matrix}1\\\\1\\\\1\\\\1\\end{matrix}\\right]$$"
      ],
      "text/plain": [
       "⎡1⎤\n",
       "⎢ ⎥\n",
       "⎢1⎥\n",
       "⎢ ⎥\n",
       "⎢1⎥\n",
       "⎢ ⎥\n",
       "⎣1⎦"
      ]
     },
     "execution_count": 28,
     "metadata": {},
     "output_type": "execute_result"
    }
   ],
   "source": [
    "F.col(0)  # Calling only the selected column (counting starts at 0)"
   ]
  },
  {
   "cell_type": "markdown",
   "metadata": {},
   "source": [
    "* The columns are supposed to be orthogonal, i.e. inner (dot) product should be zero\n",
    "* Clearly below it is not"
   ]
  },
  {
   "cell_type": "code",
   "execution_count": null,
   "metadata": {
    "collapsed": false
   },
   "outputs": [
    {
     "data": {
      "text/latex": [
       "$$4$$"
      ],
      "text/plain": [
       "4"
      ]
     },
     "execution_count": 29,
     "metadata": {},
     "output_type": "execute_result"
    }
   ],
   "source": [
    "F.col(1).dot(F.col(3))"
   ]
  },
  {
   "cell_type": "markdown",
   "metadata": {},
   "source": [
    "* Remember, though, that this is a complex matrix and we have to use the Hermitian"
   ]
  },
  {
   "cell_type": "code",
   "execution_count": null,
   "metadata": {
    "collapsed": false
   },
   "outputs": [
    {
     "data": {
      "text/latex": [
       "$$\\begin{pmatrix}\\left[\\begin{matrix}1\\\\i\\\\-1\\\\- i\\end{matrix}\\right], & \\left[\\begin{matrix}1\\\\- i\\\\-1\\\\i\\end{matrix}\\right]\\end{pmatrix}$$"
      ],
      "text/plain": [
       "⎛⎡1 ⎤, ⎡1 ⎤⎞\n",
       "⎜⎢  ⎥  ⎢  ⎥⎟\n",
       "⎜⎢ⅈ ⎥  ⎢-ⅈ⎥⎟\n",
       "⎜⎢  ⎥  ⎢  ⎥⎟\n",
       "⎜⎢-1⎥  ⎢-1⎥⎟\n",
       "⎜⎢  ⎥  ⎢  ⎥⎟\n",
       "⎝⎣-ⅈ⎦  ⎣ⅈ ⎦⎠"
      ]
     },
     "execution_count": 30,
     "metadata": {},
     "output_type": "execute_result"
    }
   ],
   "source": [
    "col1 = F.col(1)\n",
    "col3 = F.col(3)\n",
    "col1, col3"
   ]
  },
  {
   "cell_type": "code",
   "execution_count": null,
   "metadata": {
    "collapsed": false
   },
   "outputs": [
    {
     "data": {
      "text/latex": [
       "$$\\begin{pmatrix}\\left[\\begin{matrix}1 & i & -1 & - i\\end{matrix}\\right], & \\left[\\begin{matrix}1\\\\i\\\\-1\\\\- i\\end{matrix}\\right]\\end{pmatrix}$$"
      ],
      "text/plain": [
       "⎛[1  ⅈ  -1  -ⅈ], ⎡1 ⎤⎞\n",
       "⎜                ⎢  ⎥⎟\n",
       "⎜                ⎢ⅈ ⎥⎟\n",
       "⎜                ⎢  ⎥⎟\n",
       "⎜                ⎢-1⎥⎟\n",
       "⎜                ⎢  ⎥⎟\n",
       "⎝                ⎣-ⅈ⎦⎠"
      ]
     },
     "execution_count": 31,
     "metadata": {},
     "output_type": "execute_result"
    }
   ],
   "source": [
    "Dagger(col3), col1"
   ]
  },
  {
   "cell_type": "code",
   "execution_count": null,
   "metadata": {
    "collapsed": false
   },
   "outputs": [
    {
     "data": {
      "text/latex": [
       "$$\\left[\\begin{matrix}0\\end{matrix}\\right]$$"
      ],
      "text/plain": [
       "[0]"
      ]
     },
     "execution_count": 32,
     "metadata": {},
     "output_type": "execute_result"
    }
   ],
   "source": [
    "Dagger(col3) * col1  # Another way to do the dot product"
   ]
  },
  {
   "cell_type": "markdown",
   "metadata": {},
   "source": [
    "* So, these columns are all orthogonal, but they are not orthonormal\n",
    "* Note, though that the are all of length 2, so we can normalize each"
   ]
  },
  {
   "cell_type": "code",
   "execution_count": null,
   "metadata": {
    "collapsed": false
   },
   "outputs": [
    {
     "data": {
      "text/latex": [
       "$$\\left[\\begin{matrix}\\frac{1}{2} & \\frac{1}{2} & \\frac{1}{2} & \\frac{1}{2}\\\\\\frac{1}{2} & \\frac{i}{2} & - \\frac{1}{2} & - \\frac{i}{2}\\\\\\frac{1}{2} & - \\frac{1}{2} & \\frac{1}{2} & - \\frac{1}{2}\\\\\\frac{1}{2} & - \\frac{i}{2} & - \\frac{1}{2} & \\frac{i}{2}\\end{matrix}\\right]$$"
      ],
      "text/plain": [
       "⎡1/2  1/2   1/2   1/2 ⎤\n",
       "⎢                     ⎥\n",
       "⎢      ⅈ          -ⅈ  ⎥\n",
       "⎢1/2   ─    -1/2  ─── ⎥\n",
       "⎢      2           2  ⎥\n",
       "⎢                     ⎥\n",
       "⎢1/2  -1/2  1/2   -1/2⎥\n",
       "⎢                     ⎥\n",
       "⎢     -ⅈ           ⅈ  ⎥\n",
       "⎢1/2  ───   -1/2   ─  ⎥\n",
       "⎣      2           2  ⎦"
      ]
     },
     "execution_count": 33,
     "metadata": {},
     "output_type": "execute_result"
    }
   ],
   "source": [
    "Rational(1, 2) * F"
   ]
  },
  {
   "cell_type": "markdown",
   "metadata": {},
   "source": [
    "* We also note the following\n",
    "$$ {F}_{n}^{H}{F}_{n}={I} $$\n",
    "* Just remember to normalize them"
   ]
  },
  {
   "cell_type": "code",
   "execution_count": null,
   "metadata": {
    "collapsed": false
   },
   "outputs": [
    {
     "data": {
      "text/latex": [
       "$$\\left[\\begin{matrix}\\frac{1}{2} & \\frac{1}{2} & \\frac{1}{2} & \\frac{1}{2}\\\\\\frac{1}{2} & - \\frac{i}{2} & - \\frac{1}{2} & \\frac{i}{2}\\\\\\frac{1}{2} & - \\frac{1}{2} & \\frac{1}{2} & - \\frac{1}{2}\\\\\\frac{1}{2} & \\frac{i}{2} & - \\frac{1}{2} & - \\frac{i}{2}\\end{matrix}\\right]$$"
      ],
      "text/plain": [
       "⎡1/2  1/2   1/2   1/2 ⎤\n",
       "⎢                     ⎥\n",
       "⎢     -ⅈ           ⅈ  ⎥\n",
       "⎢1/2  ───   -1/2   ─  ⎥\n",
       "⎢      2           2  ⎥\n",
       "⎢                     ⎥\n",
       "⎢1/2  -1/2  1/2   -1/2⎥\n",
       "⎢                     ⎥\n",
       "⎢      ⅈ          -ⅈ  ⎥\n",
       "⎢1/2   ─    -1/2  ─── ⎥\n",
       "⎣      2           2  ⎦"
      ]
     },
     "execution_count": 34,
     "metadata": {},
     "output_type": "execute_result"
    }
   ],
   "source": [
    "Dagger(Rational(1, 2) * F)"
   ]
  },
  {
   "cell_type": "code",
   "execution_count": null,
   "metadata": {
    "collapsed": false
   },
   "outputs": [
    {
     "data": {
      "text/latex": [
       "$$\\left[\\begin{matrix}1 & 0 & 0 & 0\\\\0 & 1 & 0 & 0\\\\0 & 0 & 1 & 0\\\\0 & 0 & 0 & 1\\end{matrix}\\right]$$"
      ],
      "text/plain": [
       "⎡1  0  0  0⎤\n",
       "⎢          ⎥\n",
       "⎢0  1  0  0⎥\n",
       "⎢          ⎥\n",
       "⎢0  0  1  0⎥\n",
       "⎢          ⎥\n",
       "⎣0  0  0  1⎦"
      ]
     },
     "execution_count": 35,
     "metadata": {},
     "output_type": "execute_result"
    }
   ],
   "source": [
    "Dagger(Rational(1, 2) * F) * (Rational(1, 2) * F)"
   ]
  },
  {
   "cell_type": "markdown",
   "metadata": {},
   "source": [
    "* Now why do we call it *fast* Fourier transform\n",
    "* Note the following\n",
    "$$ { W }_{ n }={ e }^{ \\frac { 2\\pi i }{ n }  }\\\\ { \\left( { W }_{ n } \\right)  }^{ p }={ \\left( { e }^{ \\frac { 2\\pi i }{ n }  } \\right)  }^{ p }\\\\ { \\left( { W }_{ 64 } \\right)  }^{ 2 }={ \\left( { e }^{ \\frac { 2\\pi i }{ 64 }  } \\right)  }^{ 2 };\\quad n=64,\\quad p=2\\\\ \\therefore \\quad { \\left( { W }_{ 64 } \\right)  }^{ 2 }={ W }_{ 32 } $$"
   ]
  },
  {
   "cell_type": "markdown",
   "metadata": {},
   "source": [
    "* Now we have the following connection between the two\n",
    "$$ \\left[ { F }_{ 64 } \\right] =\\begin{bmatrix} I & D \\\\ I & -D \\end{bmatrix}\\begin{bmatrix} { F }_{ 32 } & 0 \\\\ 0 & { F }_{ 32 } \\end{bmatrix}\\left[ P \\right] \\\\ D=\\begin{bmatrix} 1 & 0 & 0 & \\dots  & 0 \\\\ 0 & W & 0 & \\dots  & 0 \\\\ 0 & 0 & { W }^{ 2 } & \\dots  & 0 \\\\ \\vdots  & \\vdots  & \\vdots  & \\dots  & \\vdots  \\\\ 0 & 0 & 0 & \\dots  & { W }^{ 31 } \\end{bmatrix}$$\n",
    "* P is a permutation matrix"
   ]
  },
  {
   "cell_type": "markdown",
   "metadata": {},
   "source": [
    "* Going down to 16 will include the following\n",
    "$$ \\begin{bmatrix} I & D & 0 & 0 \\\\ I & -D & 0 & 0 \\\\ 0 & 0 & I & D \\\\ 0 & 0 & I & -D \\end{bmatrix}\\begin{bmatrix} { F }_{ 16 } & 0 & 0 & 0 \\\\ 0 & { F }_{ 16 } & 0 & 0 \\\\ 0 & 0 & { F }_{ 16 } & 0 \\\\ 0 & 0 & 0 & { F }_{ 16 } \\end{bmatrix}\\left[ P \\right]  $$"
   ]
  },
  {
   "cell_type": "markdown",
   "metadata": {},
   "source": [
    "* The recursive work above leads to decreasing the work that is required for working with these problems"
   ]
  },
  {
   "cell_type": "code",
   "execution_count": null,
   "metadata": {
    "collapsed": true
   },
   "outputs": [],
   "source": []
  }
 ],
 "metadata": {
  "kernelspec": {
   "display_name": "ai-portfolio",
   "language": "python",
   "name": "python3"
  },
  "language_info": {
   "codemirror_mode": {
    "name": "ipython",
    "version": 3
   },
   "file_extension": ".py",
   "mimetype": "text/x-python",
   "name": "python",
   "nbconvert_exporter": "python",
   "pygments_lexer": "ipython3",
   "version": "3.11.13"
  }
 },
 "nbformat": 4,
 "nbformat_minor": 0
}
