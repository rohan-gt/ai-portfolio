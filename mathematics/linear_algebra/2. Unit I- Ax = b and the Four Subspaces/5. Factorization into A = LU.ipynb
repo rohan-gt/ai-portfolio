{
 "cells": [
  {
   "cell_type": "markdown",
   "metadata": {},
   "source": [
    "## Library import"
   ]
  },
  {
   "cell_type": "code",
   "execution_count": 1,
   "metadata": {},
   "outputs": [],
   "source": [
    "from sympy import init_printing, Matrix, symbols, eye, Rational\n",
    "\n",
    "init_printing()"
   ]
  },
  {
   "cell_type": "markdown",
   "metadata": {},
   "source": [
    "# LU decomposition of a matrix A"
   ]
  },
  {
   "cell_type": "markdown",
   "metadata": {},
   "source": [
    "In this notebook, we will decompose the matrix $A$ into and upper and lower triangular matrix, such that multiplying these will return $A$.  this is shown in (1) where $L$ is the lower triangular matrix and $U$ is the upper triangular matrix."
   ]
  },
  {
   "cell_type": "markdown",
   "metadata": {},
   "source": [
    "$$ A = LU \\tag{1}$$"
   ]
  },
  {
   "cell_type": "markdown",
   "metadata": {},
   "source": [
    "## Turning a matrix of coefficients into _U_pper triangular form"
   ]
  },
  {
   "cell_type": "markdown",
   "metadata": {},
   "source": [
    "Consider the following matrix of coefficients shown in (2)."
   ]
  },
  {
   "cell_type": "markdown",
   "metadata": {},
   "source": [
    "$$ \\begin{bmatrix} 1 & -2 & 1 \\\\ 3 & 2 & -2 \\\\ 6 & -1 & -1 \\end{bmatrix}  \\tag{2}$$"
   ]
  },
  {
   "cell_type": "markdown",
   "metadata": {},
   "source": [
    "We need to convert this into upper triangular form.  A generic $ 3 \\times 3$ upper triangular matrix is shown in (3)."
   ]
  },
  {
   "cell_type": "markdown",
   "metadata": {},
   "source": [
    "$$ \\begin{bmatrix} a_{11} & a_{12} & a_{13} \\\\ 0 & a_{22} & a_{23} \\\\ 0 & 0 & a_{3,3} \\end{bmatrix} \\tag{3} $$"
   ]
  },
  {
   "cell_type": "markdown",
   "metadata": {},
   "source": [
    "Note that all entries _below_ the main diagonal are $0$.  This is an _upper triangular matrix_."
   ]
  },
  {
   "cell_type": "markdown",
   "metadata": {},
   "source": [
    "To get our matrix in (2) into upper triangular form, successive elementary row operation follow, which remember, is nothing other than matrix multiplication of the elementary matrices.  An elementary matrix is an identity matrix on which one elementary row operation was performed.  below, we create the $3 \\times 3$ matrix in (2) and save it as `sympy` matrix object named `A`."
   ]
  },
  {
   "cell_type": "code",
   "execution_count": 2,
   "metadata": {},
   "outputs": [
    {
     "data": {
      "text/latex": [
       "$\\displaystyle \\left[\\begin{matrix}1 & -2 & 1\\\\3 & 2 & -2\\\\6 & -1 & -1\\end{matrix}\\right]$"
      ],
      "text/plain": [
       "⎡1  -2  1 ⎤\n",
       "⎢         ⎥\n",
       "⎢3  2   -2⎥\n",
       "⎢         ⎥\n",
       "⎣6  -1  -1⎦"
      ]
     },
     "execution_count": 2,
     "metadata": {},
     "output_type": "execute_result"
    }
   ],
   "source": [
    "A = Matrix([[1, -2, 1], [3, 2, -2], [6, -1, -1]])\n",
    "A"
   ]
  },
  {
   "cell_type": "markdown",
   "metadata": {},
   "source": [
    "The `eye()` function returns an identity matrix."
   ]
  },
  {
   "cell_type": "code",
   "execution_count": 3,
   "metadata": {},
   "outputs": [
    {
     "data": {
      "text/latex": [
       "$\\displaystyle \\left[\\begin{matrix}1 & 0 & 0\\\\0 & 1 & 0\\\\0 & 0 & 1\\end{matrix}\\right]$"
      ],
      "text/plain": [
       "⎡1  0  0⎤\n",
       "⎢       ⎥\n",
       "⎢0  1  0⎥\n",
       "⎢       ⎥\n",
       "⎣0  0  1⎦"
      ]
     },
     "execution_count": 3,
     "metadata": {},
     "output_type": "execute_result"
    }
   ],
   "source": [
    "eye(3)  # Identity matrix of size 3 x 3"
   ]
  },
  {
   "cell_type": "markdown",
   "metadata": {},
   "source": [
    "We have to get a $-3$ in the first _pivot_ (the $1$ in row $1$, column $1$) to get rid of the $3$ in row $2$, column $1$ (we call the resulting elementary matrix `E21`, referring to the row $2$, column $1$).  Then we add the new row $1$ to row $2$.  Row $1$ of the identity matrix is then $\\left( -3,0,0 \\right) $ (but we leave it as $\\left( 1,0,0 \\right)$ in `E21`).  Adding this to row $2$ leaves $ \\left( -3,1,0 \\right) $."
   ]
  },
  {
   "cell_type": "markdown",
   "metadata": {},
   "source": [
    "To see why this is so, if we multiply row $1$ by $-3$ we have $ \\left( -3, 0, 0 \\right) $.  Adding this to row $2$, which is $ \\left( 0,1,0 \\right) $, results in $ \\left( -3,1,0 \\right) $ and hence `E21` being what we see below."
   ]
  },
  {
   "cell_type": "code",
   "execution_count": 4,
   "metadata": {},
   "outputs": [
    {
     "data": {
      "text/latex": [
       "$\\displaystyle \\left[\\begin{matrix}1 & 0 & 0\\\\-3 & 1 & 0\\\\0 & 0 & 1\\end{matrix}\\right]$"
      ],
      "text/plain": [
       "⎡1   0  0⎤\n",
       "⎢        ⎥\n",
       "⎢-3  1  0⎥\n",
       "⎢        ⎥\n",
       "⎣0   0  1⎦"
      ]
     },
     "execution_count": 4,
     "metadata": {},
     "output_type": "execute_result"
    }
   ],
   "source": [
    "E21 = Matrix([[1, 0, 0], [-3, 1, 0], [0, 0, 1]])\n",
    "E21"
   ]
  },
  {
   "cell_type": "markdown",
   "metadata": {},
   "source": [
    "Now we left-multiply $A$ by the elementary matrix `E21`.  In matrix notation, we would write $E_{21} A$."
   ]
  },
  {
   "cell_type": "code",
   "execution_count": 5,
   "metadata": {},
   "outputs": [
    {
     "data": {
      "text/latex": [
       "$\\displaystyle \\left[\\begin{matrix}1 & -2 & 1\\\\0 & 8 & -5\\\\6 & -1 & -1\\end{matrix}\\right]$"
      ],
      "text/plain": [
       "⎡1  -2  1 ⎤\n",
       "⎢         ⎥\n",
       "⎢0  8   -5⎥\n",
       "⎢         ⎥\n",
       "⎣6  -1  -1⎦"
      ]
     },
     "execution_count": 5,
     "metadata": {},
     "output_type": "execute_result"
    }
   ],
   "source": [
    "E21 * A  # The resulting matrix after multiplication by E21"
   ]
  },
  {
   "cell_type": "markdown",
   "metadata": {},
   "source": [
    "Good, we now have a leading $0$ in row $2$.  We follow the same steps to get rid of the leading $6$ in row $3$, column $1$.  Multiplying row $1$ (of the identity matrix) by $-6$ and adding this new row to row $3$ yields elementary matrix `E31`."
   ]
  },
  {
   "cell_type": "code",
   "execution_count": 6,
   "metadata": {},
   "outputs": [
    {
     "data": {
      "text/latex": [
       "$\\displaystyle \\left[\\begin{matrix}1 & 0 & 0\\\\0 & 1 & 0\\\\-6 & 0 & 1\\end{matrix}\\right]$"
      ],
      "text/plain": [
       "⎡1   0  0⎤\n",
       "⎢        ⎥\n",
       "⎢0   1  0⎥\n",
       "⎢        ⎥\n",
       "⎣-6  0  1⎦"
      ]
     },
     "execution_count": 6,
     "metadata": {},
     "output_type": "execute_result"
    }
   ],
   "source": [
    "E31 = Matrix([[1, 0, 0], [0, 1, 0], [-6, 0, 1]])\n",
    "E31"
   ]
  },
  {
   "cell_type": "markdown",
   "metadata": {},
   "source": [
    "Now for the left-multiplication of $E_{21} A$ by `E31` so that we have $E_{31} E_{21} A$."
   ]
  },
  {
   "cell_type": "code",
   "execution_count": 7,
   "metadata": {},
   "outputs": [
    {
     "data": {
      "text/latex": [
       "$\\displaystyle \\left[\\begin{matrix}1 & -2 & 1\\\\0 & 8 & -5\\\\0 & 11 & -7\\end{matrix}\\right]$"
      ],
      "text/plain": [
       "⎡1  -2  1 ⎤\n",
       "⎢         ⎥\n",
       "⎢0  8   -5⎥\n",
       "⎢         ⎥\n",
       "⎣0  11  -7⎦"
      ]
     },
     "execution_count": 7,
     "metadata": {},
     "output_type": "execute_result"
    }
   ],
   "source": [
    "E31 * E21 * A  # This got rid of the leading 6 in row 3"
   ]
  },
  {
   "cell_type": "markdown",
   "metadata": {},
   "source": [
    "Now the $11$ in row $3$, column $2$ is the _pivot_ and we also need to get rid of the $8$ in row $2$, column $2$.  Unfortunately, we have an $8$ and an $11$ to deal with.  We will have to do two elementary row operations.  First $-11$ times row $2$ of the identity matrix $ \\therefore \\left( 0,-11,0 \\right) $,  added to $8$ times row $3$ $ \\therefore \\left( 0,0,8 \\right) $) such that we have $ \\left( 0,-11,8 \\right) $.  Below it is save as `E32`."
   ]
  },
  {
   "cell_type": "code",
   "execution_count": 8,
   "metadata": {},
   "outputs": [
    {
     "data": {
      "text/latex": [
       "$\\displaystyle \\left[\\begin{matrix}1 & 0 & 0\\\\0 & 1 & 0\\\\0 & -11 & 8\\end{matrix}\\right]$"
      ],
      "text/plain": [
       "⎡1   0   0⎤\n",
       "⎢         ⎥\n",
       "⎢0   1   0⎥\n",
       "⎢         ⎥\n",
       "⎣0  -11  8⎦"
      ]
     },
     "execution_count": 8,
     "metadata": {},
     "output_type": "execute_result"
    }
   ],
   "source": [
    "E32 = Matrix([[1, 0, 0], [0, 1, 0], [0, -11, 8]])\n",
    "E32"
   ]
  },
  {
   "cell_type": "code",
   "execution_count": 9,
   "metadata": {},
   "outputs": [
    {
     "data": {
      "text/latex": [
       "$\\displaystyle \\left[\\begin{matrix}1 & -2 & 1\\\\0 & 8 & -5\\\\0 & 0 & -1\\end{matrix}\\right]$"
      ],
      "text/plain": [
       "⎡1  -2  1 ⎤\n",
       "⎢         ⎥\n",
       "⎢0  8   -5⎥\n",
       "⎢         ⎥\n",
       "⎣0  0   -1⎦"
      ]
     },
     "execution_count": 9,
     "metadata": {},
     "output_type": "execute_result"
    }
   ],
   "source": [
    "U = E32 * E31 * E21 * A\n",
    "U  # We call is U for upper triangular"
   ]
  },
  {
   "cell_type": "markdown",
   "metadata": {},
   "source": [
    "The matrix is now in upper triangular form, achived by the elementary matrixes shown in (4)."
   ]
  },
  {
   "cell_type": "markdown",
   "metadata": {},
   "source": [
    "$$ { E }_{ 32 } { E }_{ 31 } { E }_{ 21 } A=U \\tag{4} $$"
   ]
  },
  {
   "cell_type": "markdown",
   "metadata": {},
   "source": [
    "## Calculating the _L_ower triangular from"
   ]
  },
  {
   "cell_type": "markdown",
   "metadata": {},
   "source": [
    "Note, to reverse the process above, we would have to do the multiplication shown in (5)."
   ]
  },
  {
   "cell_type": "markdown",
   "metadata": {},
   "source": [
    "$$ { \\left( { E }_{ 21 } \\right)  }^{ -1 }{ \\left( { E }_{ 31 } \\right)  }^{ -1 }{ \\left( { E }_{ 32 } \\right)  }^{ -1 }\\left( { E }_{ 32 } \\right) \\left( { E }_{ 31 } \\right) \\left( { E }_{ 21 } \\right) A=A \\tag{5} $$"
   ]
  },
  {
   "cell_type": "markdown",
   "metadata": {},
   "source": [
    "The inverse of a matrix can be calculated using the `sympy` method `.inv()`."
   ]
  },
  {
   "cell_type": "markdown",
   "metadata": {},
   "source": [
    "We can check this with a Boolean logic, using the `==` symbol, which checks if the left- and right-hand sides re equal."
   ]
  },
  {
   "cell_type": "code",
   "execution_count": 10,
   "metadata": {},
   "outputs": [
    {
     "data": {
      "text/plain": [
       "True"
      ]
     },
     "execution_count": 10,
     "metadata": {},
     "output_type": "execute_result"
    }
   ],
   "source": [
    "E21.inv() * E31.inv() * E32.inv() * E32 * E31 * E21 * A == A  # The Boolean double equal signs asks: Is the\n",
    "# left-hand side equal to the right-hand side?"
   ]
  },
  {
   "cell_type": "markdown",
   "metadata": {},
   "source": [
    "We will be back with the identity matrix just multiplying the inverse elementary matrices and the elementary matrices."
   ]
  },
  {
   "cell_type": "code",
   "execution_count": 11,
   "metadata": {},
   "outputs": [
    {
     "data": {
      "text/latex": [
       "$\\displaystyle \\left[\\begin{matrix}1 & 0 & 0\\\\0 & 1 & 0\\\\0 & 0 & 1\\end{matrix}\\right]$"
      ],
      "text/plain": [
       "⎡1  0  0⎤\n",
       "⎢       ⎥\n",
       "⎢0  1  0⎥\n",
       "⎢       ⎥\n",
       "⎣0  0  1⎦"
      ]
     },
     "execution_count": 11,
     "metadata": {},
     "output_type": "execute_result"
    }
   ],
   "source": [
    "E21.inv() * E31.inv() * E32.inv() * E32 * E31 * E21"
   ]
  },
  {
   "cell_type": "markdown",
   "metadata": {},
   "source": [
    "We left-multiply both sides of (4) by these inverse elementary matrices as shown in (6)."
   ]
  },
  {
   "cell_type": "markdown",
   "metadata": {},
   "source": [
    "$$ { \\left( { E }_{ 21 } \\right)  }^{ -1 }{ \\left( { E }_{ 31 } \\right)  }^{ -1 }{ \\left( { E }_{ 32 } \\right)  }^{ -1 }\\left( { E }_{ 32 } \\right) \\left( { E }_{ 31 } \\right) \\left( { E }_{ 21 } \\right) A={ \\left( { E }_{ 21 } \\right)  }^{ -1 }{ \\left( { E }_{ 31 } \\right)  }^{ -1 }{ \\left( { E }_{ 32 } \\right)  }^{ -1 }U \\tag{6} $$"
   ]
  },
  {
   "cell_type": "markdown",
   "metadata": {},
   "source": [
    "The multiplication of these inverse elementary matrices results in a _l_ower triangular matrix, $L$, such that we have (1)."
   ]
  },
  {
   "cell_type": "code",
   "execution_count": 12,
   "metadata": {},
   "outputs": [
    {
     "data": {
      "text/latex": [
       "$\\displaystyle \\left[\\begin{matrix}1 & 0 & 0\\\\3 & 1 & 0\\\\6 & \\frac{11}{8} & \\frac{1}{8}\\end{matrix}\\right]$"
      ],
      "text/plain": [
       "⎡1   0     0 ⎤\n",
       "⎢            ⎥\n",
       "⎢3   1     0 ⎥\n",
       "⎢            ⎥\n",
       "⎣6  11/8  1/8⎦"
      ]
     },
     "execution_count": 12,
     "metadata": {},
     "output_type": "execute_result"
    }
   ],
   "source": [
    "L = E21.inv() * E31.inv() * E32.inv()\n",
    "L"
   ]
  },
  {
   "cell_type": "markdown",
   "metadata": {},
   "source": [
    "Let's check if this is so."
   ]
  },
  {
   "cell_type": "code",
   "execution_count": 13,
   "metadata": {},
   "outputs": [
    {
     "data": {
      "text/plain": [
       "True"
      ]
     },
     "execution_count": 13,
     "metadata": {},
     "output_type": "execute_result"
    }
   ],
   "source": [
    "A == L * U  # Checking this with a Boolean question"
   ]
  },
  {
   "cell_type": "code",
   "execution_count": 14,
   "metadata": {},
   "outputs": [
    {
     "data": {
      "text/latex": [
       "$\\displaystyle \\left( \\left[\\begin{matrix}1 & -2 & 1\\\\3 & 2 & -2\\\\6 & -1 & -1\\end{matrix}\\right], \\  \\left[\\begin{matrix}1 & -2 & 1\\\\3 & 2 & -2\\\\6 & -1 & -1\\end{matrix}\\right]\\right)$"
      ],
      "text/plain": [
       "⎛⎡1  -2  1 ⎤  ⎡1  -2  1 ⎤⎞\n",
       "⎜⎢         ⎥  ⎢         ⎥⎟\n",
       "⎜⎢3  2   -2⎥, ⎢3  2   -2⎥⎟\n",
       "⎜⎢         ⎥  ⎢         ⎥⎟\n",
       "⎝⎣6  -1  -1⎦  ⎣6  -1  -1⎦⎠"
      ]
     },
     "execution_count": 14,
     "metadata": {},
     "output_type": "execute_result"
    }
   ],
   "source": [
    "A, L * U  # They are identical"
   ]
  },
  {
   "cell_type": "markdown",
   "metadata": {},
   "source": [
    "## Doing this in one go using sympy"
   ]
  },
  {
   "cell_type": "markdown",
   "metadata": {},
   "source": [
    "The `sympy` library provides the `.LUdecomposition()` method for rectangular matrices.  It returns three values."
   ]
  },
  {
   "cell_type": "code",
   "execution_count": 15,
   "metadata": {},
   "outputs": [],
   "source": [
    "L, U, _ = A.LUdecomposition()"
   ]
  },
  {
   "cell_type": "code",
   "execution_count": 16,
   "metadata": {},
   "outputs": [
    {
     "data": {
      "text/latex": [
       "$\\displaystyle \\left[\\begin{matrix}1 & 0 & 0\\\\3 & 1 & 0\\\\6 & \\frac{11}{8} & 1\\end{matrix}\\right]$"
      ],
      "text/plain": [
       "⎡1   0    0⎤\n",
       "⎢          ⎥\n",
       "⎢3   1    0⎥\n",
       "⎢          ⎥\n",
       "⎣6  11/8  1⎦"
      ]
     },
     "execution_count": 16,
     "metadata": {},
     "output_type": "execute_result"
    }
   ],
   "source": [
    "L"
   ]
  },
  {
   "cell_type": "code",
   "execution_count": 17,
   "metadata": {},
   "outputs": [
    {
     "data": {
      "text/latex": [
       "$\\displaystyle \\left[\\begin{matrix}1 & -2 & 1\\\\0 & 8 & -5\\\\0 & 0 & - \\frac{1}{8}\\end{matrix}\\right]$"
      ],
      "text/plain": [
       "⎡1  -2   1  ⎤\n",
       "⎢           ⎥\n",
       "⎢0  8    -5 ⎥\n",
       "⎢           ⎥\n",
       "⎣0  0   -1/8⎦"
      ]
     },
     "execution_count": 17,
     "metadata": {},
     "output_type": "execute_result"
    }
   ],
   "source": [
    "U  # Note the difference from the U above"
   ]
  },
  {
   "cell_type": "markdown",
   "metadata": {},
   "source": [
    "Note the subtle difference between this $U$ and the one calculated above.  It simply has row $3$ divided by $8$.  It makes no difference as shown below."
   ]
  },
  {
   "cell_type": "code",
   "execution_count": 18,
   "metadata": {},
   "outputs": [
    {
     "data": {
      "text/latex": [
       "$\\displaystyle \\left[\\begin{matrix}1 & -2 & 1\\\\3 & 2 & -2\\\\6 & -1 & -1\\end{matrix}\\right]$"
      ],
      "text/plain": [
       "⎡1  -2  1 ⎤\n",
       "⎢         ⎥\n",
       "⎢3  2   -2⎥\n",
       "⎢         ⎥\n",
       "⎣6  -1  -1⎦"
      ]
     },
     "execution_count": 18,
     "metadata": {},
     "output_type": "execute_result"
    }
   ],
   "source": [
    "L * U  # Back to A"
   ]
  },
  {
   "cell_type": "markdown",
   "metadata": {},
   "source": [
    "### What's special about L?"
   ]
  },
  {
   "cell_type": "markdown",
   "metadata": {},
   "source": [
    "Our methods only works when no row interchange happens.  It also actually only works when doing the conventional subtracting the scalar multiplication of a row from another row, leaving the positive scalar.  (This is opposed to the negatives I often use in my head, allowing me to add the two rows)."
   ]
  },
  {
   "cell_type": "markdown",
   "metadata": {},
   "source": [
    "Note the $3$ (in row $2$, column $1$) and the $6$ (in row $3$, column $1$).  They are the row multiplications we have to do for `E21` and `E31`.  The \n",
    "$\\frac{11}{8}$ is what we did for `E32` (we just did it in two steps so as not to use fractions)."
   ]
  },
  {
   "cell_type": "markdown",
   "metadata": {},
   "source": [
    "## Row exchanges"
   ]
  },
  {
   "cell_type": "markdown",
   "metadata": {},
   "source": [
    "Sometimes, we have to allow row exchanges, i.e. if the pivot contains a $0$."
   ]
  },
  {
   "cell_type": "markdown",
   "metadata": {},
   "source": [
    "As an example, from a $ 3 \\times 3 $ identity matrix we could have the following."
   ]
  },
  {
   "cell_type": "code",
   "execution_count": 19,
   "metadata": {},
   "outputs": [
    {
     "data": {
      "text/latex": [
       "$\\displaystyle \\left[\\begin{matrix}1 & 0 & 0\\\\0 & 1 & 0\\\\0 & 0 & 1\\end{matrix}\\right]$"
      ],
      "text/plain": [
       "⎡1  0  0⎤\n",
       "⎢       ⎥\n",
       "⎢0  1  0⎥\n",
       "⎢       ⎥\n",
       "⎣0  0  1⎦"
      ]
     },
     "execution_count": 19,
     "metadata": {},
     "output_type": "execute_result"
    }
   ],
   "source": [
    "eye(3)"
   ]
  },
  {
   "cell_type": "markdown",
   "metadata": {},
   "source": [
    "Exchanging rows $1$ and $2$."
   ]
  },
  {
   "cell_type": "code",
   "execution_count": 20,
   "metadata": {},
   "outputs": [
    {
     "data": {
      "text/latex": [
       "$\\displaystyle \\left[\\begin{matrix}0 & 1 & 0\\\\1 & 0 & 0\\\\0 & 0 & 1\\end{matrix}\\right]$"
      ],
      "text/plain": [
       "⎡0  1  0⎤\n",
       "⎢       ⎥\n",
       "⎢1  0  0⎥\n",
       "⎢       ⎥\n",
       "⎣0  0  1⎦"
      ]
     },
     "execution_count": 20,
     "metadata": {},
     "output_type": "execute_result"
    }
   ],
   "source": [
    "Matrix([[0, 1, 0], [1, 0, 0], [0, 0, 1]])"
   ]
  },
  {
   "cell_type": "code",
   "execution_count": 21,
   "metadata": {},
   "outputs": [
    {
     "data": {
      "text/latex": [
       "$\\displaystyle \\left( \\left[\\begin{matrix}1 & -2 & 1\\\\3 & 2 & -2\\\\6 & -1 & -1\\end{matrix}\\right], \\  \\left[\\begin{matrix}3 & 2 & -2\\\\1 & -2 & 1\\\\6 & -1 & -1\\end{matrix}\\right]\\right)$"
      ],
      "text/plain": [
       "⎛⎡1  -2  1 ⎤  ⎡3  2   -2⎤⎞\n",
       "⎜⎢         ⎥  ⎢         ⎥⎟\n",
       "⎜⎢3  2   -2⎥, ⎢1  -2  1 ⎥⎟\n",
       "⎜⎢         ⎥  ⎢         ⎥⎟\n",
       "⎝⎣6  -1  -1⎦  ⎣6  -1  -1⎦⎠"
      ]
     },
     "execution_count": 21,
     "metadata": {},
     "output_type": "execute_result"
    }
   ],
   "source": [
    "A, Matrix([[0, 1, 0], [1, 0, 0], [0, 0, 1]]) * A  # Showing row exchange"
   ]
  },
  {
   "cell_type": "markdown",
   "metadata": {},
   "source": [
    "By the way, how many permutations of row exchanges are there?  This answer is $n!$, where $n$ is the number of rows."
   ]
  },
  {
   "cell_type": "markdown",
   "metadata": {},
   "source": [
    "## Example problems"
   ]
  },
  {
   "cell_type": "markdown",
   "metadata": {},
   "source": [
    "### Example problem 01"
   ]
  },
  {
   "cell_type": "markdown",
   "metadata": {},
   "source": [
    "1. Perform LU decomposition of:\n",
    "$$  \\begin{bmatrix} 1 & 0 & 1 \\\\ a & a & a \\\\ b & b & a \\end{bmatrix} $$\n",
    "\n",
    "2. For which values of $a$ and $b$ does $L$ and $U$ exist?"
   ]
  },
  {
   "cell_type": "markdown",
   "metadata": {},
   "source": [
    "#### Solution"
   ]
  },
  {
   "cell_type": "code",
   "execution_count": 22,
   "metadata": {},
   "outputs": [],
   "source": [
    "a, b = symbols(\"a b\")"
   ]
  },
  {
   "cell_type": "code",
   "execution_count": 23,
   "metadata": {},
   "outputs": [
    {
     "data": {
      "text/latex": [
       "$\\displaystyle \\left[\\begin{matrix}1 & 0 & 1\\\\a & a & a\\\\b & b & a\\end{matrix}\\right]$"
      ],
      "text/plain": [
       "⎡1  0  1⎤\n",
       "⎢       ⎥\n",
       "⎢a  a  a⎥\n",
       "⎢       ⎥\n",
       "⎣b  b  a⎦"
      ]
     },
     "execution_count": 23,
     "metadata": {},
     "output_type": "execute_result"
    }
   ],
   "source": [
    "A = Matrix([[1, 0, 1], [a, a, a], [b, b, a]])\n",
    "A"
   ]
  },
  {
   "cell_type": "code",
   "execution_count": 24,
   "metadata": {},
   "outputs": [],
   "source": [
    "L, U, _ = A.LUdecomposition()"
   ]
  },
  {
   "cell_type": "code",
   "execution_count": 25,
   "metadata": {},
   "outputs": [
    {
     "data": {
      "text/latex": [
       "$\\displaystyle \\left( \\left[\\begin{matrix}1 & 0 & 0\\\\a & 1 & 0\\\\b & \\frac{b}{a} & 1\\end{matrix}\\right], \\  \\left[\\begin{matrix}1 & 0 & 1\\\\0 & a & 0\\\\0 & 0 & a - b\\end{matrix}\\right]\\right)$"
      ],
      "text/plain": [
       "⎛⎡1  0  0⎤               ⎞\n",
       "⎜⎢       ⎥  ⎡1  0    1  ⎤⎟\n",
       "⎜⎢a  1  0⎥  ⎢           ⎥⎟\n",
       "⎜⎢       ⎥, ⎢0  a    0  ⎥⎟\n",
       "⎜⎢   b   ⎥  ⎢           ⎥⎟\n",
       "⎜⎢b  ─  1⎥  ⎣0  0  a - b⎦⎟\n",
       "⎝⎣   a   ⎦               ⎠"
      ]
     },
     "execution_count": 25,
     "metadata": {},
     "output_type": "execute_result"
    }
   ],
   "source": [
    "L, U"
   ]
  },
  {
   "cell_type": "markdown",
   "metadata": {},
   "source": [
    "Checking."
   ]
  },
  {
   "cell_type": "code",
   "execution_count": 26,
   "metadata": {},
   "outputs": [
    {
     "data": {
      "text/plain": [
       "True"
      ]
     },
     "execution_count": 26,
     "metadata": {},
     "output_type": "execute_result"
    }
   ],
   "source": [
    "L * U == A"
   ]
  },
  {
   "cell_type": "markdown",
   "metadata": {},
   "source": [
    "For existence it is clear that $ a \\ne 0 $.  Not only for the division by $0$, but because we will have a row of $0$'s and a $0$ in the pivot position, row $2$, column $2$.  Furthermore, $a \\ne b$, for the same reasons."
   ]
  },
  {
   "cell_type": "markdown",
   "metadata": {},
   "source": [
    "## Hints and tips"
   ]
  },
  {
   "cell_type": "code",
   "execution_count": 27,
   "metadata": {},
   "outputs": [
    {
     "data": {
      "text/latex": [
       "$\\displaystyle \\left( \\left[\\begin{matrix}1 & 0 & 0\\\\-3 & 1 & 0\\\\0 & 0 & 1\\end{matrix}\\right], \\  \\left[\\begin{matrix}1 & 0 & 0\\\\3 & 1 & 0\\\\0 & 0 & 1\\end{matrix}\\right]\\right)$"
      ],
      "text/plain": [
       "⎛⎡1   0  0⎤  ⎡1  0  0⎤⎞\n",
       "⎜⎢        ⎥  ⎢       ⎥⎟\n",
       "⎜⎢-3  1  0⎥, ⎢3  1  0⎥⎟\n",
       "⎜⎢        ⎥  ⎢       ⎥⎟\n",
       "⎝⎣0   0  1⎦  ⎣0  0  1⎦⎠"
      ]
     },
     "execution_count": 27,
     "metadata": {},
     "output_type": "execute_result"
    }
   ],
   "source": [
    "E21, E21.inv()"
   ]
  },
  {
   "cell_type": "markdown",
   "metadata": {},
   "source": [
    "To take the inverse of an elementary matrix, simply change the sign of the off-diagonal elements and multiply each element by 1 over the determinant (more about the determinant later).  The determinant is easy to do for these $ n=3 $ square matrices, since the top row is $ \\left( 1,0,0 \\right) $."
   ]
  },
  {
   "cell_type": "code",
   "execution_count": 28,
   "metadata": {},
   "outputs": [
    {
     "data": {
      "text/latex": [
       "$\\displaystyle \\left( \\left[\\begin{matrix}1 & 0 & 0\\\\0 & 1 & 0\\\\0 & -11 & 8\\end{matrix}\\right], \\  \\left[\\begin{matrix}1 & 0 & 0\\\\0 & 1 & 0\\\\0 & \\frac{11}{8} & \\frac{1}{8}\\end{matrix}\\right]\\right)$"
      ],
      "text/plain": [
       "⎛⎡1   0   0⎤  ⎡1   0     0 ⎤⎞\n",
       "⎜⎢         ⎥  ⎢            ⎥⎟\n",
       "⎜⎢0   1   0⎥, ⎢0   1     0 ⎥⎟\n",
       "⎜⎢         ⎥  ⎢            ⎥⎟\n",
       "⎝⎣0  -11  8⎦  ⎣0  11/8  1/8⎦⎠"
      ]
     },
     "execution_count": 28,
     "metadata": {},
     "output_type": "execute_result"
    }
   ],
   "source": [
    "E32, E32.inv()"
   ]
  },
  {
   "cell_type": "markdown",
   "metadata": {},
   "source": [
    "By keeping track of the elementary matrices it is easy to get $L$ and $U$.  It is also easy to get the inverses of $L$ and $U$.  This means it is easy to calculate the values of a column vector $ \\mathbf{x} $ when we have $ A \\mathbf{x} = \\mathbf{b} $ as shown in (7)."
   ]
  },
  {
   "cell_type": "markdown",
   "metadata": {},
   "source": [
    "$$ \\begin{align} Ax &= LUx=b\\\\ Ux &= { L }^{ -1 }b\\\\ x &= { U }^{ -1 }{ L }^{ -1 }b \\end{align} \\tag{7} $$"
   ]
  },
  {
   "cell_type": "code",
   "execution_count": null,
   "metadata": {},
   "outputs": [],
   "source": []
  }
 ],
 "metadata": {
  "kernelspec": {
   "display_name": "ai-portfolio",
   "language": "python",
   "name": "python3"
  },
  "language_info": {
   "codemirror_mode": {
    "name": "ipython",
    "version": 3
   },
   "file_extension": ".py",
   "mimetype": "text/x-python",
   "name": "python",
   "nbconvert_exporter": "python",
   "pygments_lexer": "ipython3",
   "version": "3.11.13"
  }
 },
 "nbformat": 4,
 "nbformat_minor": 1
}
