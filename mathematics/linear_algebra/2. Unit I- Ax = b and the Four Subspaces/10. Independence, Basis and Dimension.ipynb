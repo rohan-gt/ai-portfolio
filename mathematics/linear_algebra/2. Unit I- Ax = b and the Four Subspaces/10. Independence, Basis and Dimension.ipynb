{
 "cells": [
  {
   "cell_type": "code",
   "execution_count": 1,
   "metadata": {},
   "outputs": [],
   "source": [
    "from sympy import init_printing, Matrix, symbols\n",
    "\n",
    "init_printing()"
   ]
  },
  {
   "cell_type": "markdown",
   "metadata": {},
   "source": [
    "## Independence"
   ]
  },
  {
   "cell_type": "markdown",
   "metadata": {},
   "source": [
    "Sticking with the theme of linearly independent vectors, we note that vectors are indeed linearly independent under the following conditions:\n",
    "\n",
    "1. If no combination of the vectors results in the zero vector (other than the trivial cases of a scalar multiple of $0$ of each of the vectors)\n",
    "2. For the respective dimensional space, they do not lie on a line, plane, or hyperplane through the origin"
   ]
  },
  {
   "cell_type": "markdown",
   "metadata": {},
   "source": [
    "Let's consider the example of the matrix (of coefficients), named `A` below."
   ]
  },
  {
   "cell_type": "code",
   "execution_count": 2,
   "metadata": {},
   "outputs": [
    {
     "data": {
      "text/latex": [
       "$\\displaystyle \\left[\\begin{matrix}1 & 2 & 4\\\\3 & 1 & 4\\end{matrix}\\right]$"
      ],
      "text/plain": [
       "⎡1  2  4⎤\n",
       "⎢       ⎥\n",
       "⎣3  1  4⎦"
      ]
     },
     "execution_count": 2,
     "metadata": {},
     "output_type": "execute_result"
    }
   ],
   "source": [
    "A = Matrix([[1, 2, 4], [3, 1, 4]])\n",
    "A"
   ]
  },
  {
   "cell_type": "markdown",
   "metadata": {},
   "source": [
    "### How many vectors in the nullspace?"
   ]
  },
  {
   "cell_type": "markdown",
   "metadata": {},
   "source": [
    "This is a matrix with a rank of $2$ ($2$ pivots) and $3$ unknowns and $2$ rows.  Thus, $\\text{rank}\\left(A\\right)=m=2$ (a full row rank).  We are left with $n-r$ free variables, i.e. $3 - 2 = 1$.  Importantly, this means that we will have one vector in the nullspace."
   ]
  },
  {
   "cell_type": "code",
   "execution_count": 3,
   "metadata": {},
   "outputs": [
    {
     "data": {
      "text/latex": [
       "$\\displaystyle \\left( \\left[\\begin{matrix}1 & 0 & \\frac{4}{5}\\\\0 & 1 & \\frac{8}{5}\\end{matrix}\\right], \\  \\left( 0, \\  1\\right)\\right)$"
      ],
      "text/plain": [
       "⎛⎡1  0  4/5⎤        ⎞\n",
       "⎜⎢         ⎥, (0, 1)⎟\n",
       "⎝⎣0  1  8/5⎦        ⎠"
      ]
     },
     "execution_count": 3,
     "metadata": {},
     "output_type": "execute_result"
    }
   ],
   "source": [
    "A.rref()  # Reduced row-echelon form"
   ]
  },
  {
   "cell_type": "code",
   "execution_count": 4,
   "metadata": {},
   "outputs": [
    {
     "data": {
      "text/latex": [
       "$\\displaystyle \\left[ \\left[\\begin{matrix}- \\frac{4}{5}\\\\- \\frac{8}{5}\\\\1\\end{matrix}\\right]\\right]$"
      ],
      "text/plain": [
       "⎡⎡-4/5⎤⎤\n",
       "⎢⎢    ⎥⎥\n",
       "⎢⎢-8/5⎥⎥\n",
       "⎢⎢    ⎥⎥\n",
       "⎣⎣ 1  ⎦⎦"
      ]
     },
     "execution_count": 4,
     "metadata": {},
     "output_type": "execute_result"
    }
   ],
   "source": [
    "A.nullspace()  # Null -sapce vector"
   ]
  },
  {
   "cell_type": "markdown",
   "metadata": {},
   "source": [
    "We note the two equations in three unknowns (set to the zero vector) in (1) below."
   ]
  },
  {
   "cell_type": "markdown",
   "metadata": {},
   "source": [
    "$$\\begin{align}&{x_1}+2{x_2}+4{x_3}=0\\\\&3{x_1}+{x_2}+4{x_3}=0\\end{align}\\tag{1}$$"
   ]
  },
  {
   "cell_type": "markdown",
   "metadata": {},
   "source": [
    "After Gauss-Jordan elimination we have (2)."
   ]
  },
  {
   "cell_type": "markdown",
   "metadata": {},
   "source": [
    "$$\\begin{align}&{x_1}+\\frac{4}{5}{x_3}=0\\\\&{x_2}+\\frac{8}{5}{x_3}=0\\end{align}\\tag{2}$$"
   ]
  },
  {
   "cell_type": "markdown",
   "metadata": {},
   "source": [
    "For the null space, we set $x_3=1$.  From this follows that ${x_2}=-\\frac{8}{5}$ and then ${x_1}=-\\frac{4}{5}$ confirming the results of the `.nullspace()` method above."
   ]
  },
  {
   "cell_type": "markdown",
   "metadata": {},
   "source": [
    "### Another way to state independence"
   ]
  },
  {
   "cell_type": "markdown",
   "metadata": {},
   "source": [
    "Consider the columns of any matrix $A$ as vectors $\\mathbf{v}_1,\\mathbf{v}_2,\\ldots,\\mathbf{v}_n$.  If $\\text{rank}\\left(A\\right)=n$ (the number of columns) then the nullspace only contains the zero vector and the column vectors are linearly independent."
   ]
  },
  {
   "cell_type": "markdown",
   "metadata": {},
   "source": [
    "## Spanning"
   ]
  },
  {
   "cell_type": "markdown",
   "metadata": {},
   "source": [
    "We have introduced the concept of _spanning_ a (sub)space.  If we have a set of linearly independent vectors such that all their linear combinations (including the zero vectors) _fill_ a (sub)space, we state that is _spans_ that (sub)space.  We are particularly interested in a set of (column) vectors (in a matrix) that are linearly independent and span a (sub)space, because this leads us to the next topic of _basis vectors_."
   ]
  },
  {
   "cell_type": "markdown",
   "metadata": {},
   "source": [
    "## Basis"
   ]
  },
  {
   "cell_type": "markdown",
   "metadata": {},
   "source": [
    "Basis vectors (in a space $W$) are vectors with the properties, (a) they are linearly independent and (b) they span the space (linear combinations of them fill the space)."
   ]
  },
  {
   "cell_type": "markdown",
   "metadata": {},
   "source": [
    "Up until now we looked at columns in a matrix $A$.  It is more common in textbooks to look at a space first and ask about basis vectors, spanning vectors, dimension, and so on."
   ]
  },
  {
   "cell_type": "markdown",
   "metadata": {},
   "source": [
    "So let's look at $\\mathbb{R}^3$.  The obvious set of basis vectors are shown in (3)."
   ]
  },
  {
   "cell_type": "markdown",
   "metadata": {},
   "source": [
    "$$\\hat{i},\\quad\\hat{j},\\quad\\hat{k}\\tag{3}$$"
   ]
  },
  {
   "cell_type": "markdown",
   "metadata": {},
   "source": [
    "What about the vectors in (4).  Are they linearly independent and do they span $\\mathbb{R}^3$?"
   ]
  },
  {
   "cell_type": "markdown",
   "metadata": {},
   "source": [
    "$$\\begin{bmatrix}1\\\\1\\\\2\\end{bmatrix},\\quad\\begin{bmatrix}2\\\\2\\\\5\\end{bmatrix}\\tag{4}$$"
   ]
  },
  {
   "cell_type": "code",
   "execution_count": 5,
   "metadata": {},
   "outputs": [
    {
     "data": {
      "text/latex": [
       "$\\displaystyle \\left[\\begin{matrix}1 & 2\\\\1 & 2\\\\2 & 5\\end{matrix}\\right]$"
      ],
      "text/plain": [
       "⎡1  2⎤\n",
       "⎢    ⎥\n",
       "⎢1  2⎥\n",
       "⎢    ⎥\n",
       "⎣2  5⎦"
      ]
     },
     "execution_count": 5,
     "metadata": {},
     "output_type": "execute_result"
    }
   ],
   "source": [
    "A = Matrix([[1, 2], [1, 2], [2, 5]])\n",
    "A"
   ]
  },
  {
   "cell_type": "code",
   "execution_count": 6,
   "metadata": {},
   "outputs": [
    {
     "data": {
      "text/latex": [
       "$\\displaystyle \\left( \\left[\\begin{matrix}1 & 0\\\\0 & 1\\\\0 & 0\\end{matrix}\\right], \\  \\left( 0, \\  1\\right)\\right)$"
      ],
      "text/plain": [
       "⎛⎡1  0⎤        ⎞\n",
       "⎜⎢    ⎥        ⎟\n",
       "⎜⎢0  1⎥, (0, 1)⎟\n",
       "⎜⎢    ⎥        ⎟\n",
       "⎝⎣0  0⎦        ⎠"
      ]
     },
     "execution_count": 6,
     "metadata": {},
     "output_type": "execute_result"
    }
   ],
   "source": [
    "A.rref()"
   ]
  },
  {
   "cell_type": "markdown",
   "metadata": {},
   "source": [
    "Here we have $\\text{rank}\\left(A\\right)=2$, $n=2$, and $n-r=0$, i.e. $0$ vectors in the nullspace.  They cannot possibly be a basis for $\\mathbb{R}^3$ and do not span $\\mathbb{R}^3$."
   ]
  },
  {
   "cell_type": "code",
   "execution_count": 7,
   "metadata": {},
   "outputs": [
    {
     "data": {
      "image/png": "[encoded data removed]",
      "text/latex": [
       "$\\displaystyle \\left[ \\right]$"
      ],
      "text/plain": [
       "[]"
      ]
     },
     "execution_count": 7,
     "metadata": {},
     "output_type": "execute_result"
    }
   ],
   "source": [
    "A.nullspace()"
   ]
  },
  {
   "cell_type": "markdown",
   "metadata": {},
   "source": [
    "All their linear combinations will only fill a plane through the origin.  Their (trivial) zero combination does result in the zero vector, though, so they do fill a subspace of $\\mathbb{R}^3$."
   ]
  },
  {
   "cell_type": "markdown",
   "metadata": {},
   "source": [
    "If we added a column vector that is a linear combination of the original two columns, it will also fall in the plane.  There will be a vector in the nullspace other than the zero vector, though."
   ]
  },
  {
   "cell_type": "code",
   "execution_count": 8,
   "metadata": {},
   "outputs": [
    {
     "data": {
      "text/latex": [
       "$\\displaystyle \\left[ \\left[\\begin{matrix}-1\\\\-1\\\\1\\end{matrix}\\right]\\right]$"
      ],
      "text/plain": [
       "⎡⎡-1⎤⎤\n",
       "⎢⎢  ⎥⎥\n",
       "⎢⎢-1⎥⎥\n",
       "⎢⎢  ⎥⎥\n",
       "⎣⎣1 ⎦⎦"
      ]
     },
     "execution_count": 8,
     "metadata": {},
     "output_type": "execute_result"
    }
   ],
   "source": [
    "A = Matrix(\n",
    "    [[1, 2, 3], [1, 2, 3], [2, 5, 7]]\n",
    ")  # Adding a linear combination of columns one and two\n",
    "A.nullspace()  # Calculation the nullspace"
   ]
  },
  {
   "cell_type": "code",
   "execution_count": 9,
   "metadata": {},
   "outputs": [
    {
     "data": {
      "text/latex": [
       "$\\displaystyle \\left( \\left[\\begin{matrix}1 & 0 & 1\\\\0 & 1 & 1\\\\0 & 0 & 0\\end{matrix}\\right], \\  \\left( 0, \\  1\\right)\\right)$"
      ],
      "text/plain": [
       "⎛⎡1  0  1⎤        ⎞\n",
       "⎜⎢       ⎥        ⎟\n",
       "⎜⎢0  1  1⎥, (0, 1)⎟\n",
       "⎜⎢       ⎥        ⎟\n",
       "⎝⎣0  0  0⎦        ⎠"
      ]
     },
     "execution_count": 9,
     "metadata": {},
     "output_type": "execute_result"
    }
   ],
   "source": [
    "A.rref()"
   ]
  },
  {
   "cell_type": "markdown",
   "metadata": {},
   "source": [
    "We see that we have a row with zero values.  This means that we have a column without a pivot and thus a free variable."
   ]
  },
  {
   "cell_type": "markdown",
   "metadata": {},
   "source": [
    "Let's add another, just for fun.  Here we duplicate the first row."
   ]
  },
  {
   "cell_type": "code",
   "execution_count": 10,
   "metadata": {},
   "outputs": [
    {
     "data": {
      "text/latex": [
       "$\\displaystyle \\left[\\begin{matrix}1 & 2 & 3\\\\1 & 2 & 3\\\\2 & 5 & 8\\end{matrix}\\right]$"
      ],
      "text/plain": [
       "⎡1  2  3⎤\n",
       "⎢       ⎥\n",
       "⎢1  2  3⎥\n",
       "⎢       ⎥\n",
       "⎣2  5  8⎦"
      ]
     },
     "execution_count": 10,
     "metadata": {},
     "output_type": "execute_result"
    }
   ],
   "source": [
    "A = Matrix([[1, 2, 3], [1, 2, 3], [2, 5, 8]])\n",
    "A"
   ]
  },
  {
   "cell_type": "code",
   "execution_count": 11,
   "metadata": {},
   "outputs": [
    {
     "data": {
      "text/latex": [
       "$\\displaystyle \\left( \\left[\\begin{matrix}1 & 0 & -1\\\\0 & 1 & 2\\\\0 & 0 & 0\\end{matrix}\\right], \\  \\left( 0, \\  1\\right)\\right)$"
      ],
      "text/plain": [
       "⎛⎡1  0  -1⎤        ⎞\n",
       "⎜⎢        ⎥        ⎟\n",
       "⎜⎢0  1  2 ⎥, (0, 1)⎟\n",
       "⎜⎢        ⎥        ⎟\n",
       "⎝⎣0  0  0 ⎦        ⎠"
      ]
     },
     "execution_count": 11,
     "metadata": {},
     "output_type": "execute_result"
    }
   ],
   "source": [
    "A.rref()"
   ]
  },
  {
   "cell_type": "markdown",
   "metadata": {},
   "source": [
    "Again, a column without a pivot and sure enough, we'll find a vector (other than the zero vector) in the nullspace."
   ]
  },
  {
   "cell_type": "code",
   "execution_count": 12,
   "metadata": {},
   "outputs": [
    {
     "data": {
      "text/latex": [
       "$\\displaystyle \\left[ \\left[\\begin{matrix}1\\\\-2\\\\1\\end{matrix}\\right]\\right]$"
      ],
      "text/plain": [
       "⎡⎡1 ⎤⎤\n",
       "⎢⎢  ⎥⎥\n",
       "⎢⎢-2⎥⎥\n",
       "⎢⎢  ⎥⎥\n",
       "⎣⎣1 ⎦⎦"
      ]
     },
     "execution_count": 12,
     "metadata": {},
     "output_type": "execute_result"
    }
   ],
   "source": [
    "A.nullspace()"
   ]
  },
  {
   "cell_type": "markdown",
   "metadata": {},
   "source": [
    "### The special case of a square matrix"
   ]
  },
  {
   "cell_type": "markdown",
   "metadata": {},
   "source": [
    "If we have a square matrix, we need only look at it's determinant: _Is it invertible_?  (More about matrix inverses later)."
   ]
  },
  {
   "cell_type": "code",
   "execution_count": 13,
   "metadata": {},
   "outputs": [
    {
     "data": {
      "image/png": "[encoded data removed]",
      "text/latex": [
       "$\\displaystyle 0$"
      ],
      "text/plain": [
       "0"
      ]
     },
     "execution_count": 13,
     "metadata": {},
     "output_type": "execute_result"
    }
   ],
   "source": [
    "A.det()  # .det() calculates the determinant"
   ]
  },
  {
   "cell_type": "markdown",
   "metadata": {},
   "source": [
    "The determinant is $0$ (as expected) and we have a vector in the nullspace."
   ]
  },
  {
   "cell_type": "markdown",
   "metadata": {},
   "source": [
    "## Dimension"
   ]
  },
  {
   "cell_type": "markdown",
   "metadata": {},
   "source": [
    "Given a (sub)space, every basis for that (sub)space has the same number of vectors (there are usually more than one basis for every (sub)space.  This called the _dimension_ of the (sub)space."
   ]
  },
  {
   "cell_type": "markdown",
   "metadata": {},
   "source": [
    "## Example"
   ]
  },
  {
   "cell_type": "markdown",
   "metadata": {},
   "source": [
    "* Consider the column space"
   ]
  },
  {
   "cell_type": "code",
   "execution_count": 14,
   "metadata": {},
   "outputs": [
    {
     "data": {
      "text/latex": [
       "$\\displaystyle \\left[\\begin{matrix}1 & 2 & 3 & 1\\\\1 & 1 & 2 & 1\\\\1 & 2 & 3 & 1\\end{matrix}\\right]$"
      ],
      "text/plain": [
       "⎡1  2  3  1⎤\n",
       "⎢          ⎥\n",
       "⎢1  1  2  1⎥\n",
       "⎢          ⎥\n",
       "⎣1  2  3  1⎦"
      ]
     },
     "execution_count": 14,
     "metadata": {},
     "output_type": "execute_result"
    }
   ],
   "source": [
    "A = Matrix([[1, 2, 3, 1], [1, 1, 2, 1], [1, 2, 3, 1]])\n",
    "A"
   ]
  },
  {
   "cell_type": "markdown",
   "metadata": {},
   "source": [
    "There are $n=4$ unknowns, $m=3$ unknowns.  We note that column $1$ = column $4$.  We note that with $4$ unknowns we are dealing with $\\mathbb{R}^4$.  In essence, there are at most three independent columns, thus the matrix cannot be a basis for $\\mathbb{R}^4$."
   ]
  },
  {
   "cell_type": "code",
   "execution_count": 15,
   "metadata": {},
   "outputs": [
    {
     "data": {
      "text/latex": [
       "$\\displaystyle \\left[ \\left[\\begin{matrix}-1\\\\-1\\\\1\\\\0\\end{matrix}\\right], \\  \\left[\\begin{matrix}-1\\\\0\\\\0\\\\1\\end{matrix}\\right]\\right]$"
      ],
      "text/plain": [
       "⎡⎡-1⎤  ⎡-1⎤⎤\n",
       "⎢⎢  ⎥  ⎢  ⎥⎥\n",
       "⎢⎢-1⎥  ⎢0 ⎥⎥\n",
       "⎢⎢  ⎥, ⎢  ⎥⎥\n",
       "⎢⎢1 ⎥  ⎢0 ⎥⎥\n",
       "⎢⎢  ⎥  ⎢  ⎥⎥\n",
       "⎣⎣0 ⎦  ⎣1 ⎦⎦"
      ]
     },
     "execution_count": 15,
     "metadata": {},
     "output_type": "execute_result"
    }
   ],
   "source": [
    "A.nullspace()"
   ]
  },
  {
   "cell_type": "code",
   "execution_count": 16,
   "metadata": {},
   "outputs": [
    {
     "data": {
      "text/latex": [
       "$\\displaystyle \\left( \\left[\\begin{matrix}1 & 0 & 1 & 1\\\\0 & 1 & 1 & 0\\\\0 & 0 & 0 & 0\\end{matrix}\\right], \\  \\left( 0, \\  1\\right)\\right)$"
      ],
      "text/plain": [
       "⎛⎡1  0  1  1⎤        ⎞\n",
       "⎜⎢          ⎥        ⎟\n",
       "⎜⎢0  1  1  0⎥, (0, 1)⎟\n",
       "⎜⎢          ⎥        ⎟\n",
       "⎝⎣0  0  0  0⎦        ⎠"
      ]
     },
     "execution_count": 16,
     "metadata": {},
     "output_type": "execute_result"
    }
   ],
   "source": [
    "A.rref()"
   ]
  },
  {
   "cell_type": "markdown",
   "metadata": {},
   "source": [
    "As we can see here, (5), columns three and four have free variables, i.e. no pivots."
   ]
  },
  {
   "cell_type": "markdown",
   "metadata": {},
   "source": [
    "$$\\begin{align}&{x}_{1}+0{x}_{2}+{x}_{3}+{x}_{4}=0\\\\&0{x}_{1}+1{x}_{2}+{x}_{3}+{0}_{4}=0\\\\&{x}_{4}={c}_{2}\\\\&{x}_{3}={c}_{1}\\\\ \\therefore \\quad &{x}_{2}=-{c}_{1}\\\\ \\therefore \\quad &{x}_{1}=-{c}_{1}-{c}_{2}\\end{align}\\tag{5}$$"
   ]
  },
  {
   "cell_type": "markdown",
   "metadata": {},
   "source": [
    "We express this more fully in (6)."
   ]
  },
  {
   "cell_type": "markdown",
   "metadata": {},
   "source": [
    "$$  \\begin{bmatrix} { x }_{ 1 } \\\\ { x }_{ 2 } \\\\ { x }_{ 3 } \\\\ { x }_{ 4 } \\end{bmatrix}=\\begin{bmatrix} -{ c }_{ 1 }-{ c }_{ 2 } \\\\ -{ c }_{ 1 } \\\\ { c }_{ 1 } \\\\ { c }_{ 2 } \\end{bmatrix}=\\begin{bmatrix} -{ c }_{ 1 } \\\\ -{ c }_{ 1 } \\\\ { c }_{ 1 } \\\\ 0 \\end{bmatrix}+\\begin{bmatrix} -{ c }_{ 2 } \\\\ 0 \\\\ 0 \\\\ { c }_{ 2 } \\end{bmatrix}={ c }_{ 1 }\\begin{bmatrix} -1 \\\\ -1 \\\\ 1 \\\\ 0 \\end{bmatrix}+{ c }_{ 2 }\\begin{bmatrix} -1 \\\\ 0 \\\\ 0 \\\\ 1 \\end{bmatrix} \\tag {6} $$"
   ]
  },
  {
   "cell_type": "markdown",
   "metadata": {},
   "source": [
    "The rank of matrix $A$ is $2$ (it is the number of pivot columns).  This matrix space thus have two basis vectors (column vectors $1$ and $2$) and we say the dimension of this space is $2$.  Remember, a matrix has a rank, which is the dimension of a column space (the column space representing the space 'produced' by the column vectors).  We talk about the rank of a matrix, $\\text{rank}\\left(A\\right)$ and the column space of a matrix, $\\text{C}\\left(A\\right)$."
   ]
  },
  {
   "cell_type": "markdown",
   "metadata": {},
   "source": [
    "In summary, we have two basis above (they span a space).  Any two vectors that are not linearly dependent will also span this space, they can't help but to, $\\text{dim}\\text{C}\\left(A\\right)=r$.  The nullspace will have $n-r$ vectors (the dimension of the nullspace equal the number of free variables)."
   ]
  },
  {
   "cell_type": "code",
   "execution_count": null,
   "metadata": {},
   "outputs": [],
   "source": []
  }
 ],
 "metadata": {
  "kernelspec": {
   "display_name": "ai-portfolio",
   "language": "python",
   "name": "python3"
  },
  "language_info": {
   "codemirror_mode": {
    "name": "ipython",
    "version": 3
   },
   "file_extension": ".py",
   "mimetype": "text/x-python",
   "name": "python",
   "nbconvert_exporter": "python",
   "pygments_lexer": "ipython3",
   "version": "3.11.13"
  }
 },
 "nbformat": 4,
 "nbformat_minor": 1
}
