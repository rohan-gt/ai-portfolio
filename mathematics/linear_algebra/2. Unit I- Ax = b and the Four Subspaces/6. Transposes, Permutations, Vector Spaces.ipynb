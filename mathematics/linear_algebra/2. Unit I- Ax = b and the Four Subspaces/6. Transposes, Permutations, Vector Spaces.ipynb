{
 "cells": [
  {
   "cell_type": "code",
   "execution_count": 1,
   "metadata": {},
   "outputs": [],
   "source": [
    "from sympy import init_printing, Matrix, symbols\n",
    "\n",
    "init_printing()"
   ]
  },
  {
   "cell_type": "markdown",
   "metadata": {},
   "source": [
    "# Transposes, permutations and vector spaces"
   ]
  },
  {
   "cell_type": "markdown",
   "metadata": {},
   "source": [
    "## The permutation matrices"
   ]
  },
  {
   "cell_type": "markdown",
   "metadata": {},
   "source": [
    "Permutation matrices, usually denoted as $P$, have the property that $P^{-1}=p^T$.  This means that the inverse of the matrix is equal to the transpose of the matrix."
   ]
  },
  {
   "cell_type": "markdown",
   "metadata": {},
   "source": [
    "We have not discussed inverses in detail, but for now, remember that it is easy to calculate the inverse of a square matrix (one that is invertible), by using the `.inv()` method."
   ]
  },
  {
   "cell_type": "markdown",
   "metadata": {},
   "source": [
    "Permutation matrices allow for row exchanges as elementary operation.  They are useful when dealing with $0$'s in pivot positions.  Below, we create a matrix, `P`, which is an $n=3$ identity matrix with rows $1$ and $2$ exchanged."
   ]
  },
  {
   "cell_type": "code",
   "execution_count": 2,
   "metadata": {},
   "outputs": [
    {
     "data": {
      "text/latex": [
       "$\\displaystyle \\left[\\begin{matrix}0 & 1 & 0\\\\1 & 0 & 0\\\\0 & 0 & 1\\end{matrix}\\right]$"
      ],
      "text/plain": [
       "⎡0  1  0⎤\n",
       "⎢       ⎥\n",
       "⎢1  0  0⎥\n",
       "⎢       ⎥\n",
       "⎣0  0  1⎦"
      ]
     },
     "execution_count": 2,
     "metadata": {},
     "output_type": "execute_result"
    }
   ],
   "source": [
    "P = Matrix([[0, 1, 0], [1, 0, 0], [0, 0, 1]])\n",
    "P  # Exchanging rows 1 and 2"
   ]
  },
  {
   "cell_type": "markdown",
   "metadata": {},
   "source": [
    "The transpose of a matrix interchanges the rows and columns.  We can calculate the transpose using the `,transpose()` method.  Below we call the inverse and transpose methods on the matrix `P`."
   ]
  },
  {
   "cell_type": "code",
   "execution_count": 3,
   "metadata": {},
   "outputs": [
    {
     "data": {
      "text/latex": [
       "$\\displaystyle \\left( \\left[\\begin{matrix}0 & 1 & 0\\\\1 & 0 & 0\\\\0 & 0 & 1\\end{matrix}\\right], \\  \\left[\\begin{matrix}0 & 1 & 0\\\\1 & 0 & 0\\\\0 & 0 & 1\\end{matrix}\\right]\\right)$"
      ],
      "text/plain": [
       "⎛⎡0  1  0⎤  ⎡0  1  0⎤⎞\n",
       "⎜⎢       ⎥  ⎢       ⎥⎟\n",
       "⎜⎢1  0  0⎥, ⎢1  0  0⎥⎟\n",
       "⎜⎢       ⎥  ⎢       ⎥⎟\n",
       "⎝⎣0  0  1⎦  ⎣0  0  1⎦⎠"
      ]
     },
     "execution_count": 3,
     "metadata": {},
     "output_type": "execute_result"
    }
   ],
   "source": [
    "P.inv(), P.transpose()"
   ]
  },
  {
   "cell_type": "markdown",
   "metadata": {},
   "source": [
    "They are indeed equal."
   ]
  },
  {
   "cell_type": "code",
   "execution_count": 4,
   "metadata": {},
   "outputs": [
    {
     "data": {
      "text/plain": [
       "True"
      ]
     },
     "execution_count": 4,
     "metadata": {},
     "output_type": "execute_result"
    }
   ],
   "source": [
    "P.inv() == P.transpose()"
   ]
  },
  {
   "cell_type": "markdown",
   "metadata": {},
   "source": [
    "For a matrix of size $n \\times n$ then there are $n!$ number of permutations.  This is easy to conceptualize.  When starting with an $n=3$ square matrix, there are $n$ rows available for interchanging.  Once one is chosen, there are $n-1$ left, and so on, hence $n!$."
   ]
  },
  {
   "cell_type": "markdown",
   "metadata": {},
   "source": [
    "## The transpose of a matrix"
   ]
  },
  {
   "cell_type": "markdown",
   "metadata": {},
   "source": [
    "We have briefly mentioned transposes of a matrix, but what are they?  They simply make rows of the column elements and columns of the row elements as in the example below."
   ]
  },
  {
   "cell_type": "code",
   "execution_count": 5,
   "metadata": {},
   "outputs": [],
   "source": [
    "a11, a12, a13, a14, a21, a22, a23, a24, a31, a32, a33, a34 = symbols(\n",
    "    \"a11, a12, a13, a14, a21, a22, a23, a24, a31, a32, a33, a34\"\n",
    ")\n",
    "# Creating mathematical scalar constants"
   ]
  },
  {
   "cell_type": "code",
   "execution_count": 6,
   "metadata": {},
   "outputs": [
    {
     "data": {
      "text/latex": [
       "$\\displaystyle \\left[\\begin{matrix}a_{11} & a_{12} & a_{13}\\\\a_{21} & a_{22} & a_{23}\\\\a_{31} & a_{32} & a_{33}\\end{matrix}\\right]$"
      ],
      "text/plain": [
       "⎡a₁₁  a₁₂  a₁₃⎤\n",
       "⎢             ⎥\n",
       "⎢a₂₁  a₂₂  a₂₃⎥\n",
       "⎢             ⎥\n",
       "⎣a₃₁  a₃₂  a₃₃⎦"
      ]
     },
     "execution_count": 6,
     "metadata": {},
     "output_type": "execute_result"
    }
   ],
   "source": [
    "A = Matrix([[a11, a12, a13], [a21, a22, a23], [a31, a32, a33]])\n",
    "A"
   ]
  },
  {
   "cell_type": "code",
   "execution_count": 7,
   "metadata": {},
   "outputs": [
    {
     "data": {
      "text/latex": [
       "$\\displaystyle \\left[\\begin{matrix}a_{11} & a_{21} & a_{31}\\\\a_{12} & a_{22} & a_{32}\\\\a_{13} & a_{23} & a_{33}\\end{matrix}\\right]$"
      ],
      "text/plain": [
       "⎡a₁₁  a₂₁  a₃₁⎤\n",
       "⎢             ⎥\n",
       "⎢a₁₂  a₂₂  a₃₂⎥\n",
       "⎢             ⎥\n",
       "⎣a₁₃  a₂₃  a₃₃⎦"
      ]
     },
     "execution_count": 7,
     "metadata": {},
     "output_type": "execute_result"
    }
   ],
   "source": [
    "A.transpose()"
   ]
  },
  {
   "cell_type": "markdown",
   "metadata": {},
   "source": [
    "Note how the elements in the first row became the elements of the first column."
   ]
  },
  {
   "cell_type": "markdown",
   "metadata": {},
   "source": [
    "We need not stick with square matrices, this applies to any sized matrix."
   ]
  },
  {
   "cell_type": "code",
   "execution_count": 8,
   "metadata": {},
   "outputs": [
    {
     "data": {
      "text/latex": [
       "$\\displaystyle \\left[\\begin{matrix}a_{11} & a_{12} & a_{13} & a_{14}\\\\a_{21} & a_{22} & a_{23} & a_{24}\\end{matrix}\\right]$"
      ],
      "text/plain": [
       "⎡a₁₁  a₁₂  a₁₃  a₁₄⎤\n",
       "⎢                  ⎥\n",
       "⎣a₂₁  a₂₂  a₂₃  a₂₄⎦"
      ]
     },
     "execution_count": 8,
     "metadata": {},
     "output_type": "execute_result"
    }
   ],
   "source": [
    "A = Matrix([[a11, a12, a13, a14], [a21, a22, a23, a24]])\n",
    "A"
   ]
  },
  {
   "cell_type": "code",
   "execution_count": 9,
   "metadata": {},
   "outputs": [
    {
     "data": {
      "text/latex": [
       "$\\displaystyle \\left[\\begin{matrix}a_{11} & a_{21}\\\\a_{12} & a_{22}\\\\a_{13} & a_{23}\\\\a_{14} & a_{24}\\end{matrix}\\right]$"
      ],
      "text/plain": [
       "⎡a₁₁  a₂₁⎤\n",
       "⎢        ⎥\n",
       "⎢a₁₂  a₂₂⎥\n",
       "⎢        ⎥\n",
       "⎢a₁₃  a₂₃⎥\n",
       "⎢        ⎥\n",
       "⎣a₁₄  a₂₄⎦"
      ]
     },
     "execution_count": 9,
     "metadata": {},
     "output_type": "execute_result"
    }
   ],
   "source": [
    "A.transpose()"
   ]
  },
  {
   "cell_type": "markdown",
   "metadata": {},
   "source": [
    "This means that a matrix of size $m \\times n$ becomes a matrix of size $n \\times m$ after transposing it."
   ]
  },
  {
   "cell_type": "markdown",
   "metadata": {},
   "source": [
    "Multiplying a matrix by its transpose results in a symmetric matrix (detail in the next section)."
   ]
  },
  {
   "cell_type": "code",
   "execution_count": 10,
   "metadata": {},
   "outputs": [
    {
     "data": {
      "text/latex": [
       "$\\displaystyle \\left[\\begin{matrix}a_{11}^{2} + a_{12}^{2} + a_{13}^{2} + a_{14}^{2} & a_{11} a_{21} + a_{12} a_{22} + a_{13} a_{23} + a_{14} a_{24}\\\\a_{11} a_{21} + a_{12} a_{22} + a_{13} a_{23} + a_{14} a_{24} & a_{21}^{2} + a_{22}^{2} + a_{23}^{2} + a_{24}^{2}\\end{matrix}\\right]$"
      ],
      "text/plain": [
       "⎡         2      2      2      2                                             ⎤\n",
       "⎢      a₁₁  + a₁₂  + a₁₃  + a₁₄         a₁₁⋅a₂₁ + a₁₂⋅a₂₂ + a₁₃⋅a₂₃ + a₁₄⋅a₂₄⎥\n",
       "⎢                                                                            ⎥\n",
       "⎢                                                2      2      2      2      ⎥\n",
       "⎣a₁₁⋅a₂₁ + a₁₂⋅a₂₂ + a₁₃⋅a₂₃ + a₁₄⋅a₂₄        a₂₁  + a₂₂  + a₂₃  + a₂₄       ⎦"
      ]
     },
     "execution_count": 10,
     "metadata": {},
     "output_type": "execute_result"
    }
   ],
   "source": [
    "A * A.transpose()"
   ]
  },
  {
   "cell_type": "markdown",
   "metadata": {},
   "source": [
    "## Symmetric matrices"
   ]
  },
  {
   "cell_type": "markdown",
   "metadata": {},
   "source": [
    "A symmetric matrix is a square matrix with elements opposite the main diagonal all equal to each other."
   ]
  },
  {
   "cell_type": "markdown",
   "metadata": {},
   "source": [
    "Here is an example with integers as elements.  Note the values across from each other along the main diagonal, i.e. the $29$ and the $29$, the $15$ and the $15$, then the $43,16$ and $16,43$ and so on."
   ]
  },
  {
   "cell_type": "code",
   "execution_count": 11,
   "metadata": {},
   "outputs": [
    {
     "data": {
      "text/latex": [
       "$\\displaystyle \\left[\\begin{matrix}35 & 29 & 15 & 43\\\\29 & 29 & 16 & 42\\\\15 & 16 & 9 & 23\\\\43 & 42 & 23 & 61\\end{matrix}\\right]$"
      ],
      "text/plain": [
       "⎡35  29  15  43⎤\n",
       "⎢              ⎥\n",
       "⎢29  29  16  42⎥\n",
       "⎢              ⎥\n",
       "⎢15  16  9   23⎥\n",
       "⎢              ⎥\n",
       "⎣43  42  23  61⎦"
      ]
     },
     "execution_count": 11,
     "metadata": {},
     "output_type": "execute_result"
    }
   ],
   "source": [
    "B = Matrix([[1, 5, 3], [3, 4, 2], [2, 2, 1], [4, 6, 3]])\n",
    "S = B * B.transpose()\n",
    "S"
   ]
  },
  {
   "cell_type": "markdown",
   "metadata": {},
   "source": [
    "Symmetric matrices are equal to their inverses."
   ]
  },
  {
   "cell_type": "code",
   "execution_count": 12,
   "metadata": {},
   "outputs": [
    {
     "data": {
      "text/plain": [
       "True"
      ]
     },
     "execution_count": 12,
     "metadata": {},
     "output_type": "execute_result"
    }
   ],
   "source": [
    "S == S.transpose()"
   ]
  },
  {
   "cell_type": "markdown",
   "metadata": {},
   "source": [
    "## Vector spaces"
   ]
  },
  {
   "cell_type": "markdown",
   "metadata": {},
   "source": [
    "A vector space consists of a set of vectors with useful properties.  Think of the common $\\mathbb{R}^2$.  Every point $\\left( a,b \\right) \\in \\mathbb{R}$ is a vector.  We can fill all (reach all of the points) of $\\mathbb{R}$ with an infinite set of vectors.  Note that these vector spaces also include the zero vector $\\mathbf{0}$."
   ]
  },
  {
   "cell_type": "markdown",
   "metadata": {},
   "source": [
    "When considering the familiar vector space $\\mathbb{R}^2$ it is clear to see that we can take a subset of the vectors space and through linear combinations of the, fill all of the space.  Think of the two vectors $\\left(1,0\\right)$ and $\\left(0,1\\right)$  These are the two vectors, each of length $1$ and respectively along the $x$ and $y$ axes.  A constant multiple of each, added together (what we call a linear combination) will fill the vector space."
   ]
  },
  {
   "cell_type": "markdown",
   "metadata": {},
   "source": [
    "These two vectors in our example are then called _basis vectors_ and we say that they _span_ the vector space."
   ]
  },
  {
   "cell_type": "markdown",
   "metadata": {},
   "source": [
    "Most texts denote a vector space as $V$.  Basis vectors in $V$ allow us to use scalar multiplication and addition which are then closed operations, that is, the result is still an element of the vector space."
   ]
  },
  {
   "cell_type": "markdown",
   "metadata": {},
   "source": [
    "### A subspace"
   ]
  },
  {
   "cell_type": "markdown",
   "metadata": {},
   "source": [
    "A subspace is a subset of a vector space.  It must still allow for the closure property mentioned above.  This means that one of the quadrants of $V=\\mathbb{R}^2$ cannot be a vector subspace.  Scalar multiplication and vector addition can result in a vector that is not in that quadrant."
   ]
  },
  {
   "cell_type": "markdown",
   "metadata": {},
   "source": [
    "It is important to note that the zero vector is a subspace, trivial though it may be.  In fact, all vector subspaces must contain the zero vector.  The other trivial subspace of a vector space, $V$, is $V$ itself."
   ]
  },
  {
   "cell_type": "markdown",
   "metadata": {},
   "source": [
    "Another example of a subspace in $\\mathbb{R}^2$ is a line through the origin.  Addition of any vectors on that line or a scalar multiple of any such vectors results in a vector that will still be on that line (closure)."
   ]
  },
  {
   "cell_type": "markdown",
   "metadata": {},
   "source": [
    "In $\\mathbb{R}^3$, the zero vector, a line through the origin, and a plane through the origin are all vector subspaces."
   ]
  },
  {
   "cell_type": "markdown",
   "metadata": {},
   "source": [
    "## Column spaces of matrices"
   ]
  },
  {
   "cell_type": "markdown",
   "metadata": {},
   "source": [
    "The idea of the column space of a matrix is one that we have seen before.  It is a very important way to consider a matrix.  Here we see each column in a matrix as a vector.  In (1) below, we depict $ A \\mathbf{x}$."
   ]
  },
  {
   "cell_type": "markdown",
   "metadata": {},
   "source": [
    "$$\\begin{bmatrix}a_{11} & a_{12} & a_{13} \\\\ a_{21} & a_{22} & a_{23} \\\\ a_{31} & a_{32} & a_{33} \\end{bmatrix} \\begin{bmatrix} x_1 \\\\ x_2 \\\\ x_3 \\end{bmatrix}  \\tag{1}$$"
   ]
  },
  {
   "cell_type": "markdown",
   "metadata": {},
   "source": [
    "We can rewrite this as in (2)."
   ]
  },
  {
   "cell_type": "markdown",
   "metadata": {},
   "source": [
    "$$x_1 \\begin{bmatrix} a_{11} \\\\ a_{21} \\\\ a_{31} \\end{bmatrix} + x_2 \\begin{bmatrix} a_{12} \\\\ a_{22} \\\\ a_{32} \\end{bmatrix} + x_3 \\begin{bmatrix} a_{13} \\\\ a_{23} \\\\ a_{33} \\end{bmatrix}\\tag{2}$$"
   ]
  },
  {
   "cell_type": "markdown",
   "metadata": {},
   "source": [
    "This flows naturally when you consider that $A \\mathbf{x}$ as a linear set of three equations written in matrix form, i.e. we started as in (3) and cerated the matrix of coefficients $A$ and the column vector $\\mathbf{x}$."
   ]
  },
  {
   "cell_type": "markdown",
   "metadata": {},
   "source": [
    "$$a_{11}x_1 + a_{12}x_2 + a_{13}x_3 \\\\ a_{21}x_1 + a_{22}x_2 + a_{23}x_3 \\\\ a_{31}x_1 + a_{32}x_2 + a_{33}x_3 \\tag{3}$$"
   ]
  },
  {
   "cell_type": "markdown",
   "metadata": {},
   "source": [
    "Giving this linear system a right-hand side, as in (4), we create another column vector, $\\mathbf{b}$."
   ]
  },
  {
   "cell_type": "markdown",
   "metadata": {},
   "source": [
    "$$a_{11}x_1 + a_{12}x_2 + a_{13}x_3 = b_1 \\\\ a_{21}x_1 + a_{22}x_2 + a_{23}x_3 = b_2 \\\\ a_{31}x_1 + a_{32}x_2 + a_{33}x_3 = b_3 \\tag{4}$$"
   ]
  },
  {
   "cell_type": "markdown",
   "metadata": {},
   "source": [
    "In matrix notation we take (2) and end with (5) below."
   ]
  },
  {
   "cell_type": "markdown",
   "metadata": {},
   "source": [
    "$$x_1 \\begin{bmatrix} a_{11} \\\\ a_{21} \\\\ a_{31} \\end{bmatrix} + x_2 \\begin{bmatrix} a_{12} \\\\ a_{22} \\\\ a_{32} \\end{bmatrix} + x_3 \\begin{bmatrix} a_{13} \\\\ a_{23} \\\\ a_{33} \\end{bmatrix} = \\begin{bmatrix} b_1 \\\\ b_2 \\\\ b_3 \\end{bmatrix}\\tag{5}$$"
   ]
  },
  {
   "cell_type": "markdown",
   "metadata": {},
   "source": [
    "We now see that we put constraints on $\\mathbf{b}$.  If we view the problem as a linear combination of the three column vectors that make up $A$, we have that they are three vectors in a vector space and that $\\mathbf{b}$ must be another vector in that vector space."
   ]
  },
  {
   "cell_type": "code",
   "execution_count": null,
   "metadata": {},
   "outputs": [],
   "source": []
  }
 ],
 "metadata": {
  "kernelspec": {
   "display_name": "ai-portfolio",
   "language": "python",
   "name": "python3"
  },
  "language_info": {
   "codemirror_mode": {
    "name": "ipython",
    "version": 3
   },
   "file_extension": ".py",
   "mimetype": "text/x-python",
   "name": "python",
   "nbconvert_exporter": "python",
   "pygments_lexer": "ipython3",
   "version": "3.11.13"
  }
 },
 "nbformat": 4,
 "nbformat_minor": 1
}
