{
 "cells": [
  {
   "cell_type": "code",
   "execution_count": 1,
   "metadata": {
    "collapsed": false
   },
   "outputs": [],
   "source": [
    "from sympy import init_printing, symbols, Matrix\n",
    "from warnings import filterwarnings"
   ]
  },
  {
   "cell_type": "code",
   "execution_count": 2,
   "metadata": {
    "collapsed": false
   },
   "outputs": [],
   "source": [
    "init_printing(use_latex=\"mathjax\")\n",
    "filterwarnings(\"ignore\")"
   ]
  },
  {
   "cell_type": "markdown",
   "metadata": {},
   "source": [
    "# Exam review"
   ]
  },
  {
   "cell_type": "markdown",
   "metadata": {},
   "source": [
    "### Question 1"
   ]
  },
  {
   "cell_type": "markdown",
   "metadata": {},
   "source": [
    "* Consider three non-zero vectors in &#8477;<sup>7</sup>\n",
    "    * What is the dimension of the subspace that they can span?"
   ]
  },
  {
   "cell_type": "markdown",
   "metadata": {},
   "source": [
    "#### Solution 1"
   ]
  },
  {
   "cell_type": "markdown",
   "metadata": {},
   "source": [
    "* One, two, or three\n",
    "* They can't span a subspace of higher dimension as there are only three vectors\n",
    "* Zero cannot be an answer, because they are all non-zero vectors"
   ]
  },
  {
   "cell_type": "markdown",
   "metadata": {},
   "source": [
    "### Question 2"
   ]
  },
  {
   "cell_type": "markdown",
   "metadata": {},
   "source": [
    "* Part 1 \n",
    "    * Consider a 5&#215;3 matrix in echelon form with three pivots\n",
    "        * What's the nullspace\n",
    "*  Part 2 \n",
    "    * Consider a 10&#215;3 matrix of form the form below and calculate its rank and echelon form\n",
    "$$ \\begin{bmatrix} R \\\\ 2R \\end{bmatrix} $$\n",
    "* Part 3\n",
    "    * Give the row-reduced form of the matrix\n",
    "$$ \\begin{bmatrix} U & U \\\\ U & 0 \\end{bmatrix} $$"
   ]
  },
  {
   "cell_type": "markdown",
   "metadata": {},
   "source": [
    "#### Solution 2"
   ]
  },
  {
   "cell_type": "markdown",
   "metadata": {},
   "source": [
    "* Part 1\n",
    "    * The nullspace can only be the zero vector\n",
    "$$ \\begin{bmatrix} 0 \\\\ 0 \\\\ 0 \\end{bmatrix} $$\n",
    "    * With three columns all with pivots, we have *n* - *r* = 3 - 3 = 0"
   ]
  },
  {
   "cell_type": "markdown",
   "metadata": {},
   "source": [
    "* Part 2\n",
    "    * Row reduction will take us to\n",
    "$$ \\begin{bmatrix} R \\\\ 0 \\end{bmatrix} $$"
   ]
  },
  {
   "cell_type": "markdown",
   "metadata": {},
   "source": [
    "* Part 3\n",
    "$$ \\begin{bmatrix} U & U \\\\ 0 & -U \\end{bmatrix} $$\n",
    "    * In reduced row echelon form\n",
    "$$ \\begin{bmatrix} U & 0 \\\\ 0 & U \\end{bmatrix} $$"
   ]
  },
  {
   "cell_type": "markdown",
   "metadata": {},
   "source": [
    "### Question 3"
   ]
  },
  {
   "cell_type": "markdown",
   "metadata": {},
   "source": [
    "* Consider\n",
    "$$ {A} \\overline {x} = \\begin{bmatrix} 2 \\\\ 4 \\\\ 2 \\end{bmatrix} $$\n",
    "* With\n",
    "$$ {x} = \\begin{bmatrix} 2 \\\\ 0 \\\\ 0 \\end{bmatrix} + {c}\\begin{bmatrix} 1 \\\\ 1 \\\\ 0 \\end{bmatrix} + {d}\\begin{bmatrix} 0 \\\\ 0 \\\\ 1 \\end{bmatrix} $$\n",
    "* Part 1\n",
    "    * What is the dimension of the rowspace of A and the nullspace of A\n",
    "* Part 2\n",
    "    * For what values of **b** can A**x** = **b** be solved?"
   ]
  },
  {
   "cell_type": "markdown",
   "metadata": {},
   "source": [
    "#### Solution 3"
   ]
  },
  {
   "cell_type": "markdown",
   "metadata": {},
   "source": [
    "* Part 1\n",
    "    * Well, the size of the matrix must be 3&#215;3\n",
    "    * The dimension of the nullspace is 2 (because two non-pivot columns)\n",
    "    * With *n* - *r* = 2, we have *r* = 1, which must hold for the rowspace of A\n",
    "* Part 2\n",
    "    * Looking only at the particular solution we must have\n",
    "$$ 2\\begin{bmatrix} { a }_{ 11 } \\\\ { a }_{ 21 } \\\\ { a }_{ 31 } \\end{bmatrix}=\\begin{bmatrix} 2 \\\\ 4 \\\\ 2 \\end{bmatrix}\\\\ \\therefore \\quad \\begin{bmatrix} { a }_{ 11 } \\\\ { a }_{ 21 } \\\\ { a }_{ 31 } \\end{bmatrix}\\quad =\\quad \\begin{bmatrix} 1 \\\\ 2 \\\\ 1 \\end{bmatrix}\\\\ \\therefore \\quad \\begin{bmatrix} { a }_{ 11 } & { a }_{ 12 } & { a }_{ 13 } \\\\ { a }_{ 21 } & { a }_{ 22 } & { a }_{ 23 } \\\\ { a }_{ 31 } & { a }_{ 32 } & { a }_{ 33 } \\end{bmatrix}=\\begin{bmatrix} 1 & -1 & 0 \\\\ 2 & -2 & 0 \\\\ 1 & -1 & 0 \\end{bmatrix} $$\n",
    "* So, how did I get the last two columns?\n",
    "    * Well, they cannot be independent of the first column and the last column must have all zeros to set up the first variable solution fr *x*<sub>3</sub>, i.e. *x*<sub>3</sub> = *d*\n",
    "    * Adding column 2 to column 1 to get all zeros must result in what you seen for column 2"
   ]
  },
  {
   "cell_type": "code",
   "execution_count": 3,
   "metadata": {
    "collapsed": false
   },
   "outputs": [
    {
     "name": "stdout",
     "output_type": "stream",
     "text": [
      "The history saving thread hit an unexpected error (OperationalError('attempt to write a readonly database')).History will not be written to the database.\n"
     ]
    },
    {
     "data": {
      "text/latex": [
       "$\\displaystyle \\left[\\begin{matrix}2\\\\4\\\\2\\end{matrix}\\right]$"
      ],
      "text/plain": [
       "⎡2⎤\n",
       "⎢ ⎥\n",
       "⎢4⎥\n",
       "⎢ ⎥\n",
       "⎣2⎦"
      ]
     },
     "execution_count": 3,
     "metadata": {},
     "output_type": "execute_result"
    }
   ],
   "source": [
    "A = Matrix([[1, -1, 0], [2, -2, 0], [1, -1, 0]])\n",
    "x_vect = Matrix([2, 0, 0])\n",
    "x_vect_null_1 = Matrix([1, 1, 0])\n",
    "x_vect_null_2 = Matrix([0, 0, 1])\n",
    "A * x_vect + A * x_vect_null_1 + A * x_vect_null_2"
   ]
  },
  {
   "cell_type": "code",
   "execution_count": 4,
   "metadata": {
    "collapsed": false
   },
   "outputs": [
    {
     "data": {
      "text/latex": [
       "$\\displaystyle \\left[ \\left[\\begin{matrix}1\\\\1\\\\0\\end{matrix}\\right], \\  \\left[\\begin{matrix}0\\\\0\\\\1\\end{matrix}\\right]\\right]$"
      ],
      "text/plain": [
       "⎡⎡1⎤  ⎡0⎤⎤\n",
       "⎢⎢ ⎥  ⎢ ⎥⎥\n",
       "⎢⎢1⎥, ⎢0⎥⎥\n",
       "⎢⎢ ⎥  ⎢ ⎥⎥\n",
       "⎣⎣0⎦  ⎣1⎦⎦"
      ]
     },
     "execution_count": 4,
     "metadata": {},
     "output_type": "execute_result"
    }
   ],
   "source": [
    "A.nullspace()"
   ]
  },
  {
   "cell_type": "markdown",
   "metadata": {},
   "source": [
    "* It can only be solve for scalar multiples of\n",
    "$$ \\begin{bmatrix} 1 \\\\ 2 \\\\ 1 \\end{bmatrix} $$"
   ]
  },
  {
   "cell_type": "markdown",
   "metadata": {},
   "source": [
    "### Question and solution 4"
   ]
  },
  {
   "cell_type": "markdown",
   "metadata": {},
   "source": [
    "* If the nullspace of a square matrix is the zero vector only, does the nullspace of the transpose also only contain the zero vector\n",
    "    * Yes"
   ]
  },
  {
   "cell_type": "markdown",
   "metadata": {},
   "source": [
    "* Consider the matrix space of all 5&#215;5 matrices; do the invertible 5&#215;5 matrices form a subspace\n",
    "    * No, as the set of invertible matrices would not contain the zero matrix\n",
    "    * Also if I add two invertible matrices, I don't know if the resultant matrix is invertible\n",
    "    * The singular ones won't work either as adding two we also don't know if the resultant matrix is invertible"
   ]
  },
  {
   "cell_type": "markdown",
   "metadata": {},
   "source": [
    "* If B<sup>2</sup> = **0**, is B = **0**?\n",
    "    * No, i.e\n",
    "$$ {B} = \\begin{bmatrix} 0 & 1 \\\\ 0 & 0 \\end{bmatrix} $$"
   ]
  },
  {
   "cell_type": "code",
   "execution_count": 5,
   "metadata": {
    "collapsed": false
   },
   "outputs": [
    {
     "data": {
      "text/latex": [
       "$\\displaystyle \\left[\\begin{matrix}0 & 0\\\\0 & 0\\end{matrix}\\right]$"
      ],
      "text/plain": [
       "⎡0  0⎤\n",
       "⎢    ⎥\n",
       "⎣0  0⎦"
      ]
     },
     "execution_count": 5,
     "metadata": {},
     "output_type": "execute_result"
    }
   ],
   "source": [
    "B = Matrix([[0, 1], [0, 0]])\n",
    "B**2  # Could also use B * B"
   ]
  },
  {
   "cell_type": "code",
   "execution_count": 6,
   "metadata": {
    "collapsed": false
   },
   "outputs": [
    {
     "data": {
      "text/plain": [
       "False"
      ]
     },
     "execution_count": 6,
     "metadata": {},
     "output_type": "execute_result"
    }
   ],
   "source": [
    "B == B * B  # Checking by Boolean statement"
   ]
  },
  {
   "cell_type": "markdown",
   "metadata": {},
   "source": [
    "* A system of *n* unknowns in *n* equations is solvable for every **b** if the columns of the matrix of coefficients are independent?\n",
    "    * Yes"
   ]
  },
  {
   "cell_type": "markdown",
   "metadata": {},
   "source": [
    "### Question 5"
   ]
  },
  {
   "cell_type": "markdown",
   "metadata": {},
   "source": [
    "$$ B=\\begin{bmatrix} 1 & 1 & 0 \\\\ 0 & 1 & 0 \\\\ 1 & 0 & 1 \\end{bmatrix}\\begin{bmatrix} 1 & 0 & -1 & 2 \\\\ 0 & 1 & 1 & -1 \\\\ 0 & 0 & 0 & 0 \\end{bmatrix} $$\n",
    "* Calculate the basis of the nullspace of B"
   ]
  },
  {
   "cell_type": "markdown",
   "metadata": {},
   "source": [
    "#### Solution 5"
   ]
  },
  {
   "cell_type": "markdown",
   "metadata": {},
   "source": [
    "* B will have to be a 3&#215;4 matrix\n",
    "* The last row will be all zeros"
   ]
  },
  {
   "cell_type": "code",
   "execution_count": 7,
   "metadata": {
    "collapsed": false
   },
   "outputs": [
    {
     "data": {
      "text/latex": [
       "$\\displaystyle \\left( \\left[\\begin{matrix}1 & 1 & 0\\\\0 & 1 & 0\\\\1 & 0 & 1\\end{matrix}\\right], \\  \\left[\\begin{matrix}1 & 0 & -1 & 2\\\\0 & 1 & 1 & -1\\\\0 & 0 & 0 & 0\\end{matrix}\\right]\\right)$"
      ],
      "text/plain": [
       "⎛⎡1  1  0⎤  ⎡1  0  -1  2 ⎤⎞\n",
       "⎜⎢       ⎥  ⎢            ⎥⎟\n",
       "⎜⎢0  1  0⎥, ⎢0  1  1   -1⎥⎟\n",
       "⎜⎢       ⎥  ⎢            ⎥⎟\n",
       "⎝⎣1  0  1⎦  ⎣0  0  0   0 ⎦⎠"
      ]
     },
     "execution_count": 7,
     "metadata": {},
     "output_type": "execute_result"
    }
   ],
   "source": [
    "B1 = Matrix([[1, 1, 0], [0, 1, 0], [1, 0, 1]])\n",
    "B2 = Matrix([[1, 0, -1, 2], [0, 1, 1, -1], [0, 0, 0, 0]])\n",
    "B1, B2"
   ]
  },
  {
   "cell_type": "markdown",
   "metadata": {},
   "source": [
    "* It is important to note that of we multiply an invertible matrix by another matrix (assuming multiplication is possible by the shape of the matrices), then the invertible one (B1 above), plays no part in the nullspace\n",
    "    * N(CD) = N(D) if C is invertible\n",
    "* We therefor only have to look at B2\n",
    "* It has 2 pivot columns, i.e. rank is *r* = 2\n",
    "* It will therefor have 2 independent variables, making the nullspace 2-dimensional"
   ]
  },
  {
   "cell_type": "code",
   "execution_count": 8,
   "metadata": {
    "collapsed": false
   },
   "outputs": [
    {
     "data": {
      "text/latex": [
       "$\\displaystyle \\left[ \\left[\\begin{matrix}1\\\\-1\\\\1\\\\0\\end{matrix}\\right], \\  \\left[\\begin{matrix}-2\\\\1\\\\0\\\\1\\end{matrix}\\right]\\right]$"
      ],
      "text/plain": [
       "⎡⎡1 ⎤  ⎡-2⎤⎤\n",
       "⎢⎢  ⎥  ⎢  ⎥⎥\n",
       "⎢⎢-1⎥  ⎢1 ⎥⎥\n",
       "⎢⎢  ⎥, ⎢  ⎥⎥\n",
       "⎢⎢1 ⎥  ⎢0 ⎥⎥\n",
       "⎢⎢  ⎥  ⎢  ⎥⎥\n",
       "⎣⎣0 ⎦  ⎣1 ⎦⎦"
      ]
     },
     "execution_count": 8,
     "metadata": {},
     "output_type": "execute_result"
    }
   ],
   "source": [
    "B = B1 * B2\n",
    "B.nullspace()"
   ]
  },
  {
   "cell_type": "code",
   "execution_count": null,
   "metadata": {
    "collapsed": false
   },
   "outputs": [],
   "source": []
  }
 ],
 "metadata": {
  "kernelspec": {
   "display_name": "ai-portfolio",
   "language": "python",
   "name": "python3"
  },
  "language_info": {
   "codemirror_mode": {
    "name": "ipython",
    "version": 3
   },
   "file_extension": ".py",
   "mimetype": "text/x-python",
   "name": "python",
   "nbconvert_exporter": "python",
   "pygments_lexer": "ipython3",
   "version": "3.11.13"
  }
 },
 "nbformat": 4,
 "nbformat_minor": 0
}
