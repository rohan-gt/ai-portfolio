{
 "cells": [
  {
   "cell_type": "code",
   "execution_count": 1,
   "metadata": {},
   "outputs": [],
   "source": [
    "from sympy import init_printing, Matrix, symbols\n",
    "\n",
    "init_printing()"
   ]
  },
  {
   "cell_type": "markdown",
   "metadata": {},
   "source": [
    "# Solving $A\\mathbf{x}=\\mathbf{b}$"
   ]
  },
  {
   "cell_type": "markdown",
   "metadata": {},
   "source": [
    "## Finding the complete solution to the set for in a linear system"
   ]
  },
  {
   "cell_type": "markdown",
   "metadata": {},
   "source": [
    "In this section, we focus on the row view of matrices in order to solve systems of linear equations.  Our aim to to find possible solutions for $\\mathbf{x}$.  Consider the example in (1), taken from the previous lecture."
   ]
  },
  {
   "cell_type": "markdown",
   "metadata": {},
   "source": [
    "$$\\begin{align}&{x_1}+2{x}_{2}+2{x}_{3}+2{x}_{4}={b}_{1}\\\\&2{x}_{1}+4{x}_{2}+6{x}_{3}+8{x}_{4}={b}_{2}\\\\&3{x_1}+6{x}_{2}+8{x}_{3}+10{x}_{4}={b}_{3}\\end{align}\\tag{1}$$"
   ]
  },
  {
   "cell_type": "markdown",
   "metadata": {},
   "source": [
    "The matrix of coefficients and vectors are shown in (2)."
   ]
  },
  {
   "cell_type": "markdown",
   "metadata": {},
   "source": [
    "$$\\begin{bmatrix}1&2&2&2\\\\2&4&6&8\\\\3&6&8&10\\end{bmatrix}\\begin{bmatrix}{x}_{1}\\\\{x}_{2}\\\\{x}_{3}\\\\{x}_{4}\\end{bmatrix}=\\begin{bmatrix}{b}_{1}\\\\{b}_{2}\\\\{b}_{3}\\end{bmatrix}\\tag{2}$$"
   ]
  },
  {
   "cell_type": "markdown",
   "metadata": {},
   "source": [
    "Multiplying the matrix of coefficients and the column vector of unknowns is shown in (3), indication that we are adding scalar multiples of vectors."
   ]
  },
  {
   "cell_type": "markdown",
   "metadata": {},
   "source": [
    "$${x}_{1}\\begin{bmatrix}1\\\\2\\\\3\\end{bmatrix}+{x}_{2}\\begin{bmatrix}2\\\\4\\\\6\\end{bmatrix}+{x}_{3}\\begin{bmatrix}2\\\\6\\\\8\\end{bmatrix}+{x}_{4}\\begin{bmatrix}2\\\\8\\\\10\\end{bmatrix}=\\begin{bmatrix}{b}_{1}\\\\{b}_{2}\\\\{b}_{3}\\end{bmatrix}\\tag{4}$$"
   ]
  },
  {
   "cell_type": "markdown",
   "metadata": {},
   "source": [
    "Since the third row is the addition of ($1\\times$) row one and ($1\\times$) row two, solutions on the right-hand side must be of the form shown in (5)."
   ]
  },
  {
   "cell_type": "markdown",
   "metadata": {},
   "source": [
    "$${b}_{3}={b}_{1}+{b}_{2}\\tag{5}$$"
   ]
  },
  {
   "cell_type": "markdown",
   "metadata": {},
   "source": [
    "The question now is: _What values can $\\mathbf{x}$ possibly take?_"
   ]
  },
  {
   "cell_type": "markdown",
   "metadata": {},
   "source": [
    "From what we have seen up until now, $A\\mathbf{x}=\\mathbf{b}$ is solvable (exactly) when $\\mathbf{b}$ is in the column space of $A$, that is to say, it must be a linear combination of the columns."
   ]
  },
  {
   "cell_type": "markdown",
   "metadata": {},
   "source": [
    "We need to find two solutions, one called the _particular_ and one the _nullspace_ solution."
   ]
  },
  {
   "cell_type": "markdown",
   "metadata": {},
   "source": [
    "### The particular solution: $\\mathbf{x}_\\text{particular}$"
   ]
  },
  {
   "cell_type": "markdown",
   "metadata": {},
   "source": [
    "A particular solution is one that solves a specific case for $\\mathbf{b}$.  Consider the reduced row-echelon form of the matrix of coefficients, $A$."
   ]
  },
  {
   "cell_type": "code",
   "execution_count": 2,
   "metadata": {},
   "outputs": [
    {
     "ename": "NameError",
     "evalue": "name 'A' is not defined",
     "output_type": "error",
     "traceback": [
      "\u001b[31m---------------------------------------------------------------------------\u001b[39m",
      "\u001b[31mNameError\u001b[39m                                 Traceback (most recent call last)",
      "\u001b[36mCell\u001b[39m\u001b[36m \u001b[39m\u001b[32mIn[2]\u001b[39m\u001b[32m, line 1\u001b[39m\n\u001b[32m----> \u001b[39m\u001b[32m1\u001b[39m \u001b[43mA\u001b[49m.rref()\n",
      "\u001b[31mNameError\u001b[39m: name 'A' is not defined"
     ]
    }
   ],
   "source": [
    "A.rref()"
   ]
  },
  {
   "cell_type": "markdown",
   "metadata": {},
   "source": [
    "Note that columns $2$ and $4$ have zero values as their respective pivots."
   ]
  },
  {
   "cell_type": "markdown",
   "metadata": {},
   "source": [
    "To find $\\mathbf{x}_\\text{particular}$ or $\\mathbf{x}_\\text{p}$, we set all free variables to $0$ (in this example case that would be ${x_2}={x_4}=0$, since these are _columns without pivots_).  Then we solve $A\\mathbf{x}=\\mathbf{b}$ for the pivot variables."
   ]
  },
  {
   "cell_type": "markdown",
   "metadata": {},
   "source": [
    "Let's see that in action and calculate $\\mathbf{x}_\\text{p}$ for (6)."
   ]
  },
  {
   "cell_type": "markdown",
   "metadata": {},
   "source": [
    "$$\\mathbf{b} =\\begin{bmatrix}1\\\\5\\\\6\\end{bmatrix}\\tag{6}$$"
   ]
  },
  {
   "cell_type": "markdown",
   "metadata": {},
   "source": [
    "The equation (6) above is a proper solution as $1+5=6$ in accordance with (5)."
   ]
  },
  {
   "cell_type": "markdown",
   "metadata": {},
   "source": [
    "Below, we create an augmented matrix (that is one with $\\mathbf{b}$ included)."
   ]
  },
  {
   "cell_type": "code",
   "execution_count": null,
   "metadata": {},
   "outputs": [
    {
     "data": {
      "image/png": "[encoded data removed]",
      "text/latex": [
       "$$\\left[\\begin{matrix}1 & 2 & 2 & 2 & 1\\\\2 & 4 & 6 & 8 & 5\\\\3 & 6 & 8 & 10 & 6\\end{matrix}\\right]$$"
      ],
      "text/plain": [
       "⎡1  2  2  2   1⎤\n",
       "⎢              ⎥\n",
       "⎢2  4  6  8   5⎥\n",
       "⎢              ⎥\n",
       "⎣3  6  8  10  6⎦"
      ]
     },
     "execution_count": 10,
     "metadata": {},
     "output_type": "execute_result"
    }
   ],
   "source": [
    "A_augm = Matrix([[1, 2, 2, 2, 1], [2, 4, 6, 8, 5], [3, 6, 8, 10, 6]])\n",
    "A_augm"
   ]
  },
  {
   "cell_type": "markdown",
   "metadata": {},
   "source": [
    "We can reduce this to reduced row-echelon form using the `.rref()` method."
   ]
  },
  {
   "cell_type": "code",
   "execution_count": null,
   "metadata": {},
   "outputs": [
    {
     "data": {
      "image/png": "[encoded data removed]",
      "text/latex": [
       "$$\\left ( \\left[\\begin{matrix}1 & 2 & 0 & -2 & -2\\\\0 & 0 & 1 & 2 & \\frac{3}{2}\\\\0 & 0 & 0 & 0 & 0\\end{matrix}\\right], \\quad \\left ( 0, \\quad 2\\right )\\right )$$"
      ],
      "text/plain": [
       "⎛⎡1  2  0  -2  -2 ⎤        ⎞\n",
       "⎜⎢                ⎥        ⎟\n",
       "⎜⎢0  0  1  2   3/2⎥, (0, 2)⎟\n",
       "⎜⎢                ⎥        ⎟\n",
       "⎝⎣0  0  0  0    0 ⎦        ⎠"
      ]
     },
     "execution_count": 13,
     "metadata": {},
     "output_type": "execute_result"
    }
   ],
   "source": [
    "A_augm.rref()  # The video example is not solved to reduced row echelon form"
   ]
  },
  {
   "cell_type": "markdown",
   "metadata": {},
   "source": [
    "So, we are left with a new matrix (called `A1` below) that omits columns $2$ and $4$."
   ]
  },
  {
   "cell_type": "code",
   "execution_count": null,
   "metadata": {},
   "outputs": [
    {
     "data": {
      "image/png": "[encoded data removed]",
      "text/latex": [
       "$$\\left[\\begin{matrix}1 & 0 & -2\\\\0 & 1 & 1.5\\\\0 & 0 & 0\\end{matrix}\\right]$$"
      ],
      "text/plain": [
       "⎡1  0  -2 ⎤\n",
       "⎢         ⎥\n",
       "⎢0  1  1.5⎥\n",
       "⎢         ⎥\n",
       "⎣0  0   0 ⎦"
      ]
     },
     "execution_count": 14,
     "metadata": {},
     "output_type": "execute_result"
    }
   ],
   "source": [
    "A1 = Matrix(\n",
    "    [[1, 0, -2], [0, 1, (3 / 2)], [0, 0, 0]]\n",
    ")  # The video example is not solved to reduced row echelon form\n",
    "A1"
   ]
  },
  {
   "cell_type": "markdown",
   "metadata": {},
   "source": [
    "From the last row in the reduced row-echelon form, we note that we can set $x_4$ to any value.  We have already set is to $0$, though.  From the second last row, we can read that $1{x_3}+{x_4}=\\frac{3}{2}$, or then, ${x_3}=\\frac{3}{2}$.  Knowing that ${x_2}=0$, we read from the first row that $1{x_1}+2{x_2}+0{x_3}-2{x_4}={x_1}=-2$ as shown in (7)."
   ]
  },
  {
   "cell_type": "markdown",
   "metadata": {},
   "source": [
    "$$\\begin{align}&x_4=0\\\\&{x_3}=\\frac{3}{2}\\\\&{x_1}=-2\\end{align}\\tag{7}$$"
   ]
  },
  {
   "cell_type": "markdown",
   "metadata": {},
   "source": [
    "Thus, for $\\mathbf{x}_\\text{p}$ we have (8)."
   ]
  },
  {
   "cell_type": "markdown",
   "metadata": {},
   "source": [
    "$$\\mathbf{x}_\\text{p}=\\begin{bmatrix}-2\\\\0\\\\{\\frac{3}{2}}\\\\0\\end{bmatrix}\\tag{8}$$"
   ]
  },
  {
   "cell_type": "markdown",
   "metadata": {},
   "source": [
    "### The nullspace solution: $\\mathbf{x}_\\text{nullspace}$"
   ]
  },
  {
   "cell_type": "markdown",
   "metadata": {},
   "source": [
    "Here we have $\\mathbf{b}$ as in (9).  (We will simplify the notation to $\\mathbf{x}_\\text{n}$.)"
   ]
  },
  {
   "cell_type": "markdown",
   "metadata": {},
   "source": [
    "$$\\mathbf{b}=\\begin{bmatrix}0\\\\0\\\\0\\end{bmatrix}\\tag{9}$$"
   ]
  },
  {
   "cell_type": "markdown",
   "metadata": {},
   "source": [
    "Reduction to reduce row-echelon form and following the same principles as above leads us to two nullspace solutions that we can easily calculate using the `.nullspace()` method for the augmented matrix."
   ]
  },
  {
   "cell_type": "code",
   "execution_count": null,
   "metadata": {},
   "outputs": [
    {
     "data": {
      "image/png": "[encoded data removed]",
      "text/latex": [
       "$$\\left ( \\left[\\begin{matrix}1 & 2 & 0 & -2 & 0\\\\0 & 0 & 1 & 2 & 0\\\\0 & 0 & 0 & 0 & 0\\end{matrix}\\right], \\quad \\left ( 0, \\quad 2\\right )\\right )$$"
      ],
      "text/plain": [
       "⎛⎡1  2  0  -2  0⎤        ⎞\n",
       "⎜⎢              ⎥        ⎟\n",
       "⎜⎢0  0  1  2   0⎥, (0, 2)⎟\n",
       "⎜⎢              ⎥        ⎟\n",
       "⎝⎣0  0  0  0   0⎦        ⎠"
      ]
     },
     "execution_count": 16,
     "metadata": {},
     "output_type": "execute_result"
    }
   ],
   "source": [
    "A_augmented_null = Matrix([[1, 2, 2, 2, 0], [2, 4, 6, 8, 0], [3, 6, 8, 10, 0]])\n",
    "A_augmented_null.rref()"
   ]
  },
  {
   "cell_type": "code",
   "execution_count": null,
   "metadata": {},
   "outputs": [
    {
     "data": {
      "text/latex": [
       "$$\\begin{bmatrix}\\left[\\begin{matrix}-2\\\\1\\\\0\\\\0\\end{matrix}\\right], & \\left[\\begin{matrix}2\\\\0\\\\-2\\\\1\\end{matrix}\\right]\\end{bmatrix}$$"
      ],
      "text/plain": [
       "⎡⎡-2⎤, ⎡2 ⎤⎤\n",
       "⎢⎢  ⎥  ⎢  ⎥⎥\n",
       "⎢⎢1 ⎥  ⎢0 ⎥⎥\n",
       "⎢⎢  ⎥  ⎢  ⎥⎥\n",
       "⎢⎢0 ⎥  ⎢-2⎥⎥\n",
       "⎢⎢  ⎥  ⎢  ⎥⎥\n",
       "⎣⎣0 ⎦  ⎣1 ⎦⎦"
      ]
     },
     "execution_count": 8,
     "metadata": {},
     "output_type": "execute_result"
    }
   ],
   "source": [
    "A.nullspace()"
   ]
  },
  {
   "cell_type": "markdown",
   "metadata": {},
   "source": [
    "Let's have a look at how we got here.  We begin with the last row of the reduced row-echelon form.  Since we are free to set a value for $x_4$ (the whole row consisting of zeros), we set it to $t$.  Solving back up through rows $2$ and $1$, we have (10) below."
   ]
  },
  {
   "cell_type": "markdown",
   "metadata": {},
   "source": [
    "$$\\begin{align}&{x_4}=t\\\\&{x_3}+2t=0\\\\&{x_3}=-2t\\\\&{x_1}+2{x_2}-2t=0\\\\&{x_1}=2t-2{x_2}\\end{align}\\tag{10}$$"
   ]
  },
  {
   "cell_type": "markdown",
   "metadata": {},
   "source": [
    "The simplest value to give $t$ is $0$ and with ${x_2}=1$, we have (11)."
   ]
  },
  {
   "cell_type": "markdown",
   "metadata": {},
   "source": [
    "$$\\begin{align}&{x_4}=0\\\\&{x_3}=0\\\\&{x_2}=1\\\\&{x_1}=-2\\end{align}\\tag{11}$$"
   ]
  },
  {
   "cell_type": "markdown",
   "metadata": {},
   "source": [
    "If we set $t=1$ and ${x_2}=0$, we have (12), the other nullspace solution."
   ]
  },
  {
   "cell_type": "markdown",
   "metadata": {},
   "source": [
    "$$\\begin{align}&{x_4}=1\\\\&{x_3}=-2\\\\&{x_2}=0\\\\&{x_1}=2\\end{align}\\tag{12}$$"
   ]
  },
  {
   "cell_type": "markdown",
   "metadata": {},
   "source": [
    "Why did we alternate by giving the unknowns the values $0$ and $1$?  Well, these are the simplest values to give (other than $0$ and $0$, which will be trivial)."
   ]
  },
  {
   "cell_type": "markdown",
   "metadata": {},
   "source": [
    "### The full set of solutions"
   ]
  },
  {
   "cell_type": "markdown",
   "metadata": {},
   "source": [
    "We get the full set of solutions as $\\mathbf{x}=\\mathbf{x}_\\text{p}+\\mathbf{x}_\\text{n}$.  This is shown to be so in (13)."
   ]
  },
  {
   "cell_type": "markdown",
   "metadata": {},
   "source": [
    "$$\\begin{align}&A{\\mathbf{x}}_\\text{p}=b\\\\&A{\\mathbf{x}}_\\text{n}=0\\\\{\\therefore}\\quad&{A}\\left({\\mathbf{x}}_\\text{p}+{\\mathbf{x}}_\\text{n}\\right)=\\mathbf{b}\\end{align}\\tag{13}$$"
   ]
  },
  {
   "cell_type": "markdown",
   "metadata": {},
   "source": [
    "Since we can have constant multiples of the nullspace vector, we have a final solution in (14)."
   ]
  },
  {
   "cell_type": "markdown",
   "metadata": {},
   "source": [
    "$$ \\overline { x } ={ \\overline { x }  }_{ P }+{ \\overline { x }  }_{ N }=\\begin{bmatrix} -2 \\\\ 0 \\\\ \\frac { 3 }{ 2 }  \\\\ 0 \\end{bmatrix}+{ c }_{ 1 }\\begin{bmatrix} -2 \\\\ 1 \\\\ 0 \\\\ 0 \\end{bmatrix}+{ c }_{ 2 }\\begin{bmatrix} -2 \\\\ 0 \\\\ -2 \\\\ 1 \\end{bmatrix} \\tag{14}$$"
   ]
  },
  {
   "cell_type": "markdown",
   "metadata": {},
   "source": [
    "## Rank"
   ]
  },
  {
   "cell_type": "markdown",
   "metadata": {},
   "source": [
    "We discussed rank in the previous lecture.  For any ${m}\\times{n}$ matrix we have a rank (number of pivots).  We cannot have more pivots than rows, therefor, for a matrix $A$, $m\\le\\text{rank}\\left(A\\right)$ and $n\\le\\text{rank}\\left(A\\right)$."
   ]
  },
  {
   "cell_type": "markdown",
   "metadata": {},
   "source": [
    "### The case of full column rank for a matrix $A$, i.e. $\\text{rank}\\left(A\\right)=n$"
   ]
  },
  {
   "cell_type": "markdown",
   "metadata": {},
   "source": [
    "This implies that there are no free variables and the nullspace only has the zero vector (it is a subspace and MUST contain the zero vector.  Thus $\\mathbf{x}=\\mathbf{x}_\\text{p}$ ONLY (if it exists)."
   ]
  },
  {
   "cell_type": "markdown",
   "metadata": {},
   "source": [
    "Consider the example with $2$ columns below.  One column is not a linear combination of the other and the rank will be $2$.  With only 2 unknowns and a rank of $2$, the nullspace will contain only the zero vector, $\\mathbf{0}$."
   ]
  },
  {
   "cell_type": "code",
   "execution_count": null,
   "metadata": {},
   "outputs": [
    {
     "data": {
      "image/png": "[encoded data removed]",
      "text/latex": [
       "$$\\left[\\begin{matrix}1 & 3\\\\2 & 1\\\\6 & 1\\\\5 & 1\\end{matrix}\\right]$$"
      ],
      "text/plain": [
       "⎡1  3⎤\n",
       "⎢    ⎥\n",
       "⎢2  1⎥\n",
       "⎢    ⎥\n",
       "⎢6  1⎥\n",
       "⎢    ⎥\n",
       "⎣5  1⎦"
      ]
     },
     "execution_count": 17,
     "metadata": {},
     "output_type": "execute_result"
    }
   ],
   "source": [
    "A = Matrix([[1, 3], [2, 1], [6, 1], [5, 1]])\n",
    "A"
   ]
  },
  {
   "cell_type": "code",
   "execution_count": null,
   "metadata": {},
   "outputs": [
    {
     "data": {
      "image/png": "[encoded data removed]",
      "text/latex": [
       "$$\\left [ \\right ]$$"
      ],
      "text/plain": [
       "[]"
      ]
     },
     "execution_count": 18,
     "metadata": {},
     "output_type": "execute_result"
    }
   ],
   "source": [
    "A.nullspace()"
   ]
  },
  {
   "cell_type": "code",
   "execution_count": null,
   "metadata": {},
   "outputs": [
    {
     "data": {
      "image/png": "[encoded data removed]",
      "text/latex": [
       "$$\\left ( \\left[\\begin{matrix}1 & 0\\\\0 & 1\\\\0 & 0\\\\0 & 0\\end{matrix}\\right], \\quad \\left ( 0, \\quad 1\\right )\\right )$$"
      ],
      "text/plain": [
       "⎛⎡1  0⎤        ⎞\n",
       "⎜⎢    ⎥        ⎟\n",
       "⎜⎢0  1⎥        ⎟\n",
       "⎜⎢    ⎥, (0, 1)⎟\n",
       "⎜⎢0  0⎥        ⎟\n",
       "⎜⎢    ⎥        ⎟\n",
       "⎝⎣0  0⎦        ⎠"
      ]
     },
     "execution_count": 19,
     "metadata": {},
     "output_type": "execute_result"
    }
   ],
   "source": [
    "A.rref()  # Just to show the reduced row echelon form"
   ]
  },
  {
   "cell_type": "markdown",
   "metadata": {},
   "source": [
    "### The case of full row rank, i.e. $\\text{rank}\\left(A\\right)=m$"
   ]
  },
  {
   "cell_type": "markdown",
   "metadata": {},
   "source": [
    "Here, every row has a pivot.  For which $\\mathbf{b}$ will the the set be solvable?  For ALL $\\mathbf{b}$.  How many free variables?  We are left with $n-\\text{rank}\\left(A\\right)$ or $n-m$ free variables."
   ]
  },
  {
   "cell_type": "code",
   "execution_count": null,
   "metadata": {},
   "outputs": [
    {
     "data": {
      "image/png": "[encoded data removed]",
      "text/latex": [
       "$$\\left[\\begin{matrix}1 & 2 & 6 & 5\\\\3 & 1 & 1 & 1\\end{matrix}\\right]$$"
      ],
      "text/plain": [
       "⎡1  2  6  5⎤\n",
       "⎢          ⎥\n",
       "⎣3  1  1  1⎦"
      ]
     },
     "execution_count": 20,
     "metadata": {},
     "output_type": "execute_result"
    }
   ],
   "source": [
    "A2 = (\n",
    "    A.transpose()\n",
    ")  # Creating a new matrix, which is the transpose of A above (just as an example)\n",
    "A2"
   ]
  },
  {
   "cell_type": "code",
   "execution_count": null,
   "metadata": {},
   "outputs": [
    {
     "data": {
      "image/png": "[encoded data removed]",
      "text/latex": [
       "$$\\left [ \\left[\\begin{matrix}\\frac{4}{5}\\\\- \\frac{17}{5}\\\\1\\\\0\\end{matrix}\\right], \\quad \\left[\\begin{matrix}\\frac{3}{5}\\\\- \\frac{14}{5}\\\\0\\\\1\\end{matrix}\\right]\\right ]$$"
      ],
      "text/plain": [
       "⎡⎡ 4/5 ⎤  ⎡ 3/5 ⎤⎤\n",
       "⎢⎢     ⎥  ⎢     ⎥⎥\n",
       "⎢⎢-17/5⎥  ⎢-14/5⎥⎥\n",
       "⎢⎢     ⎥, ⎢     ⎥⎥\n",
       "⎢⎢  1  ⎥  ⎢  0  ⎥⎥\n",
       "⎢⎢     ⎥  ⎢     ⎥⎥\n",
       "⎣⎣  0  ⎦  ⎣  1  ⎦⎦"
      ]
     },
     "execution_count": 21,
     "metadata": {},
     "output_type": "execute_result"
    }
   ],
   "source": [
    "A2.nullspace()  # Showing the two nullspace solutions"
   ]
  },
  {
   "cell_type": "code",
   "execution_count": null,
   "metadata": {},
   "outputs": [
    {
     "data": {
      "image/png": "[encoded data removed]",
      "text/latex": [
       "$$\\left ( \\left[\\begin{matrix}1 & 0 & - \\frac{4}{5} & - \\frac{3}{5}\\\\0 & 1 & \\frac{17}{5} & \\frac{14}{5}\\end{matrix}\\right], \\quad \\left ( 0, \\quad 1\\right )\\right )$$"
      ],
      "text/plain": [
       "⎛⎡1  0  -4/5  -3/5⎤        ⎞\n",
       "⎜⎢                ⎥, (0, 1)⎟\n",
       "⎝⎣0  1  17/5  14/5⎦        ⎠"
      ]
     },
     "execution_count": 22,
     "metadata": {},
     "output_type": "execute_result"
    }
   ],
   "source": [
    "A2.rref()"
   ]
  },
  {
   "cell_type": "markdown",
   "metadata": {},
   "source": [
    "### The case of full (row and column) rank, i.e. $\\text{rank}\\left(A\\right)=m=n$"
   ]
  },
  {
   "cell_type": "markdown",
   "metadata": {},
   "source": [
    "Let's do an example."
   ]
  },
  {
   "cell_type": "code",
   "execution_count": null,
   "metadata": {},
   "outputs": [
    {
     "data": {
      "image/png": "[encoded data removed]",
      "text/latex": [
       "$$\\left[\\begin{matrix}1 & 2\\\\3 & 1\\end{matrix}\\right]$$"
      ],
      "text/plain": [
       "⎡1  2⎤\n",
       "⎢    ⎥\n",
       "⎣3  1⎦"
      ]
     },
     "execution_count": 23,
     "metadata": {},
     "output_type": "execute_result"
    }
   ],
   "source": [
    "A = Matrix([[1, 2], [3, 1]])\n",
    "A"
   ]
  },
  {
   "cell_type": "code",
   "execution_count": null,
   "metadata": {},
   "outputs": [
    {
     "data": {
      "image/png": "[encoded data removed]",
      "text/latex": [
       "$$\\left [ \\right ]$$"
      ],
      "text/plain": [
       "[]"
      ]
     },
     "execution_count": 24,
     "metadata": {},
     "output_type": "execute_result"
    }
   ],
   "source": [
    "A.nullspace()  # Only the zero vector"
   ]
  },
  {
   "cell_type": "code",
   "execution_count": null,
   "metadata": {},
   "outputs": [
    {
     "data": {
      "image/png": "[encoded data removed]",
      "text/latex": [
       "$$\\left ( \\left[\\begin{matrix}1 & 0\\\\0 & 1\\end{matrix}\\right], \\quad \\left ( 0, \\quad 1\\right )\\right )$$"
      ],
      "text/plain": [
       "⎛⎡1  0⎤        ⎞\n",
       "⎜⎢    ⎥, (0, 1)⎟\n",
       "⎝⎣0  1⎦        ⎠"
      ]
     },
     "execution_count": 25,
     "metadata": {},
     "output_type": "execute_result"
    }
   ],
   "source": [
    "A.rref()"
   ]
  },
  {
   "cell_type": "markdown",
   "metadata": {},
   "source": [
    "This is by definition an invertible matrix (which we will learn about later)."
   ]
  },
  {
   "cell_type": "markdown",
   "metadata": {},
   "source": [
    "Let's look at an non-invertible matrix.  For this $2\\times2$ matrix we will have one free variable (no pivot)."
   ]
  },
  {
   "cell_type": "code",
   "execution_count": null,
   "metadata": {},
   "outputs": [
    {
     "data": {
      "image/png": "[encoded data removed]",
      "text/latex": [
       "$$\\left[\\begin{matrix}2 & 4\\\\3 & 6\\end{matrix}\\right]$$"
      ],
      "text/plain": [
       "⎡2  4⎤\n",
       "⎢    ⎥\n",
       "⎣3  6⎦"
      ]
     },
     "execution_count": 26,
     "metadata": {},
     "output_type": "execute_result"
    }
   ],
   "source": [
    "A = Matrix([[2, 4], [3, 6]])\n",
    "A"
   ]
  },
  {
   "cell_type": "code",
   "execution_count": null,
   "metadata": {},
   "outputs": [
    {
     "data": {
      "image/png": "[encoded data removed]",
      "text/latex": [
       "$$\\left [ \\left[\\begin{matrix}-2\\\\1\\end{matrix}\\right]\\right ]$$"
      ],
      "text/plain": [
       "⎡⎡-2⎤⎤\n",
       "⎢⎢  ⎥⎥\n",
       "⎣⎣1 ⎦⎦"
      ]
     },
     "execution_count": 27,
     "metadata": {},
     "output_type": "execute_result"
    }
   ],
   "source": [
    "A.nullspace()"
   ]
  },
  {
   "cell_type": "code",
   "execution_count": null,
   "metadata": {},
   "outputs": [
    {
     "data": {
      "image/png": "[encoded data removed]",
      "text/latex": [
       "$$\\left ( \\left[\\begin{matrix}1 & 2\\\\0 & 0\\end{matrix}\\right], \\quad \\left ( 0\\right )\\right )$$"
      ],
      "text/plain": [
       "⎛⎡1  2⎤      ⎞\n",
       "⎜⎢    ⎥, (0,)⎟\n",
       "⎝⎣0  0⎦      ⎠"
      ]
     },
     "execution_count": 28,
     "metadata": {},
     "output_type": "execute_result"
    }
   ],
   "source": [
    "A.rref()"
   ]
  },
  {
   "cell_type": "code",
   "execution_count": null,
   "metadata": {},
   "outputs": [],
   "source": []
  }
 ],
 "metadata": {
  "kernelspec": {
   "display_name": "ai-portfolio",
   "language": "python",
   "name": "python3"
  },
  "language_info": {
   "codemirror_mode": {
    "name": "ipython",
    "version": 3
   },
   "file_extension": ".py",
   "mimetype": "text/x-python",
   "name": "python",
   "nbconvert_exporter": "python",
   "pygments_lexer": "ipython3",
   "version": "3.11.13"
  }
 },
 "nbformat": 4,
 "nbformat_minor": 1
}
