{
 "cells": [
  {
   "cell_type": "markdown",
   "id": "95af00b3",
   "metadata": {},
   "source": [
    "### Import libraries"
   ]
  },
  {
   "cell_type": "code",
   "execution_count": 35,
   "id": "840d5eb0",
   "metadata": {},
   "outputs": [],
   "source": [
    "from typing import Annotated, Sequence, TypedDict\n",
    "from dotenv import load_dotenv\n",
    "from IPython.display import display, Image\n",
    "from langchain_core.tools import tool\n",
    "from langchain_core.messages import (\n",
    "    BaseMessage,\n",
    "    HumanMessage,\n",
    "    SystemMessage,\n",
    "    ToolMessage,\n",
    ")\n",
    "from langchain_google_genai import ChatGoogleGenerativeAI\n",
    "from langgraph.graph import StateGraph, START, END\n",
    "from langgraph.graph.message import add_messages\n",
    "from langgraph.prebuilt import tools_condition, ToolNode\n",
    "from langgraph.prebuilt.chat_agent_executor import AgentState"
   ]
  },
  {
   "cell_type": "markdown",
   "id": "c72fe17b",
   "metadata": {},
   "source": [
    "### Load environment variables"
   ]
  },
  {
   "cell_type": "code",
   "execution_count": 36,
   "id": "6eaa51e6",
   "metadata": {},
   "outputs": [
    {
     "data": {
      "text/plain": [
       "True"
      ]
     },
     "execution_count": 36,
     "metadata": {},
     "output_type": "execute_result"
    }
   ],
   "source": [
    "load_dotenv()"
   ]
  },
  {
   "cell_type": "markdown",
   "id": "456cb1ba",
   "metadata": {},
   "source": [
    "### Define tools"
   ]
  },
  {
   "cell_type": "code",
   "execution_count": 37,
   "id": "c3cc868e",
   "metadata": {},
   "outputs": [],
   "source": [
    "@tool\n",
    "def add(x: int, y: int) -> int:\n",
    "    \"Add two integers and return the sum.\"\n",
    "\n",
    "    return x + y\n",
    "\n",
    "\n",
    "@tool\n",
    "def subtract(x: int, y: int) -> int:\n",
    "    \"Subtract two integers and return the difference.\"\n",
    "\n",
    "    return x - y\n",
    "\n",
    "\n",
    "@tool\n",
    "def multiply(x: int, y: int) -> int:\n",
    "    \"\"\"Multiply two integers and return the product.\"\"\"\n",
    "\n",
    "    return x * y\n",
    "\n",
    "\n",
    "@tool\n",
    "def divide(x: int, y: int) -> int:\n",
    "    \"Divide two integers and return the quotient.\"\n",
    "\n",
    "    return int(x / y)\n",
    "\n",
    "\n",
    "tools = [add, subtract, multiply, divide]"
   ]
  },
  {
   "cell_type": "markdown",
   "id": "f739a7a3",
   "metadata": {},
   "source": [
    "### Define LLM Agent"
   ]
  },
  {
   "cell_type": "code",
   "execution_count": 38,
   "id": "327c31aa",
   "metadata": {},
   "outputs": [],
   "source": [
    "llm = ChatGoogleGenerativeAI(model=\"gemini-2.0-flash\", temperature=0).bind_tools(tools)"
   ]
  },
  {
   "cell_type": "markdown",
   "id": "86c8a046",
   "metadata": {},
   "source": [
    "### Define components"
   ]
  },
  {
   "cell_type": "code",
   "execution_count": 39,
   "id": "91e557d3",
   "metadata": {},
   "outputs": [],
   "source": [
    "def invoke_agent(state: AgentState) -> AgentState:\n",
    "    \"\"\"AI chatbot\"\"\"\n",
    "\n",
    "    system_message = SystemMessage(\"You are a helpful AI assistant.\")\n",
    "    response = llm.invoke([system_message] + state[\"messages\"])\n",
    "    return {\"messages\": [response]}"
   ]
  },
  {
   "cell_type": "markdown",
   "id": "bd211b42",
   "metadata": {},
   "source": [
    "### Create graph"
   ]
  },
  {
   "cell_type": "code",
   "execution_count": 40,
   "id": "c4c00da9",
   "metadata": {},
   "outputs": [],
   "source": [
    "# Initialize graph\n",
    "graph = StateGraph(AgentState)\n",
    "\n",
    "# Add nodes\n",
    "graph.add_node(\"Agent\", invoke_agent)\n",
    "tool_node = ToolNode(tools=tools)\n",
    "graph.add_node(\"tools\", tool_node)\n",
    "\n",
    "# Add edges\n",
    "graph.add_edge(START, \"Agent\")\n",
    "graph.add_conditional_edges(\"Agent\", tools_condition)\n",
    "graph.add_edge(\"tools\", \"Agent\")\n",
    "\n",
    "# Compile the graph\n",
    "app = graph.compile()"
   ]
  },
  {
   "cell_type": "markdown",
   "id": "12d4078f",
   "metadata": {},
   "source": [
    "### Display graph"
   ]
  },
  {
   "cell_type": "code",
   "execution_count": 41,
   "id": "dbb0fa14",
   "metadata": {},
   "outputs": [
    {
     "data": {
      "image/png": "[encoded data removed]",
      "text/plain": [
       "<IPython.core.display.Image object>"
      ]
     },
     "metadata": {},
     "output_type": "display_data"
    }
   ],
   "source": [
    "display(Image(app.get_graph().draw_mermaid_png()))"
   ]
  },
  {
   "cell_type": "markdown",
   "id": "4052ab24",
   "metadata": {},
   "source": [
    "### Invoke agent"
   ]
  },
  {
   "cell_type": "code",
   "execution_count": 42,
   "id": "2f9bf265",
   "metadata": {},
   "outputs": [
    {
     "name": "stdout",
     "output_type": "stream",
     "text": [
      "==================================\u001b[1m Ai Message \u001b[0m==================================\n",
      "Tool Calls:\n",
      "  add (e07c2a11-d19a-4c79-af37-cc4e24c01931)\n",
      " Call ID: e07c2a11-d19a-4c79-af37-cc4e24c01931\n",
      "  Args:\n",
      "    y: 3.0\n",
      "    x: 6.0\n",
      "=================================\u001b[1m Tool Message \u001b[0m=================================\n",
      "Name: add\n",
      "\n",
      "9\n",
      "==================================\u001b[1m Ai Message \u001b[0m==================================\n",
      "Tool Calls:\n",
      "  multiply (5413a7b7-3848-4f07-ba3b-c84af724f66a)\n",
      " Call ID: 5413a7b7-3848-4f07-ba3b-c84af724f66a\n",
      "  Args:\n",
      "    y: 4.0\n",
      "    x: 9.0\n",
      "=================================\u001b[1m Tool Message \u001b[0m=================================\n",
      "Name: multiply\n",
      "\n",
      "36\n",
      "==================================\u001b[1m Ai Message \u001b[0m==================================\n",
      "Tool Calls:\n",
      "  divide (37832865-a0ab-4302-a0a8-815eac8ad171)\n",
      " Call ID: 37832865-a0ab-4302-a0a8-815eac8ad171\n",
      "  Args:\n",
      "    y: 3.0\n",
      "    x: 36.0\n",
      "=================================\u001b[1m Tool Message \u001b[0m=================================\n",
      "Name: divide\n",
      "\n",
      "12\n",
      "==================================\u001b[1m Ai Message \u001b[0m==================================\n",
      "Tool Calls:\n",
      "  subtract (da7c87de-4b7a-4dca-b8aa-a7ff93b10a02)\n",
      " Call ID: da7c87de-4b7a-4dca-b8aa-a7ff93b10a02\n",
      "  Args:\n",
      "    y: 1.0\n",
      "    x: 12.0\n",
      "=================================\u001b[1m Tool Message \u001b[0m=================================\n",
      "Name: subtract\n",
      "\n",
      "11\n",
      "==================================\u001b[1m Ai Message \u001b[0m==================================\n",
      "\n",
      "The answer is 11.\n",
      "\n",
      "Why don't scientists trust atoms?\n",
      "\n",
      "Because they make up everything!\n"
     ]
    }
   ],
   "source": [
    "# Define your input messages\n",
    "input = {\n",
    "    \"messages\": [\n",
    "        HumanMessage(\n",
    "            content=\"Add 6 and 3, then multiply the result by 4, then divide it by 3 and subtract 1 from it. Also, tell me a joke.\"\n",
    "        )\n",
    "    ]\n",
    "}\n",
    "\n",
    "# If you don't need streaming, just get the final result\n",
    "for chunk in app.stream(input):\n",
    "    for messages in chunk.values():\n",
    "        if isinstance(messages, dict) and \"messages\" in messages:\n",
    "            messages[\"messages\"][-1].pretty_print()\n",
    "        elif hasattr(messages, \"pretty_print\"):\n",
    "            messages.pretty_print()"
   ]
  },
  {
   "cell_type": "code",
   "execution_count": null,
   "id": "6c9f0327",
   "metadata": {},
   "outputs": [],
   "source": []
  }
 ],
 "metadata": {
  "kernelspec": {
   "display_name": "ai-portfolio",
   "language": "python",
   "name": "python3"
  },
  "language_info": {
   "codemirror_mode": {
    "name": "ipython",
    "version": 3
   },
   "file_extension": ".py",
   "mimetype": "text/x-python",
   "name": "python",
   "nbconvert_exporter": "python",
   "pygments_lexer": "ipython3",
   "version": "3.12.10"
  }
 },
 "nbformat": 4,
 "nbformat_minor": 5
}
