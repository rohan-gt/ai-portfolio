{
 "cells": [
  {
   "cell_type": "markdown",
   "metadata": {},
   "source": [
    "# 6. Binary Search"
   ]
  },
  {
   "cell_type": "markdown",
   "metadata": {},
   "source": [
    "## Binary Search"
   ]
  },
  {
   "cell_type": "code",
   "execution_count": null,
   "metadata": {
    "colab": {
     "base_uri": "https://localhost:8080/"
    },
    "id": "YwA_239uVvix",
    "outputId": "d84b00ca-3930-4b13-eab8-99dcf9e21103"
   },
   "outputs": [
    {
     "name": "stdout",
     "output_type": "stream",
     "text": [
      "True\n"
     ]
    },
    {
     "data": {
      "text/plain": [
       "False"
      ]
     },
     "execution_count": 2,
     "metadata": {},
     "output_type": "execute_result"
    }
   ],
   "source": [
    "def binary_search(array: list[int], target: int) -> bool:\n",
    "    \"\"\"\n",
    "    Time Complexity: O(log₂n)\n",
    "        Space Complexity: O(1)\n",
    "    \"\"\"\n",
    "    n = len(array)\n",
    "    left = 0\n",
    "    right = n - 1\n",
    "    while left <= right:\n",
    "        middle = left + ((right - left) // 2)\n",
    "        if array[middle] == target:\n",
    "            return True\n",
    "\n",
    "        elif target < array[middle]:\n",
    "            right = middle - 1\n",
    "\n",
    "        else:\n",
    "            left = middle + 1\n",
    "\n",
    "    return False\n",
    "\n",
    "\n",
    "A = [-3, -1, 0, 1, 4, 7]\n",
    "print(binary_search(A, 1))\n",
    "binary_search(A, 8)"
   ]
  },
  {
   "cell_type": "markdown",
   "metadata": {},
   "source": [
    "## Condition based Binary Search"
   ]
  },
  {
   "cell_type": "code",
   "execution_count": null,
   "metadata": {
    "colab": {
     "base_uri": "https://localhost:8080/"
    },
    "id": "B9Gy0p0wZ9cF",
    "outputId": "235c728f-6137-4211-faea-61cbb95fd5c4"
   },
   "outputs": [
    {
     "data": {
      "text/plain": [
       "4"
      ]
     },
     "execution_count": 10,
     "metadata": {},
     "output_type": "execute_result"
    }
   ],
   "source": [
    "def find_first_true(array: list[int]) -> int:\n",
    "    n = len(array)\n",
    "    left = 0\n",
    "    right = n - 1\n",
    "    while left <= right:\n",
    "        middle = (left + right) // 2\n",
    "        if array[middle]:\n",
    "            right = middle - 1\n",
    "\n",
    "        else:\n",
    "            left = middle + 1\n",
    "\n",
    "    return left\n",
    "\n",
    "\n",
    "B = [False, False, False, False, True, True]\n",
    "find_first_true(B)"
   ]
  },
  {
   "cell_type": "markdown",
   "metadata": {},
   "source": [
    "## Range based Binary Search"
   ]
  },
  {
   "cell_type": "code",
   "execution_count": 3,
   "metadata": {
    "colab": {
     "base_uri": "https://localhost:8080/"
    },
    "id": "2vIseXsgJfY5",
    "outputId": "7c90a690-842a-4e25-a479-62f5576014a8"
   },
   "outputs": [
    {
     "name": "stdout",
     "output_type": "stream",
     "text": [
      "The guessed number is: 2\n"
     ]
    }
   ],
   "source": [
    "def guess_number(target: int, left: int, right: int) -> int:\n",
    "    while left <= right:\n",
    "        middle = (left + right) // 2\n",
    "        if middle == target:\n",
    "            return middle  # Found the number\n",
    "\n",
    "        elif middle < target:\n",
    "            left = middle + 1\n",
    "        else:\n",
    "            right = middle - 1\n",
    "\n",
    "    return -1  # Target not found\n",
    "\n",
    "\n",
    "result = guess_number(2, 1, 100)\n",
    "print(f\"The guessed number is: {result}\")"
   ]
  },
  {
   "cell_type": "code",
   "execution_count": null,
   "metadata": {},
   "outputs": [],
   "source": []
  }
 ],
 "metadata": {
  "colab": {
   "provenance": []
  },
  "kernelspec": {
   "display_name": "ai-portfolio",
   "language": "python",
   "name": "python3"
  },
  "language_info": {
   "codemirror_mode": {
    "name": "ipython",
    "version": 3
   },
   "file_extension": ".py",
   "mimetype": "text/x-python",
   "name": "python",
   "nbconvert_exporter": "python",
   "pygments_lexer": "ipython3",
   "version": "3.13.5"
  }
 },
 "nbformat": 4,
 "nbformat_minor": 0
}
