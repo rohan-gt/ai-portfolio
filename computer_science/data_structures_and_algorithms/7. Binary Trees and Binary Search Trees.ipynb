{
 "cells": [
  {
   "cell_type": "markdown",
   "metadata": {},
   "source": [
    "# 7. Binary Trees and Binary Search Trees"
   ]
  },
  {
   "cell_type": "markdown",
   "metadata": {},
   "source": [
    "## Binary Tree"
   ]
  },
  {
   "cell_type": "code",
   "execution_count": null,
   "metadata": {
    "id": "7h4OTtXSECxT"
   },
   "outputs": [
    {
     "name": "stdout",
     "output_type": "stream",
     "text": [
      "1\n"
     ]
    }
   ],
   "source": [
    "from __future__ import annotations\n",
    "\n",
    "\n",
    "class TreeNode:\n",
    "    def __init__(\n",
    "        self, val, left: TreeNode | None = None, right: TreeNode | None = None\n",
    "    ):\n",
    "        self.val = val\n",
    "        self.left = left\n",
    "        self.right = right\n",
    "\n",
    "    def __str__(self) -> str:\n",
    "        return str(self.val)\n",
    "\n",
    "\n",
    "#        1\n",
    "#     2    3\n",
    "#   4  5  10\n",
    "A = TreeNode(1)\n",
    "B = TreeNode(2)\n",
    "C = TreeNode(3)\n",
    "D = TreeNode(4)\n",
    "E = TreeNode(5)\n",
    "F = TreeNode(10)\n",
    "\n",
    "A.left = B\n",
    "A.right = C\n",
    "B.left = D\n",
    "B.right = E\n",
    "C.left = F\n",
    "\n",
    "print(A)"
   ]
  },
  {
   "cell_type": "markdown",
   "metadata": {},
   "source": [
    "### Depth-First Search (DFS)"
   ]
  },
  {
   "cell_type": "markdown",
   "metadata": {},
   "source": [
    "#### Recursive Traversal"
   ]
  },
  {
   "cell_type": "code",
   "execution_count": 6,
   "metadata": {
    "colab": {
     "base_uri": "https://localhost:8080/"
    },
    "id": "8n9hg9LFE6Xx",
    "outputId": "22f6912f-4362-48a8-95d3-e3a251dd802d"
   },
   "outputs": [
    {
     "name": "stdout",
     "output_type": "stream",
     "text": [
      "Pre-Order\n",
      "1\n",
      "2\n",
      "4\n",
      "5\n",
      "3\n",
      "10\n",
      "\n",
      "In-Order\n",
      "4\n",
      "2\n",
      "5\n",
      "1\n",
      "10\n",
      "3\n",
      "\n",
      "Post-Order\n",
      "4\n",
      "5\n",
      "2\n",
      "10\n",
      "3\n",
      "1\n"
     ]
    }
   ],
   "source": [
    "from typing import Literal\n",
    "\n",
    "\n",
    "def traverse(\n",
    "    node: TreeNode, method: Literal[\"preorder\", \"inorder\", \"postorder\"] = \"preorder\"\n",
    ") -> None:\n",
    "    \"\"\"\n",
    "    Time Complexity: O(n)\n",
    "        Space Complexity: O(n)\n",
    "    \"\"\"\n",
    "    if not node:\n",
    "        return\n",
    "\n",
    "    if method == \"preorder\":\n",
    "        print(node)\n",
    "        traverse(node.left, method)\n",
    "        traverse(node.right, method)\n",
    "\n",
    "    elif method == \"inorder\":\n",
    "        traverse(node.left, method)\n",
    "        print(node)\n",
    "        traverse(node.right, method)\n",
    "\n",
    "    elif method == \"postorder\":\n",
    "        traverse(node.left, method)\n",
    "        traverse(node.right, method)\n",
    "        print(node)\n",
    "\n",
    "    else:\n",
    "        raise ValueError(\"Method must be 'preorder', 'inorder', or 'postorder'\")\n",
    "\n",
    "\n",
    "print(\"Pre-Order\")\n",
    "traverse(A)\n",
    "print(\"\\nIn-Order\")\n",
    "traverse(A, method=\"inorder\")\n",
    "print(\"\\nPost-Order\")\n",
    "traverse(A, method=\"postorder\")"
   ]
  },
  {
   "cell_type": "markdown",
   "metadata": {},
   "source": [
    "#### Iterative Traversal"
   ]
  },
  {
   "cell_type": "code",
   "execution_count": null,
   "metadata": {
    "colab": {
     "base_uri": "https://localhost:8080/"
    },
    "id": "H_WmyK8nFzQi",
    "outputId": "bd3cd4f8-ae94-40c7-a907-3d5a80c8a191"
   },
   "outputs": [
    {
     "name": "stdout",
     "output_type": "stream",
     "text": [
      "1\n",
      "2\n",
      "4\n",
      "5\n",
      "3\n",
      "10\n"
     ]
    }
   ],
   "source": [
    "def preorder_iterative(node: TreeNode):\n",
    "    \"\"\"\n",
    "    Time Complexity: O(n)\n",
    "        Space Complexity: O(n)\n",
    "    \"\"\"\n",
    "    stack = [node]\n",
    "    while stack:\n",
    "        node = stack.pop()\n",
    "        if node.right:\n",
    "            stack.append(node.right)\n",
    "\n",
    "        if node.left:\n",
    "            stack.append(node.left)\n",
    "\n",
    "        print(node)\n",
    "\n",
    "\n",
    "preorder_iterative(A)"
   ]
  },
  {
   "cell_type": "markdown",
   "metadata": {},
   "source": [
    "### Breadth-First Search (BFS)"
   ]
  },
  {
   "cell_type": "code",
   "execution_count": 9,
   "metadata": {
    "colab": {
     "base_uri": "https://localhost:8080/"
    },
    "id": "AxeydQf1GSxV",
    "outputId": "90e9c735-b692-4a12-8085-1e0398f8fa04"
   },
   "outputs": [
    {
     "name": "stdout",
     "output_type": "stream",
     "text": [
      "1\n",
      "2\n",
      "3\n",
      "4\n",
      "5\n",
      "10\n"
     ]
    }
   ],
   "source": [
    "# Level Order Traversal (BFS) Time: O(n), Space: O(n)\n",
    "from collections import deque\n",
    "\n",
    "\n",
    "def level_order(node: TreeNode):\n",
    "    \"\"\"\n",
    "    Time Complexity: O(n)\n",
    "        Space Complexity: O(n)\n",
    "    \"\"\"\n",
    "    q = deque()\n",
    "    q.append(node)\n",
    "    while q:\n",
    "        node = q.popleft()\n",
    "        print(node)\n",
    "        if node.left:\n",
    "            q.append(node.left)\n",
    "\n",
    "        if node.right:\n",
    "            q.append(node.right)\n",
    "\n",
    "\n",
    "level_order(A)"
   ]
  },
  {
   "cell_type": "markdown",
   "metadata": {},
   "source": [
    "### Check if element exists (DFS)"
   ]
  },
  {
   "cell_type": "code",
   "execution_count": 14,
   "metadata": {
    "colab": {
     "base_uri": "https://localhost:8080/"
    },
    "id": "xGSDliNyHK6T",
    "outputId": "df0cdce8-4fb9-4eb5-c8ff-a67d8ce71423"
   },
   "outputs": [
    {
     "data": {
      "text/plain": [
       "False"
      ]
     },
     "execution_count": 14,
     "metadata": {},
     "output_type": "execute_result"
    }
   ],
   "source": [
    "def search(node: TreeNode, target: int) -> bool:\n",
    "    \"\"\"\n",
    "    Time Complexity: O(n)\n",
    "        Space Complexity: O(n)\n",
    "    \"\"\"\n",
    "    if not node:\n",
    "        return False\n",
    "\n",
    "    if node.val == target:\n",
    "        return True\n",
    "\n",
    "    return search(node.left, target) or search(node.right, target)\n",
    "\n",
    "\n",
    "search(A, 11)"
   ]
  },
  {
   "cell_type": "markdown",
   "metadata": {},
   "source": [
    "## Binary Search Tree"
   ]
  },
  {
   "cell_type": "code",
   "execution_count": 12,
   "metadata": {
    "colab": {
     "base_uri": "https://localhost:8080/"
    },
    "id": "uZ_QZWiQHvth",
    "outputId": "6af60a17-ebad-4942-9f69-0c8d4eac2c9b"
   },
   "outputs": [
    {
     "name": "stdout",
     "output_type": "stream",
     "text": [
      "5\n"
     ]
    }
   ],
   "source": [
    "#       5\n",
    "#    1    8\n",
    "#  -1 3  7 9\n",
    "A2 = TreeNode(5)\n",
    "B2 = TreeNode(1)\n",
    "C2 = TreeNode(8)\n",
    "D2 = TreeNode(-1)\n",
    "E2 = TreeNode(3)\n",
    "F2 = TreeNode(7)\n",
    "G2 = TreeNode(9)\n",
    "\n",
    "A2.left, A2.right = B2, C2\n",
    "B2.left, B2.right = D2, E2\n",
    "C2.left, C2.right = F2, G2\n",
    "\n",
    "print(A2)"
   ]
  },
  {
   "cell_type": "markdown",
   "metadata": {},
   "source": [
    "### Traverse (DFS)"
   ]
  },
  {
   "cell_type": "code",
   "execution_count": 13,
   "metadata": {
    "colab": {
     "base_uri": "https://localhost:8080/"
    },
    "id": "nKeCrVKOIiwB",
    "outputId": "cdd128e4-ca16-4ae0-e913-05a36f2f8f46"
   },
   "outputs": [
    {
     "name": "stdout",
     "output_type": "stream",
     "text": [
      "-1\n",
      "1\n",
      "3\n",
      "5\n",
      "7\n",
      "8\n",
      "9\n"
     ]
    }
   ],
   "source": [
    "traverse(A2, method=\"inorder\")"
   ]
  },
  {
   "cell_type": "markdown",
   "metadata": {},
   "source": [
    "### Recursive Search"
   ]
  },
  {
   "cell_type": "code",
   "execution_count": null,
   "metadata": {
    "colab": {
     "base_uri": "https://localhost:8080/"
    },
    "id": "Dtd3DHqyInBy",
    "outputId": "14a474f7-312e-4c53-c02a-76805406d600"
   },
   "outputs": [
    {
     "data": {
      "text/plain": [
       "True"
      ]
     },
     "execution_count": 23,
     "metadata": {},
     "output_type": "execute_result"
    }
   ],
   "source": [
    "def bst_search(node, target):\n",
    "    \"\"\"\n",
    "    Time Complexity: O(log₂n)\n",
    "        Space Complexity: O(log₂n)\n",
    "    \"\"\"\n",
    "    if not node:\n",
    "        return False\n",
    "\n",
    "    if node.val == target:\n",
    "        return True\n",
    "\n",
    "    if target < node.val:\n",
    "        return bst_search(node.left, target)\n",
    "\n",
    "    else:\n",
    "        return bst_search(node.right, target)\n",
    "\n",
    "\n",
    "bst_search(A2, -1)"
   ]
  },
  {
   "cell_type": "code",
   "execution_count": null,
   "metadata": {
    "id": "3VcuVGjfJLd5"
   },
   "outputs": [],
   "source": []
  }
 ],
 "metadata": {
  "colab": {
   "provenance": []
  },
  "kernelspec": {
   "display_name": "ai-portfolio",
   "language": "python",
   "name": "python3"
  },
  "language_info": {
   "codemirror_mode": {
    "name": "ipython",
    "version": 3
   },
   "file_extension": ".py",
   "mimetype": "text/x-python",
   "name": "python",
   "nbconvert_exporter": "python",
   "pygments_lexer": "ipython3",
   "version": "3.13.5"
  }
 },
 "nbformat": 4,
 "nbformat_minor": 0
}
