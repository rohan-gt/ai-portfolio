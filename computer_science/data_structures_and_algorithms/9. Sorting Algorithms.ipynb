{
 "cells": [
  {
   "cell_type": "markdown",
   "metadata": {},
   "source": [
    "# 9. Sorting Algorithms"
   ]
  },
  {
   "cell_type": "markdown",
   "metadata": {},
   "source": [
    "## Bubble Sort"
   ]
  },
  {
   "cell_type": "code",
   "execution_count": null,
   "metadata": {
    "colab": {
     "base_uri": "https://localhost:8080/"
    },
    "id": "Y7uSsgoLKOMJ",
    "outputId": "68d442c5-3834-4210-cf24-992ec2f35a50"
   },
   "outputs": [
    {
     "data": {
      "text/plain": [
       "[-5, -3, -3, 1, 2, 2, 2, 3, 7]"
      ]
     },
     "execution_count": 2,
     "metadata": {},
     "output_type": "execute_result"
    }
   ],
   "source": [
    "def bubble_sort(array: list[int]):\n",
    "    \"\"\"\n",
    "    Time Complexity: O(n²)\n",
    "    Space Complexity: O(1)\n",
    "    \"\"\"\n",
    "    n = len(array)\n",
    "    flag = True\n",
    "    while flag:\n",
    "        flag = False\n",
    "        for i in range(1, n):\n",
    "            if array[i - 1] > array[i]:\n",
    "                flag = True\n",
    "                array[i - 1], array[i] = array[i], array[i - 1]\n",
    "\n",
    "\n",
    "A = [-5, 3, 2, 1, -3, -3, 7, 2, 2]\n",
    "bubble_sort(A)\n",
    "A"
   ]
  },
  {
   "cell_type": "markdown",
   "metadata": {},
   "source": [
    "## Insertion Sort"
   ]
  },
  {
   "cell_type": "code",
   "execution_count": null,
   "metadata": {
    "colab": {
     "base_uri": "https://localhost:8080/"
    },
    "id": "syLh9GpNLCA3",
    "outputId": "0e6d3598-6cb6-43e0-d4ac-18859fb03f94"
   },
   "outputs": [
    {
     "data": {
      "text/plain": [
       "[-5, -3, -3, 1, 2, 2, 2, 3, 7]"
      ]
     },
     "execution_count": 3,
     "metadata": {},
     "output_type": "execute_result"
    }
   ],
   "source": [
    "def insertion_sort(array: list[int]):\n",
    "    \"\"\"\n",
    "    Time Complexity: O(n²)\n",
    "    Space Complexity: O(1)\n",
    "    \"\"\"\n",
    "    n = len(array)\n",
    "    for i in range(1, n):\n",
    "        for j in range(i, 0, -1):\n",
    "            if array[j - 1] > array[j]:\n",
    "                array[j - 1], array[j] = array[j], array[j - 1]\n",
    "\n",
    "            else:\n",
    "                break\n",
    "\n",
    "\n",
    "B = [-5, 3, 2, 1, -3, -3, 7, 2, 2]\n",
    "insertion_sort(B)\n",
    "B"
   ]
  },
  {
   "cell_type": "markdown",
   "metadata": {},
   "source": [
    "## Selection Sort"
   ]
  },
  {
   "cell_type": "code",
   "execution_count": null,
   "metadata": {
    "colab": {
     "base_uri": "https://localhost:8080/"
    },
    "id": "d0gJZWZoMUbZ",
    "outputId": "d6237fba-5f9a-4595-cb2c-309a75d0e8b8"
   },
   "outputs": [
    {
     "data": {
      "text/plain": [
       "[-5, -3, -3, 1, 2, 2, 2, 3, 7]"
      ]
     },
     "execution_count": 4,
     "metadata": {},
     "output_type": "execute_result"
    }
   ],
   "source": [
    "def selection_sort(array: list[int]):\n",
    "    \"\"\"\n",
    "    Time Complexity: O(n²)\n",
    "    Space Complexity: O(1)\n",
    "    \"\"\"\n",
    "    n = len(array)\n",
    "    for i in range(n):\n",
    "        min_index = i\n",
    "        for j in range(i + 1, n):\n",
    "            if array[j] < array[min_index]:\n",
    "                min_index = j\n",
    "\n",
    "        array[i], array[min_index] = array[min_index], array[i]\n",
    "\n",
    "\n",
    "C = [-3, 3, 2, 1, -5, -3, 7, 2, 2]\n",
    "selection_sort(C)\n",
    "C"
   ]
  },
  {
   "cell_type": "markdown",
   "metadata": {},
   "source": [
    "## Merge Sort"
   ]
  },
  {
   "cell_type": "code",
   "execution_count": null,
   "metadata": {
    "colab": {
     "base_uri": "https://localhost:8080/"
    },
    "id": "RrivlLObNL7w",
    "outputId": "2760bce8-ec7f-4dda-fa81-5e0d206fb781"
   },
   "outputs": [
    {
     "data": {
      "text/plain": [
       "[-5, -3, -3, 1, 2, 2, 2, 3, 7]"
      ]
     },
     "execution_count": 1,
     "metadata": {},
     "output_type": "execute_result"
    }
   ],
   "source": [
    "def merge_sort(array: list[int]):\n",
    "    \"\"\"\n",
    "    Time Complexity: O(nlog₂n)\n",
    "    Space Complexity: O(n) (Can be log₂n, but this is harder to write)\n",
    "    \"\"\"\n",
    "    n = len(array)\n",
    "\n",
    "    if n == 1:\n",
    "        return array\n",
    "\n",
    "    middle = len(array) // 2\n",
    "    left = array[:middle]\n",
    "    right = array[middle:]\n",
    "\n",
    "    left = merge_sort(left)\n",
    "    right = merge_sort(right)\n",
    "    l, r = 0, 0\n",
    "    left_len = len(left)\n",
    "    right_len = len(right)\n",
    "\n",
    "    sorted_arr = [0] * n\n",
    "    i = 0\n",
    "\n",
    "    while l < left_len and r < right_len:\n",
    "        if left[l] < right[r]:\n",
    "            sorted_arr[i] = left[l]\n",
    "            l += 1\n",
    "        else:\n",
    "            sorted_arr[i] = right[r]\n",
    "            r += 1\n",
    "\n",
    "        i += 1\n",
    "\n",
    "    while l < left_len:\n",
    "        sorted_arr[i] = left[l]\n",
    "        l += 1\n",
    "        i += 1\n",
    "\n",
    "    while r < right_len:\n",
    "        sorted_arr[i] = right[r]\n",
    "        r += 1\n",
    "        i += 1\n",
    "\n",
    "    return sorted_arr\n",
    "\n",
    "\n",
    "D = [-5, 3, 2, 1, -3, -3, 7, 2, 2]\n",
    "merge_sort(D)"
   ]
  },
  {
   "cell_type": "markdown",
   "metadata": {},
   "source": [
    "## Quick Sort"
   ]
  },
  {
   "cell_type": "code",
   "execution_count": null,
   "metadata": {
    "colab": {
     "base_uri": "https://localhost:8080/"
    },
    "id": "eHjk5GrAPOBS",
    "outputId": "de012db9-d90f-4964-b5fc-1307275cd5e6"
   },
   "outputs": [
    {
     "data": {
      "text/plain": [
       "[-5, -3, -3, 1, 2, 2, 2, 3, 7]"
      ]
     },
     "execution_count": 10,
     "metadata": {},
     "output_type": "execute_result"
    }
   ],
   "source": [
    "def quick_sort(array: list[int]):\n",
    "    \"\"\"\n",
    "    Time Complexity: O(nlog₂n) (Worst case is O(n²))\n",
    "    Space Complexity: O(n)\n",
    "    \"\"\"\n",
    "    if len(array) <= 1:\n",
    "        return array\n",
    "\n",
    "    pivot = array[-1]\n",
    "\n",
    "    left = [x for x in array[:-1] if x <= pivot]\n",
    "    right = [x for x in array[:-1] if x > pivot]\n",
    "\n",
    "    left = quick_sort(left)\n",
    "    right = quick_sort(right)\n",
    "\n",
    "    return left + [pivot] + right\n",
    "\n",
    "\n",
    "E = [-5, 3, 2, 1, -3, -3, 7, 2, 2]\n",
    "quick_sort(E)"
   ]
  },
  {
   "cell_type": "markdown",
   "metadata": {},
   "source": [
    "## Counting Sort"
   ]
  },
  {
   "cell_type": "code",
   "execution_count": null,
   "metadata": {
    "colab": {
     "base_uri": "https://localhost:8080/"
    },
    "id": "jNrTaMLuQX5X",
    "outputId": "0f6a121b-cb28-431a-e7a3-e51961c43f03"
   },
   "outputs": [
    {
     "data": {
      "text/plain": [
       "[1, 2, 2, 2, 3, 3, 3, 5, 7]"
      ]
     },
     "execution_count": 11,
     "metadata": {},
     "output_type": "execute_result"
    }
   ],
   "source": [
    "def counting_sort(array: list[int]):\n",
    "    \"\"\"\n",
    "    Time Complexity: O(n + k) (Where k is the range of data)\n",
    "        Space Complexity: O(k)\n",
    "    Note: This can be written with negative arrays, but we'll stick to positive arrays,\n",
    "              so k is the max of the array\n",
    "    \"\"\"\n",
    "    n = len(array)\n",
    "    maxx = max(array)\n",
    "    counts = [0] * (maxx + 1)\n",
    "\n",
    "    for x in array:\n",
    "        counts[x] += 1\n",
    "\n",
    "    i = 0\n",
    "    for c in range(maxx + 1):\n",
    "        while counts[c] > 0:\n",
    "            array[i] = c\n",
    "            i += 1\n",
    "            counts[c] -= 1\n",
    "\n",
    "\n",
    "F = [5, 3, 2, 1, 3, 3, 7, 2, 2]\n",
    "counting_sort(F)\n",
    "F"
   ]
  },
  {
   "cell_type": "markdown",
   "metadata": {},
   "source": [
    "## TimSort"
   ]
  },
  {
   "cell_type": "markdown",
   "metadata": {},
   "source": [
    "### Sort in-place"
   ]
  },
  {
   "cell_type": "code",
   "execution_count": null,
   "metadata": {
    "colab": {
     "base_uri": "https://localhost:8080/"
    },
    "id": "mpQ-R8zyRp3f",
    "outputId": "227b9c0e-bbd2-44ff-ee18-d4dbdb490113"
   },
   "outputs": [
    {
     "data": {
      "text/plain": [
       "[-5, -3, -3, 1, 2, 2, 2, 3, 7]"
      ]
     },
     "execution_count": 9,
     "metadata": {},
     "output_type": "execute_result"
    }
   ],
   "source": [
    "# Time Complexity: O(nlog₂n)\n",
    "# Space Complexity: O(1)\n",
    "G = [-5, 3, 2, 1, -3, -3, 7, 2, 2]\n",
    "G.sort()\n",
    "G"
   ]
  },
  {
   "cell_type": "markdown",
   "metadata": {},
   "source": [
    "### Created sorted copy"
   ]
  },
  {
   "cell_type": "code",
   "execution_count": 3,
   "metadata": {
    "colab": {
     "base_uri": "https://localhost:8080/"
    },
    "id": "K8GJ5eW7RyIS",
    "outputId": "0386d1a1-caeb-492b-e2e1-4ddda0cb087b"
   },
   "outputs": [
    {
     "data": {
      "text/plain": [
       "([-5, 3, 2, 1, -3, -3, 7, 2, 2], [-5, -3, -3, 1, 2, 2, 2, 3, 7])"
      ]
     },
     "execution_count": 3,
     "metadata": {},
     "output_type": "execute_result"
    }
   ],
   "source": [
    "# Time Complexity: O(nlog₂n)\n",
    "# Space Complexity: O(n)\n",
    "H = [-5, 3, 2, 1, -3, -3, 7, 2, 2]\n",
    "sorted_H = sorted(H)\n",
    "H, sorted_H"
   ]
  },
  {
   "cell_type": "markdown",
   "metadata": {},
   "source": [
    "### Sort array of tuples in desceding order"
   ]
  },
  {
   "cell_type": "code",
   "execution_count": 4,
   "metadata": {
    "colab": {
     "base_uri": "https://localhost:8080/"
    },
    "id": "Kr5gQqTwR86c",
    "outputId": "cbefca29-e261-4cb9-f007-73acbfd9a297"
   },
   "outputs": [
    {
     "data": {
      "text/plain": [
       "[(-5, 3), (7, 2), (2, 2), (2, 1), (-3, -3)]"
      ]
     },
     "execution_count": 4,
     "metadata": {},
     "output_type": "execute_result"
    }
   ],
   "source": [
    "I = [(-5, 3), (2, 1), (-3, -3), (7, 2), (2, 2)]\n",
    "sorted_I = sorted(I, key=lambda t: -t[1])\n",
    "sorted_I"
   ]
  },
  {
   "cell_type": "code",
   "execution_count": null,
   "metadata": {
    "id": "4_4rhQY4SO9B"
   },
   "outputs": [],
   "source": []
  }
 ],
 "metadata": {
  "colab": {
   "provenance": []
  },
  "kernelspec": {
   "display_name": "ai-portfolio",
   "language": "python",
   "name": "python3"
  },
  "language_info": {
   "codemirror_mode": {
    "name": "ipython",
    "version": 3
   },
   "file_extension": ".py",
   "mimetype": "text/x-python",
   "name": "python",
   "nbconvert_exporter": "python",
   "pygments_lexer": "ipython3",
   "version": "3.11.13"
  }
 },
 "nbformat": 4,
 "nbformat_minor": 0
}
