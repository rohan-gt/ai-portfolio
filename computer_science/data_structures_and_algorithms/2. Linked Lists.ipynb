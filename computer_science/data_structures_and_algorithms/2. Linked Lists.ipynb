{
 "cells": [
  {
   "cell_type": "markdown",
   "metadata": {},
   "source": [
    "# 2. Linked Lists"
   ]
  },
  {
   "cell_type": "markdown",
   "metadata": {},
   "source": [
    "## Singly Linked List"
   ]
  },
  {
   "cell_type": "code",
   "execution_count": 19,
   "metadata": {
    "id": "5fn9_iiHT9-k"
   },
   "outputs": [
    {
     "name": "stdout",
     "output_type": "stream",
     "text": [
      "1\n"
     ]
    }
   ],
   "source": [
    "from __future__ import annotations\n",
    "\n",
    "\n",
    "class SinglyNode:\n",
    "    def __init__(self, value: int, next: SinglyNode | None = None):\n",
    "        self.value = value\n",
    "        self.next = next\n",
    "\n",
    "    def __str__(self) -> str:\n",
    "        return str(self.value)\n",
    "\n",
    "\n",
    "head = SinglyNode(1)\n",
    "A = SinglyNode(3)\n",
    "B = SinglyNode(4)\n",
    "C = SinglyNode(7)\n",
    "\n",
    "head.next = A\n",
    "A.next = B\n",
    "B.next = C\n",
    "\n",
    "print(head)"
   ]
  },
  {
   "cell_type": "markdown",
   "metadata": {},
   "source": [
    "### Traverse"
   ]
  },
  {
   "cell_type": "code",
   "execution_count": 5,
   "metadata": {
    "colab": {
     "base_uri": "https://localhost:8080/"
    },
    "id": "oRCXNAkSVMPZ",
    "outputId": "c989a80b-d7a4-48a5-ecec-fbece0ee783f"
   },
   "outputs": [
    {
     "name": "stdout",
     "output_type": "stream",
     "text": [
      "1\n",
      "3\n",
      "4\n",
      "7\n"
     ]
    }
   ],
   "source": [
    "# Time Complexity: O(n)\n",
    "curr = head\n",
    "while curr:\n",
    "    print(curr)\n",
    "    curr = curr.next"
   ]
  },
  {
   "cell_type": "markdown",
   "metadata": {},
   "source": [
    "### Display"
   ]
  },
  {
   "cell_type": "code",
   "execution_count": 6,
   "metadata": {
    "colab": {
     "base_uri": "https://localhost:8080/"
    },
    "id": "UjMNwpn1VaNH",
    "outputId": "d119a84d-1e52-439e-e889-54ec6ba83cc7"
   },
   "outputs": [
    {
     "name": "stdout",
     "output_type": "stream",
     "text": [
      "1 -> 3 -> 4 -> 7\n"
     ]
    }
   ],
   "source": [
    "# Time Complexity: O(n)\n",
    "def display_singly(head: SinglyNode):\n",
    "    curr = head\n",
    "    elements = []\n",
    "    while curr:\n",
    "        elements.append(str(curr.value))\n",
    "        curr = curr.next\n",
    "\n",
    "    print(\" -> \".join(elements))\n",
    "\n",
    "\n",
    "display_singly(head)"
   ]
  },
  {
   "cell_type": "markdown",
   "metadata": {},
   "source": [
    "### Check if value exists"
   ]
  },
  {
   "cell_type": "code",
   "execution_count": 7,
   "metadata": {
    "colab": {
     "base_uri": "https://localhost:8080/"
    },
    "id": "JZ2t1LsYWC7F",
    "outputId": "b9867ca5-433f-439b-9dd7-ccbf01532651"
   },
   "outputs": [
    {
     "data": {
      "text/plain": [
       "True"
      ]
     },
     "execution_count": 7,
     "metadata": {},
     "output_type": "execute_result"
    }
   ],
   "source": [
    "# Time Complexity: O(n)\n",
    "def contains(head: SinglyNode, value: int):\n",
    "    curr = head\n",
    "    while curr:\n",
    "        if value == curr.value:\n",
    "            return True\n",
    "\n",
    "        curr = curr.next\n",
    "\n",
    "    return False\n",
    "\n",
    "\n",
    "contains(head, 7)"
   ]
  },
  {
   "cell_type": "markdown",
   "metadata": {},
   "source": [
    "## Doubly Linked List"
   ]
  },
  {
   "cell_type": "code",
   "execution_count": 8,
   "metadata": {
    "id": "NTxqi-LMWVTT"
   },
   "outputs": [
    {
     "name": "stdout",
     "output_type": "stream",
     "text": [
      "1\n"
     ]
    }
   ],
   "source": [
    "class DoublyNode:\n",
    "    def __init__(\n",
    "        self, value: int, next: DoublyNode | None = None, prev: DoublyNode | None = None\n",
    "    ):\n",
    "        self.value = value\n",
    "        self.next = next\n",
    "        self.prev = prev\n",
    "\n",
    "    def __str__(self) -> str:\n",
    "        return str(self.value)\n",
    "\n",
    "\n",
    "head = tail = DoublyNode(1)\n",
    "print(tail)"
   ]
  },
  {
   "cell_type": "markdown",
   "metadata": {},
   "source": [
    "### Display"
   ]
  },
  {
   "cell_type": "code",
   "execution_count": 9,
   "metadata": {
    "colab": {
     "base_uri": "https://localhost:8080/"
    },
    "id": "Mb5z9hPgW28E",
    "outputId": "2df4edb1-e7fb-4596-8df8-2e290a07e2a7"
   },
   "outputs": [
    {
     "name": "stdout",
     "output_type": "stream",
     "text": [
      "1\n"
     ]
    }
   ],
   "source": [
    "# Time Complexity: O(n)\n",
    "def display_doubly(head: DoublyNode):\n",
    "    curr = head\n",
    "    elements = []\n",
    "    while curr:\n",
    "        elements.append(str(curr.value))\n",
    "        curr = curr.next\n",
    "\n",
    "    print(\" <-> \".join(elements))\n",
    "\n",
    "\n",
    "display_doubly(head)"
   ]
  },
  {
   "cell_type": "markdown",
   "metadata": {},
   "source": [
    "### Insert node at beginning"
   ]
  },
  {
   "cell_type": "code",
   "execution_count": 10,
   "metadata": {
    "colab": {
     "base_uri": "https://localhost:8080/"
    },
    "id": "AKWYlHVXXb7T",
    "outputId": "0f59e669-eeb2-432b-cd88-efc4b8e86e75"
   },
   "outputs": [
    {
     "name": "stdout",
     "output_type": "stream",
     "text": [
      "3 <-> 1\n"
     ]
    }
   ],
   "source": [
    "# Time Complexity: O(1)\n",
    "def insert_at_beginning(head: DoublyNode, tail: DoublyNode, value: int):\n",
    "    new_node = DoublyNode(value, next=head)\n",
    "    head.prev = new_node\n",
    "\n",
    "    return new_node, tail\n",
    "\n",
    "\n",
    "head, tail = insert_at_beginning(head, tail, 3)\n",
    "display_doubly(head)"
   ]
  },
  {
   "cell_type": "markdown",
   "metadata": {},
   "source": [
    "### Insert node at end"
   ]
  },
  {
   "cell_type": "code",
   "execution_count": 11,
   "metadata": {
    "colab": {
     "base_uri": "https://localhost:8080/"
    },
    "id": "7xHxKYiyX_DC",
    "outputId": "79050cad-fde3-478e-f986-7a0166f9f7b4"
   },
   "outputs": [
    {
     "name": "stdout",
     "output_type": "stream",
     "text": [
      "3 <-> 1 <-> 7\n"
     ]
    }
   ],
   "source": [
    "# Time Complexity: O(1)\n",
    "def insert_at_end(head: DoublyNode, tail: DoublyNode, value: int):\n",
    "    node = DoublyNode(value, prev=tail)\n",
    "    tail.next = node\n",
    "\n",
    "    return head, node\n",
    "\n",
    "\n",
    "head, tail = insert_at_end(head, tail, 7)\n",
    "display_doubly(head)"
   ]
  },
  {
   "cell_type": "markdown",
   "metadata": {},
   "source": [
    "## Circular Singly Linked List"
   ]
  },
  {
   "cell_type": "code",
   "execution_count": 12,
   "metadata": {
    "id": "jgZ02dQDYQ1q"
   },
   "outputs": [],
   "source": [
    "head = SinglyNode(1)\n",
    "A = SinglyNode(3)\n",
    "B = SinglyNode(4)\n",
    "C = SinglyNode(7)\n",
    "\n",
    "head.next = A\n",
    "A.next = B\n",
    "B.next = C\n",
    "C.next = head  # circular connection"
   ]
  },
  {
   "cell_type": "markdown",
   "metadata": {},
   "source": [
    "### Display"
   ]
  },
  {
   "cell_type": "code",
   "execution_count": 13,
   "metadata": {},
   "outputs": [
    {
     "name": "stdout",
     "output_type": "stream",
     "text": [
      "1 -> 3 -> 4 -> 7 -> (head)\n"
     ]
    }
   ],
   "source": [
    "# Time Complexity: O(n)\n",
    "def display_circular_singly(head: SinglyNode):\n",
    "    elements = []\n",
    "    curr = head\n",
    "    while True:\n",
    "        elements.append(str(curr.value))\n",
    "        curr = curr.next\n",
    "        if curr == head:\n",
    "            break\n",
    "\n",
    "    print(\" -> \".join(elements) + \" -> (head)\")\n",
    "\n",
    "\n",
    "display_circular_singly(head)"
   ]
  },
  {
   "cell_type": "markdown",
   "metadata": {},
   "source": [
    "### Check if exisits"
   ]
  },
  {
   "cell_type": "code",
   "execution_count": 14,
   "metadata": {},
   "outputs": [
    {
     "name": "stdout",
     "output_type": "stream",
     "text": [
      "True\n"
     ]
    }
   ],
   "source": [
    "# Time Complexity: O(n)\n",
    "def contains_circular(head: SinglyNode, value: int):\n",
    "    curr = head\n",
    "    while True:\n",
    "        if curr.value == value:\n",
    "            return True\n",
    "\n",
    "        curr = curr.next\n",
    "        if curr == head:\n",
    "            break\n",
    "\n",
    "    return False\n",
    "\n",
    "\n",
    "print(contains_circular(head, 7))"
   ]
  },
  {
   "cell_type": "markdown",
   "metadata": {},
   "source": [
    "## Circular Doubly Linked List"
   ]
  },
  {
   "cell_type": "code",
   "execution_count": 15,
   "metadata": {},
   "outputs": [],
   "source": [
    "head = tail = DoublyNode(1)\n",
    "A = DoublyNode(3)\n",
    "B = DoublyNode(4)\n",
    "\n",
    "head.next = A\n",
    "A.prev = head\n",
    "A.next = B\n",
    "B.prev = A\n",
    "B.next = head\n",
    "head.prev = B\n",
    "tail = B"
   ]
  },
  {
   "cell_type": "markdown",
   "metadata": {},
   "source": [
    "### Display"
   ]
  },
  {
   "cell_type": "code",
   "execution_count": 16,
   "metadata": {},
   "outputs": [
    {
     "name": "stdout",
     "output_type": "stream",
     "text": [
      "1 <-> 3 <-> 4 <-> (head)\n"
     ]
    }
   ],
   "source": [
    "# Time Complexity: O(n)\n",
    "def display_circular_doubly(head: DoublyNode):\n",
    "    elements = []\n",
    "    curr = head\n",
    "    while True:\n",
    "        elements.append(str(curr.value))\n",
    "        curr = curr.next\n",
    "        if curr == head:\n",
    "            break\n",
    "\n",
    "    print(\" <-> \".join(elements) + \" <-> (head)\")\n",
    "\n",
    "\n",
    "display_circular_doubly(head)"
   ]
  },
  {
   "cell_type": "markdown",
   "metadata": {},
   "source": [
    "### Insert node"
   ]
  },
  {
   "cell_type": "code",
   "execution_count": 17,
   "metadata": {},
   "outputs": [
    {
     "name": "stdout",
     "output_type": "stream",
     "text": [
      "1 <-> 3 <-> 4 <-> 7 <-> (head)\n"
     ]
    }
   ],
   "source": [
    "# Time Complexity: O(1)\n",
    "def insert_circular_doubly(head: DoublyNode, tail: DoublyNode, value: int):\n",
    "    node = DoublyNode(value, next=head, prev=tail)\n",
    "    tail.next = node\n",
    "    head.prev = node\n",
    "    return head, node\n",
    "\n",
    "\n",
    "head, tail = insert_circular_doubly(head, tail, 7)\n",
    "display_circular_doubly(head)"
   ]
  },
  {
   "cell_type": "code",
   "execution_count": null,
   "metadata": {},
   "outputs": [],
   "source": []
  }
 ],
 "metadata": {
  "colab": {
   "provenance": []
  },
  "kernelspec": {
   "display_name": "ai-portfolio",
   "language": "python",
   "name": "python3"
  },
  "language_info": {
   "codemirror_mode": {
    "name": "ipython",
    "version": 3
   },
   "file_extension": ".py",
   "mimetype": "text/x-python",
   "name": "python",
   "nbconvert_exporter": "python",
   "pygments_lexer": "ipython3",
   "version": "3.13.5"
  }
 },
 "nbformat": 4,
 "nbformat_minor": 0
}
